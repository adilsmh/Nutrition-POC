{
 "cells": [
  {
   "cell_type": "markdown",
   "id": "5bd27801",
   "metadata": {
    "heading_collapsed": true
   },
   "source": [
    "# 🍊 OPENFOODFACTS - Part 1"
   ]
  },
  {
   "cell_type": "markdown",
   "id": "ef5f764a",
   "metadata": {
    "hidden": true
   },
   "source": [
    "<ul><li>Stockage de l'ensemble des données dans une BDD</li>\n",
    "<li>Connexion à votre base via un script Python</li>\n",
    "<li>Répondez aux questions SQL en PJ</li></ul>"
   ]
  },
  {
   "cell_type": "markdown",
   "id": "ca8570f1",
   "metadata": {},
   "source": [
    "# 📄 Préparation du data pour import dans base SQL"
   ]
  },
  {
   "cell_type": "code",
   "execution_count": 3,
   "id": "f352b75e",
   "metadata": {},
   "outputs": [],
   "source": [
    "import numpy as np\n",
    "import pandas as pd\n",
    "\n",
    "from sqlalchemy import create_engine\n",
    "\n",
    "import warnings\n",
    "warnings.filterwarnings(\"ignore\")"
   ]
  },
  {
   "cell_type": "code",
   "execution_count": 24,
   "outputs": [],
   "source": [
    "path = '../data/data_raw.csv'\n",
    "\n",
    "cols = ['product_name','quantity','nutrition-score-fr_100g','nutriscore_score', 'nutriscore_grade', 'brands', 'origins', 'ingredients_text', 'countries',\n",
    "                'labels', 'energy-kcal_100g', 'fat_100g', 'saturated-fat_100g', 'carbohydrates_100g', 'sugars_100g', 'sodium_100g', 'additives', 'vitamin-c_100g', 'nova_group', 'pnns_groups_1', 'pnns_groups_2']\n",
    "\n",
    "country = 'France'\n",
    "\n",
    "def import_csv(path, cols):\n",
    "    # load dataset\n",
    "    df = pd.read_csv(path, sep='\\t', error_bad_lines=False)\n",
    "    # display all columns\n",
    "    pd.set_option('display.max_columns', None)\n",
    "    # new df with selected columns\n",
    "    clean_df = df[cols]\n",
    "    # replace NaN by 0 on entire dataframe\n",
    "    clean_df.fillna(0)\n",
    "    # replace values \"en:fr\" , \"en:france\", \"en:FR\" by \"France\" in countries\n",
    "    clean_df['countries'] = clean_df['countries'].replace(['en:fr', 'en:france', 'en:FR', 'fr', 'en:France'],'France')\n",
    "    # keep only the product with needed country\n",
    "    clean_df = clean_df.loc[clean_df['countries'] == country]\n",
    "\n",
    "    return clean_df\n"
   ],
   "metadata": {
    "collapsed": false,
    "pycharm": {
     "name": "#%%\n"
    }
   }
  },
  {
   "cell_type": "code",
   "execution_count": null,
   "outputs": [],
   "source": [
    "df = import_csv(path, cols)"
   ],
   "metadata": {
    "collapsed": false,
    "pycharm": {
     "name": "#%%\n"
    }
   }
  },
  {
   "cell_type": "markdown",
   "source": [
    "# 🔍 SQL"
   ],
   "metadata": {
    "collapsed": false,
    "pycharm": {
     "name": "#%% md\n"
    }
   }
  },
  {
   "cell_type": "code",
   "execution_count": 35,
   "outputs": [],
   "source": [
    "queries = [\"SELECT count(*) AS 'products_count', nutriscore_grade FROM openfood.products GROUP by nutriscore_grade;\",\n",
    "           \"SELECT nutriscore_grade, COUNT(*) * 100.0 / (SELECT COUNT(*) FROM openfood.products) FROM openfood.products GROUP by nutriscore_grade;\",\n",
    "           \"SELECT AVG(fiber_100g) AS 'moyenne fibres', nutriscore_grade FROM openfood.products GROUP BY nutriscore_grade;\",\n",
    "           \"SELECT pnns_groups_2, MAX(additives_n) FROM openfood.products GROUP BY pnns_groups_2 LIMIT 10;\",\n",
    "           \"SELECT AVG(sugars_100g) AS 'Moyenne Sucre', product_name FROM openfood.products WHERE nutriscore_grade='a' OR nutriscore_grade='b' GROUP BY product_name;\",\n",
    "           \"SELECT COUNT(DISTINCT product_name) AS 'Total des produits' FROM openfood.products WHERE carbohydrates_100g > sugars_100g;\"\n",
    "           ]\n",
    "\n",
    "def export_db(df):\n",
    "    # database connection\n",
    "    hostname=\"127.0.0.1\"\n",
    "    dbname=\"openfood\"\n",
    "    uname=\"root\"\n",
    "    pwd=\"root\"\n",
    "\n",
    "    # create SQLAlchemy engine to connect to MySQL Database\n",
    "    engine = create_engine(\"mysql+pymysql://{user}:{pw}@{host}/{db}\".format(host=hostname, db=dbname, user=uname, pw=pwd))\n",
    "\n",
    "    # import df into SQL db\n",
    "    #df.to_sql('products', engine, index=False)\n",
    "\n",
    "    # array containg queries df\n",
    "    queries_df = []\n",
    "\n",
    "    # export queries responses as dataframes\n",
    "    for i in queries:\n",
    "        queries_df.append(pd.read_sql(i, engine))\n",
    "\n",
    "    return queries_df\n"
   ],
   "metadata": {
    "collapsed": false,
    "pycharm": {
     "name": "#%%\n"
    }
   }
  },
  {
   "cell_type": "code",
   "execution_count": null,
   "outputs": [],
   "source": [
    "export_db(df)"
   ],
   "metadata": {
    "collapsed": false,
    "pycharm": {
     "name": "#%%\n"
    }
   }
  }
 ],
 "metadata": {
  "kernelspec": {
   "display_name": "Python 3",
   "language": "python",
   "name": "python3"
  },
  "language_info": {
   "codemirror_mode": {
    "name": "ipython",
    "version": 3
   },
   "file_extension": ".py",
   "mimetype": "text/x-python",
   "name": "python",
   "nbconvert_exporter": "python",
   "pygments_lexer": "ipython3",
   "version": "3.8.8"
  },
  "toc": {
   "base_numbering": 1,
   "nav_menu": {},
   "number_sections": true,
   "sideBar": true,
   "skip_h1_title": false,
   "title_cell": "Table of Contents",
   "title_sidebar": "Contents",
   "toc_cell": false,
   "toc_position": {},
   "toc_section_display": true,
   "toc_window_display": false
  },
  "varInspector": {
   "cols": {
    "lenName": 16,
    "lenType": 16,
    "lenVar": 40
   },
   "kernels_config": {
    "python": {
     "delete_cmd_postfix": "",
     "delete_cmd_prefix": "del ",
     "library": "var_list.py",
     "varRefreshCmd": "print(var_dic_list())"
    },
    "r": {
     "delete_cmd_postfix": ") ",
     "delete_cmd_prefix": "rm(",
     "library": "var_list.r",
     "varRefreshCmd": "cat(var_dic_list()) "
    }
   },
   "types_to_exclude": [
    "module",
    "function",
    "builtin_function_or_method",
    "instance",
    "_Feature"
   ],
   "window_display": false
  }
 },
 "nbformat": 4,
 "nbformat_minor": 5
}