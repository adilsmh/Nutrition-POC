{
 "cells": [
  {
   "cell_type": "markdown",
   "id": "3baa16b0",
   "metadata": {},
   "source": [
    "# 🍊 Orange is the new black"
   ]
  },
  {
   "cell_type": "markdown",
   "source": [
    "## Importing libraries"
   ],
   "metadata": {
    "collapsed": false,
    "pycharm": {
     "name": "#%% md\n"
    }
   }
  },
  {
   "cell_type": "code",
   "execution_count": 8,
   "outputs": [],
   "source": [
    "import numpy as np\n",
    "import pandas as pd\n",
    "import matplotlib.pyplot as plt\n",
    "import seaborn as sns\n",
    "\n",
    "import csv\n",
    "import sqlalchemy as db\n",
    "from sqlalchemy import create_engine, types\n",
    "\n",
    "import warnings\n",
    "warnings.filterwarnings(\"ignore\")"
   ],
   "metadata": {
    "collapsed": false,
    "pycharm": {
     "name": "#%%\n"
    }
   }
  },
  {
   "cell_type": "markdown",
   "source": [
    "## Importing data from MySQL"
   ],
   "metadata": {
    "collapsed": false,
    "pycharm": {
     "name": "#%% md\n"
    }
   }
  },
  {
   "cell_type": "code",
   "execution_count": 10,
   "outputs": [
    {
     "data": {
      "text/plain": "<sqlalchemy.engine.base.Connection at 0x20e25afd280>"
     },
     "execution_count": 10,
     "metadata": {},
     "output_type": "execute_result"
    }
   ],
   "source": [
    "# define connection credentials\n",
    "hostname=\"127.0.0.1\"\n",
    "dbname=\"nutrition\"\n",
    "uname=\"root\"\n",
    "pwd=\"root\"\n",
    "\n",
    "# define engine connection\n",
    "engine = create_engine(\"mysql+pymysql://{user}:{pw}@{host}/{db}\".format(host=hostname, db=dbname, user=uname, pw=pwd))\n",
    "# connect into database\n",
    "engine.connect()"
   ],
   "metadata": {
    "collapsed": false,
    "pycharm": {
     "name": "#%%\n"
    }
   }
  },
  {
   "cell_type": "code",
   "execution_count": 11,
   "outputs": [],
   "source": [
    "# importing data from nutrition table\n",
    "#df = pd.read_sql_query('SELECT * FROM nutrition.products', engine)"
   ],
   "metadata": {
    "collapsed": false,
    "pycharm": {
     "name": "#%%\n"
    }
   }
  },
  {
   "cell_type": "markdown",
   "source": [
    "---------------------"
   ],
   "metadata": {
    "collapsed": false,
    "pycharm": {
     "name": "#%% md\n"
    }
   }
  },
  {
   "cell_type": "markdown",
   "source": [
    "## Data Preprocessing"
   ],
   "metadata": {
    "collapsed": false,
    "pycharm": {
     "name": "#%% md\n"
    }
   }
  },
  {
   "cell_type": "code",
   "execution_count": 21,
   "outputs": [],
   "source": [
    "df = pd.read_csv('../data/data_oranges.csv')"
   ],
   "metadata": {
    "collapsed": false,
    "pycharm": {
     "name": "#%%\n"
    }
   }
  },
  {
   "cell_type": "markdown",
   "source": [
    "### **Notes**\n",
    "\n",
    "Import du fichier CSV brut contenant toutes les données relatives à notre cible : le jus d'orange.\n",
    "- 2458 lignes / 174 colonnes\n",
    "- Pourçentage élevé de valeurs manquantes"
   ],
   "metadata": {
    "collapsed": false,
    "pycharm": {
     "name": "#%% md\n"
    }
   }
  },
  {
   "cell_type": "markdown",
   "source": [
    "### Data Cleaning"
   ],
   "metadata": {
    "collapsed": false,
    "pycharm": {
     "name": "#%% md\n"
    }
   }
  },
  {
   "cell_type": "code",
   "execution_count": 24,
   "id": "6e796fbe",
   "metadata": {},
   "outputs": [],
   "source": [
    "# read imported data set\n",
    "clean_df = df"
   ]
  },
  {
   "cell_type": "code",
   "execution_count": 23,
   "id": "2cdd2edd",
   "metadata": {},
   "outputs": [
    {
     "data": {
      "text/plain": "(1099, 17)"
     },
     "execution_count": 23,
     "metadata": {},
     "output_type": "execute_result"
    }
   ],
   "source": [
    "# 2458 rows / 174 columns\n",
    "df.shape"
   ]
  },
  {
   "cell_type": "code",
   "execution_count": 15,
   "id": "e9a04ecd",
   "metadata": {},
   "outputs": [
    {
     "data": {
      "text/plain": "Text(0.5, 1.0, '% of NaN nans per column')"
     },
     "execution_count": 15,
     "metadata": {},
     "output_type": "execute_result"
    },
    {
     "data": {
      "text/plain": "<Figure size 720x360 with 1 Axes>",
      "image/png": "[encoded data removed]"
     },
     "metadata": {
      "needs_background": "light"
     },
     "output_type": "display_data"
    }
   ],
   "source": [
    "# checking missing values by plotting percentage per column\n",
    "nan_percent = df.isnull().sum().sort_values(ascending=False) / df.shape[0] * 100\n",
    "\n",
    "plt.figure(figsize=(10,5))\n",
    "sns.distplot(nan_percent, bins=100, kde=False)\n",
    "plt.xlabel(\"% NaN\")\n",
    "plt.ylabel(\"Number of columns\")\n",
    "plt.title(\"% of NaN nans per column\")"
   ]
  },
  {
   "cell_type": "markdown",
   "source": [
    "## **Notes**\n",
    "\n",
    "Nous conservons uniquement les colonnes contenant au moins 60% ou plus de données valides et nous supprimons également manuellement quelques colonnes jugées inutiles pour notre analyse (exemple : url de l'image).\n",
    "\n",
    "Nous obtenons ainsi une réduction conséquente des colonnes : 17 au lieu de 174"
   ],
   "metadata": {
    "collapsed": false,
    "pycharm": {
     "name": "#%% md\n"
    }
   }
  },
  {
   "cell_type": "code",
   "execution_count": 16,
   "id": "5c996ce4",
   "metadata": {},
   "outputs": [],
   "source": [
    "# keep only columns where 60% or more valid data is available\n",
    "clean_df=df.dropna(how='any',axis=1,thresh=df.shape[0]*0.6)"
   ]
  },
  {
   "cell_type": "code",
   "execution_count": 17,
   "id": "ccb14bb2",
   "metadata": {},
   "outputs": [
    {
     "data": {
      "text/plain": "product_name                               0\ncarbohydrates_100g                         0\nenergy_kcal_100g                           0\nenergy_100g                                0\nfat_100g                                   0\nsaturated_fat_100g                         0\ntrans_fat_100g                             0\ncholesterol_100g                           0\nsugars_100g                                0\nbrands                                     0\nfiber_100g                                 0\nproteins_100g                              0\nsalt_100g                                  0\nsodium_100g                                0\ncalcium_100g                               0\niron_100g                                  0\nmain_category                              0\nbrand_owner                                0\npnns_groups_2                              0\npnns_groups_1                              0\nnova_group                                 0\nnutriscore_grade                           0\nnutriscore_score                           0\ningredients_that_may_be_from_palm_oil_n    0\ningredients_from_palm_oil_n                0\nadditives_n                                0\nserving_quantity                           0\nserving_size                               0\ningredients_text                           0\ncountries                                  0\ncategories_tags                            0\ncategories                                 0\nbrands_tags                                0\nnutrition_score_fr_100g                    0\ndtype: int64"
     },
     "execution_count": 17,
     "metadata": {},
     "output_type": "execute_result"
    }
   ],
   "source": [
    "# sum of NaN values on 35 columns\n",
    "clean_df.isnull().sum().sort_values(ascending=False)"
   ]
  },
  {
   "cell_type": "code",
   "execution_count": 20,
   "outputs": [
    {
     "ename": "KeyError",
     "evalue": "\"['code' 'creator' 'created_t' 'last_modified_t' 'states' 'url'\\n 'image_small_url' 'image_front_url' 'image_front_small_url' 'image_url'\\n 'image_ingredients_small_url' 'image_ingredients_url'\\n 'image_nutrition_small_url' 'image_nutrition_url'] not found in axis\"",
     "output_type": "error",
     "traceback": [
      "\u001B[1;31m---------------------------------------------------------------------------\u001B[0m",
      "\u001B[1;31mKeyError\u001B[0m                                  Traceback (most recent call last)",
      "\u001B[1;32m<ipython-input-20-1775a7f8cd83>\u001B[0m in \u001B[0;36m<module>\u001B[1;34m\u001B[0m\n\u001B[0;32m      1\u001B[0m \u001B[1;31m# delete some columns\u001B[0m\u001B[1;33m\u001B[0m\u001B[1;33m\u001B[0m\u001B[1;33m\u001B[0m\u001B[0m\n\u001B[1;32m----> 2\u001B[1;33m \u001B[0mclean_df\u001B[0m\u001B[1;33m.\u001B[0m\u001B[0mdrop\u001B[0m\u001B[1;33m(\u001B[0m\u001B[1;33m[\u001B[0m\u001B[1;34m'code'\u001B[0m\u001B[1;33m,\u001B[0m \u001B[1;34m'creator'\u001B[0m\u001B[1;33m,\u001B[0m \u001B[1;34m'created_t'\u001B[0m\u001B[1;33m,\u001B[0m \u001B[1;34m'last_modified_t'\u001B[0m\u001B[1;33m,\u001B[0m \u001B[1;34m'states'\u001B[0m\u001B[1;33m,\u001B[0m \u001B[1;34m'url'\u001B[0m\u001B[1;33m,\u001B[0m \u001B[1;34m'image_small_url'\u001B[0m\u001B[1;33m,\u001B[0m \u001B[1;34m'image_front_url'\u001B[0m\u001B[1;33m,\u001B[0m \u001B[1;34m'image_front_small_url'\u001B[0m\u001B[1;33m,\u001B[0m\u001B[1;34m'image_url'\u001B[0m\u001B[1;33m,\u001B[0m \u001B[1;34m'main_category'\u001B[0m\u001B[1;33m,\u001B[0m \u001B[1;34m'categories'\u001B[0m\u001B[1;33m,\u001B[0m \u001B[1;34m'categories_tags'\u001B[0m\u001B[1;33m,\u001B[0m \u001B[1;34m'image_ingredients_small_url'\u001B[0m\u001B[1;33m,\u001B[0m \u001B[1;34m'image_ingredients_url'\u001B[0m\u001B[1;33m,\u001B[0m \u001B[1;34m'brands_tags'\u001B[0m\u001B[1;33m,\u001B[0m \u001B[1;34m'image_nutrition_small_url'\u001B[0m\u001B[1;33m,\u001B[0m \u001B[1;34m'image_nutrition_url'\u001B[0m\u001B[1;33m]\u001B[0m\u001B[1;33m,\u001B[0m \u001B[0maxis\u001B[0m\u001B[1;33m=\u001B[0m\u001B[1;36m1\u001B[0m\u001B[1;33m,\u001B[0m \u001B[0minplace\u001B[0m\u001B[1;33m=\u001B[0m\u001B[1;32mTrue\u001B[0m\u001B[1;33m)\u001B[0m\u001B[1;33m\u001B[0m\u001B[1;33m\u001B[0m\u001B[0m\n\u001B[0m",
      "\u001B[1;32m~\\anaconda3\\lib\\site-packages\\pandas\\core\\frame.py\u001B[0m in \u001B[0;36mdrop\u001B[1;34m(self, labels, axis, index, columns, level, inplace, errors)\u001B[0m\n\u001B[0;32m   4306\u001B[0m                 \u001B[0mweight\u001B[0m  \u001B[1;36m1.0\u001B[0m     \u001B[1;36m0.8\u001B[0m\u001B[1;33m\u001B[0m\u001B[1;33m\u001B[0m\u001B[0m\n\u001B[0;32m   4307\u001B[0m         \"\"\"\n\u001B[1;32m-> 4308\u001B[1;33m         return super().drop(\n\u001B[0m\u001B[0;32m   4309\u001B[0m             \u001B[0mlabels\u001B[0m\u001B[1;33m=\u001B[0m\u001B[0mlabels\u001B[0m\u001B[1;33m,\u001B[0m\u001B[1;33m\u001B[0m\u001B[1;33m\u001B[0m\u001B[0m\n\u001B[0;32m   4310\u001B[0m             \u001B[0maxis\u001B[0m\u001B[1;33m=\u001B[0m\u001B[0maxis\u001B[0m\u001B[1;33m,\u001B[0m\u001B[1;33m\u001B[0m\u001B[1;33m\u001B[0m\u001B[0m\n",
      "\u001B[1;32m~\\anaconda3\\lib\\site-packages\\pandas\\core\\generic.py\u001B[0m in \u001B[0;36mdrop\u001B[1;34m(self, labels, axis, index, columns, level, inplace, errors)\u001B[0m\n\u001B[0;32m   4151\u001B[0m         \u001B[1;32mfor\u001B[0m \u001B[0maxis\u001B[0m\u001B[1;33m,\u001B[0m \u001B[0mlabels\u001B[0m \u001B[1;32min\u001B[0m \u001B[0maxes\u001B[0m\u001B[1;33m.\u001B[0m\u001B[0mitems\u001B[0m\u001B[1;33m(\u001B[0m\u001B[1;33m)\u001B[0m\u001B[1;33m:\u001B[0m\u001B[1;33m\u001B[0m\u001B[1;33m\u001B[0m\u001B[0m\n\u001B[0;32m   4152\u001B[0m             \u001B[1;32mif\u001B[0m \u001B[0mlabels\u001B[0m \u001B[1;32mis\u001B[0m \u001B[1;32mnot\u001B[0m \u001B[1;32mNone\u001B[0m\u001B[1;33m:\u001B[0m\u001B[1;33m\u001B[0m\u001B[1;33m\u001B[0m\u001B[0m\n\u001B[1;32m-> 4153\u001B[1;33m                 \u001B[0mobj\u001B[0m \u001B[1;33m=\u001B[0m \u001B[0mobj\u001B[0m\u001B[1;33m.\u001B[0m\u001B[0m_drop_axis\u001B[0m\u001B[1;33m(\u001B[0m\u001B[0mlabels\u001B[0m\u001B[1;33m,\u001B[0m \u001B[0maxis\u001B[0m\u001B[1;33m,\u001B[0m \u001B[0mlevel\u001B[0m\u001B[1;33m=\u001B[0m\u001B[0mlevel\u001B[0m\u001B[1;33m,\u001B[0m \u001B[0merrors\u001B[0m\u001B[1;33m=\u001B[0m\u001B[0merrors\u001B[0m\u001B[1;33m)\u001B[0m\u001B[1;33m\u001B[0m\u001B[1;33m\u001B[0m\u001B[0m\n\u001B[0m\u001B[0;32m   4154\u001B[0m \u001B[1;33m\u001B[0m\u001B[0m\n\u001B[0;32m   4155\u001B[0m         \u001B[1;32mif\u001B[0m \u001B[0minplace\u001B[0m\u001B[1;33m:\u001B[0m\u001B[1;33m\u001B[0m\u001B[1;33m\u001B[0m\u001B[0m\n",
      "\u001B[1;32m~\\anaconda3\\lib\\site-packages\\pandas\\core\\generic.py\u001B[0m in \u001B[0;36m_drop_axis\u001B[1;34m(self, labels, axis, level, errors)\u001B[0m\n\u001B[0;32m   4186\u001B[0m                 \u001B[0mnew_axis\u001B[0m \u001B[1;33m=\u001B[0m \u001B[0maxis\u001B[0m\u001B[1;33m.\u001B[0m\u001B[0mdrop\u001B[0m\u001B[1;33m(\u001B[0m\u001B[0mlabels\u001B[0m\u001B[1;33m,\u001B[0m \u001B[0mlevel\u001B[0m\u001B[1;33m=\u001B[0m\u001B[0mlevel\u001B[0m\u001B[1;33m,\u001B[0m \u001B[0merrors\u001B[0m\u001B[1;33m=\u001B[0m\u001B[0merrors\u001B[0m\u001B[1;33m)\u001B[0m\u001B[1;33m\u001B[0m\u001B[1;33m\u001B[0m\u001B[0m\n\u001B[0;32m   4187\u001B[0m             \u001B[1;32melse\u001B[0m\u001B[1;33m:\u001B[0m\u001B[1;33m\u001B[0m\u001B[1;33m\u001B[0m\u001B[0m\n\u001B[1;32m-> 4188\u001B[1;33m                 \u001B[0mnew_axis\u001B[0m \u001B[1;33m=\u001B[0m \u001B[0maxis\u001B[0m\u001B[1;33m.\u001B[0m\u001B[0mdrop\u001B[0m\u001B[1;33m(\u001B[0m\u001B[0mlabels\u001B[0m\u001B[1;33m,\u001B[0m \u001B[0merrors\u001B[0m\u001B[1;33m=\u001B[0m\u001B[0merrors\u001B[0m\u001B[1;33m)\u001B[0m\u001B[1;33m\u001B[0m\u001B[1;33m\u001B[0m\u001B[0m\n\u001B[0m\u001B[0;32m   4189\u001B[0m             \u001B[0mresult\u001B[0m \u001B[1;33m=\u001B[0m \u001B[0mself\u001B[0m\u001B[1;33m.\u001B[0m\u001B[0mreindex\u001B[0m\u001B[1;33m(\u001B[0m\u001B[1;33m**\u001B[0m\u001B[1;33m{\u001B[0m\u001B[0maxis_name\u001B[0m\u001B[1;33m:\u001B[0m \u001B[0mnew_axis\u001B[0m\u001B[1;33m}\u001B[0m\u001B[1;33m)\u001B[0m\u001B[1;33m\u001B[0m\u001B[1;33m\u001B[0m\u001B[0m\n\u001B[0;32m   4190\u001B[0m \u001B[1;33m\u001B[0m\u001B[0m\n",
      "\u001B[1;32m~\\anaconda3\\lib\\site-packages\\pandas\\core\\indexes\\base.py\u001B[0m in \u001B[0;36mdrop\u001B[1;34m(self, labels, errors)\u001B[0m\n\u001B[0;32m   5589\u001B[0m         \u001B[1;32mif\u001B[0m \u001B[0mmask\u001B[0m\u001B[1;33m.\u001B[0m\u001B[0many\u001B[0m\u001B[1;33m(\u001B[0m\u001B[1;33m)\u001B[0m\u001B[1;33m:\u001B[0m\u001B[1;33m\u001B[0m\u001B[1;33m\u001B[0m\u001B[0m\n\u001B[0;32m   5590\u001B[0m             \u001B[1;32mif\u001B[0m \u001B[0merrors\u001B[0m \u001B[1;33m!=\u001B[0m \u001B[1;34m\"ignore\"\u001B[0m\u001B[1;33m:\u001B[0m\u001B[1;33m\u001B[0m\u001B[1;33m\u001B[0m\u001B[0m\n\u001B[1;32m-> 5591\u001B[1;33m                 \u001B[1;32mraise\u001B[0m \u001B[0mKeyError\u001B[0m\u001B[1;33m(\u001B[0m\u001B[1;34mf\"{labels[mask]} not found in axis\"\u001B[0m\u001B[1;33m)\u001B[0m\u001B[1;33m\u001B[0m\u001B[1;33m\u001B[0m\u001B[0m\n\u001B[0m\u001B[0;32m   5592\u001B[0m             \u001B[0mindexer\u001B[0m \u001B[1;33m=\u001B[0m \u001B[0mindexer\u001B[0m\u001B[1;33m[\u001B[0m\u001B[1;33m~\u001B[0m\u001B[0mmask\u001B[0m\u001B[1;33m]\u001B[0m\u001B[1;33m\u001B[0m\u001B[1;33m\u001B[0m\u001B[0m\n\u001B[0;32m   5593\u001B[0m         \u001B[1;32mreturn\u001B[0m \u001B[0mself\u001B[0m\u001B[1;33m.\u001B[0m\u001B[0mdelete\u001B[0m\u001B[1;33m(\u001B[0m\u001B[0mindexer\u001B[0m\u001B[1;33m)\u001B[0m\u001B[1;33m\u001B[0m\u001B[1;33m\u001B[0m\u001B[0m\n",
      "\u001B[1;31mKeyError\u001B[0m: \"['code' 'creator' 'created_t' 'last_modified_t' 'states' 'url'\\n 'image_small_url' 'image_front_url' 'image_front_small_url' 'image_url'\\n 'image_ingredients_small_url' 'image_ingredients_url'\\n 'image_nutrition_small_url' 'image_nutrition_url'] not found in axis\""
     ]
    }
   ],
   "source": [
    "# delete some columns\n",
    "clean_df.drop(['code', 'creator', 'created_t', 'last_modified_t', 'states', 'url', 'image_small_url', 'image_front_url', 'image_front_small_url','image_url', 'main_category', 'categories', 'categories_tags', 'image_ingredients_small_url', 'image_ingredients_url', 'brands_tags', 'image_nutrition_small_url', 'image_nutrition_url'], axis=1, inplace=True)"
   ],
   "metadata": {
    "collapsed": false,
    "pycharm": {
     "name": "#%%\n"
    }
   }
  },
  {
   "cell_type": "code",
   "execution_count": 19,
   "id": "b04c81d0",
   "metadata": {},
   "outputs": [
    {
     "data": {
      "text/plain": "(300000, 34)"
     },
     "execution_count": 19,
     "metadata": {},
     "output_type": "execute_result"
    }
   ],
   "source": [
    "# 2458 rows, 17 columns\n",
    "clean_df.shape"
   ]
  },
  {
   "cell_type": "markdown",
   "id": "6b364129",
   "metadata": {},
   "source": [
    "Nous remplacons certaines valeurs dans \"countries\" qui ont toute la même signification : France."
   ]
  },
  {
   "cell_type": "code",
   "execution_count": 135,
   "id": "6b3fe8c9",
   "metadata": {},
   "outputs": [],
   "source": [
    "# replace values \"en:fr\" , \"en:france\", \"en:FR\" by \"France\" in countries\n",
    "clean_df['countries'] = clean_df['countries'].replace(['en:fr', 'en:france', 'en:FR', 'fr', 'en:France'],'France')"
   ]
  },
  {
   "cell_type": "code",
   "execution_count": 136,
   "id": "c7f87a5e",
   "metadata": {},
   "outputs": [
    {
     "data": {
      "text/plain": [
       "France                            2158\n",
       "Belgique, France                    22\n",
       "France, en:belgium                  18\n",
       "Belgique,France                     16\n",
       "France, Suisse                      14\n",
       "                                  ... \n",
       "France, Luxembourg, en:belgium       1\n",
       "France, Spain                        1\n",
       "France,Guadeloupe                    1\n",
       "Francia, Spain, en:portugal          1\n",
       "Algérie,France,en:algeria            1\n",
       "Name: countries, Length: 120, dtype: int64"
      ]
     },
     "execution_count": 136,
     "metadata": {},
     "output_type": "execute_result"
    }
   ],
   "source": [
    "clean_df['countries'].value_counts()"
   ]
  },
  {
   "cell_type": "markdown",
   "id": "dd3a4629",
   "metadata": {},
   "source": [
    "Nous conservons uniquement les produits dont :\n",
    "- le pays est la France (countries)\n",
    "- le nutriscore_score / nutriscore_grade / nutrition-score-fr_100g / energy-kcal_100g est précisé"
   ]
  },
  {
   "cell_type": "code",
   "execution_count": 137,
   "id": "af842409",
   "metadata": {},
   "outputs": [],
   "source": [
    "# keep only the product with countries = France\n",
    "clean_df = clean_df.loc[clean_df['countries'] == 'France']"
   ]
  },
  {
   "cell_type": "code",
   "execution_count": 149,
   "id": "b94a345a",
   "metadata": {},
   "outputs": [],
   "source": [
    "# keep only the products with brands and nutriscore\n",
    "clean_df = clean_df.dropna(subset=['brands', 'nutriscore_score', 'nutriscore_grade', 'nutrition-score-fr_100g', 'energy-kcal_100g'])"
   ]
  },
  {
   "cell_type": "markdown",
   "id": "159ee859",
   "metadata": {},
   "source": [
    "Notre dataset \"Orange is the new black\" est désormais prêt à être exploré / analysé / visualisé : il n'y a plus de valeurs nulles et nous avons un échantillon conséquent de 1099 jus d'orange et leurs 17 valeurs distinctes."
   ]
  },
  {
   "cell_type": "code",
   "execution_count": 153,
   "id": "647addb6",
   "metadata": {},
   "outputs": [
    {
     "data": {
      "text/plain": [
       "product_name               0\n",
       "brands                     0\n",
       "countries                  0\n",
       "nutriscore_score           0\n",
       "nutriscore_grade           0\n",
       "pnns_groups_1              0\n",
       "pnns_groups_2              0\n",
       "energy-kcal_100g           0\n",
       "energy_100g                0\n",
       "fat_100g                   0\n",
       "saturated-fat_100g         0\n",
       "carbohydrates_100g         0\n",
       "sugars_100g                0\n",
       "proteins_100g              0\n",
       "salt_100g                  0\n",
       "sodium_100g                0\n",
       "nutrition-score-fr_100g    0\n",
       "dtype: int64"
      ]
     },
     "execution_count": 153,
     "metadata": {},
     "output_type": "execute_result"
    }
   ],
   "source": [
    "# sum of NaN\n",
    "clean_df.isnull().sum()"
   ]
  },
  {
   "cell_type": "code",
   "execution_count": 158,
   "id": "54fbd1a8",
   "metadata": {},
   "outputs": [
    {
     "data": {
      "text/html": [
       "<div>\n",
       "<style scoped>\n",
       "    .dataframe tbody tr th:only-of-type {\n",
       "        vertical-align: middle;\n",
       "    }\n",
       "\n",
       "    .dataframe tbody tr th {\n",
       "        vertical-align: top;\n",
       "    }\n",
       "\n",
       "    .dataframe thead th {\n",
       "        text-align: right;\n",
       "    }\n",
       "</style>\n",
       "<table border=\"1\" class=\"dataframe\">\n",
       "  <thead>\n",
       "    <tr style=\"text-align: right;\">\n",
       "      <th></th>\n",
       "      <th>product_name</th>\n",
       "      <th>brands</th>\n",
       "      <th>countries</th>\n",
       "      <th>nutriscore_score</th>\n",
       "      <th>nutriscore_grade</th>\n",
       "      <th>pnns_groups_1</th>\n",
       "      <th>pnns_groups_2</th>\n",
       "      <th>energy-kcal_100g</th>\n",
       "      <th>energy_100g</th>\n",
       "      <th>fat_100g</th>\n",
       "      <th>saturated-fat_100g</th>\n",
       "      <th>carbohydrates_100g</th>\n",
       "      <th>sugars_100g</th>\n",
       "      <th>proteins_100g</th>\n",
       "      <th>salt_100g</th>\n",
       "      <th>sodium_100g</th>\n",
       "      <th>nutrition-score-fr_100g</th>\n",
       "    </tr>\n",
       "  </thead>\n",
       "  <tbody>\n",
       "    <tr>\n",
       "      <th>2</th>\n",
       "      <td>Pago Ace - Orange - Carotte - Citron</td>\n",
       "      <td>pago</td>\n",
       "      <td>France</td>\n",
       "      <td>3.0</td>\n",
       "      <td>c</td>\n",
       "      <td>Beverages</td>\n",
       "      <td>Sweetened beverages</td>\n",
       "      <td>40.0</td>\n",
       "      <td>168.0</td>\n",
       "      <td>0.5</td>\n",
       "      <td>0.1</td>\n",
       "      <td>9.2</td>\n",
       "      <td>9.2</td>\n",
       "      <td>0.5</td>\n",
       "      <td>0.0000</td>\n",
       "      <td>0.000</td>\n",
       "      <td>3.0</td>\n",
       "    </tr>\n",
       "    <tr>\n",
       "      <th>3</th>\n",
       "      <td>LE PUR JUS Orange sans pulpe</td>\n",
       "      <td>Joker</td>\n",
       "      <td>France</td>\n",
       "      <td>3.0</td>\n",
       "      <td>c</td>\n",
       "      <td>Beverages</td>\n",
       "      <td>Fruit juices</td>\n",
       "      <td>42.0</td>\n",
       "      <td>186.0</td>\n",
       "      <td>0.0</td>\n",
       "      <td>0.0</td>\n",
       "      <td>8.6</td>\n",
       "      <td>8.6</td>\n",
       "      <td>0.6</td>\n",
       "      <td>0.0125</td>\n",
       "      <td>0.005</td>\n",
       "      <td>3.0</td>\n",
       "    </tr>\n",
       "    <tr>\n",
       "      <th>14</th>\n",
       "      <td>Jus d'orange sans pulpe</td>\n",
       "      <td>innocent</td>\n",
       "      <td>France</td>\n",
       "      <td>2.0</td>\n",
       "      <td>c</td>\n",
       "      <td>Beverages</td>\n",
       "      <td>Fruit juices</td>\n",
       "      <td>36.0</td>\n",
       "      <td>155.0</td>\n",
       "      <td>0.0</td>\n",
       "      <td>0.0</td>\n",
       "      <td>7.8</td>\n",
       "      <td>7.8</td>\n",
       "      <td>0.7</td>\n",
       "      <td>0.0000</td>\n",
       "      <td>0.000</td>\n",
       "      <td>2.0</td>\n",
       "    </tr>\n",
       "    <tr>\n",
       "      <th>17</th>\n",
       "      <td>Innocent jus d'orange avec pulpe 900ml</td>\n",
       "      <td>Innocent</td>\n",
       "      <td>France</td>\n",
       "      <td>2.0</td>\n",
       "      <td>c</td>\n",
       "      <td>Beverages</td>\n",
       "      <td>Fruit juices</td>\n",
       "      <td>36.0</td>\n",
       "      <td>156.0</td>\n",
       "      <td>0.0</td>\n",
       "      <td>0.0</td>\n",
       "      <td>7.8</td>\n",
       "      <td>7.8</td>\n",
       "      <td>0.7</td>\n",
       "      <td>0.0000</td>\n",
       "      <td>0.000</td>\n",
       "      <td>2.0</td>\n",
       "    </tr>\n",
       "    <tr>\n",
       "      <th>23</th>\n",
       "      <td>LE PUR JUS Orange sans pulpe</td>\n",
       "      <td>joker</td>\n",
       "      <td>France</td>\n",
       "      <td>2.0</td>\n",
       "      <td>c</td>\n",
       "      <td>Beverages</td>\n",
       "      <td>Fruit juices</td>\n",
       "      <td>42.0</td>\n",
       "      <td>176.0</td>\n",
       "      <td>0.0</td>\n",
       "      <td>0.0</td>\n",
       "      <td>8.6</td>\n",
       "      <td>8.6</td>\n",
       "      <td>0.6</td>\n",
       "      <td>0.0125</td>\n",
       "      <td>0.005</td>\n",
       "      <td>2.0</td>\n",
       "    </tr>\n",
       "    <tr>\n",
       "      <th>...</th>\n",
       "      <td>...</td>\n",
       "      <td>...</td>\n",
       "      <td>...</td>\n",
       "      <td>...</td>\n",
       "      <td>...</td>\n",
       "      <td>...</td>\n",
       "      <td>...</td>\n",
       "      <td>...</td>\n",
       "      <td>...</td>\n",
       "      <td>...</td>\n",
       "      <td>...</td>\n",
       "      <td>...</td>\n",
       "      <td>...</td>\n",
       "      <td>...</td>\n",
       "      <td>...</td>\n",
       "      <td>...</td>\n",
       "      <td>...</td>\n",
       "    </tr>\n",
       "    <tr>\n",
       "      <th>2406</th>\n",
       "      <td>Pur jus d’orange sans pulpe</td>\n",
       "      <td>U,U Bio</td>\n",
       "      <td>France</td>\n",
       "      <td>2.0</td>\n",
       "      <td>c</td>\n",
       "      <td>Beverages</td>\n",
       "      <td>Fruit juices</td>\n",
       "      <td>41.0</td>\n",
       "      <td>172.0</td>\n",
       "      <td>0.5</td>\n",
       "      <td>0.1</td>\n",
       "      <td>8.7</td>\n",
       "      <td>8.7</td>\n",
       "      <td>0.7</td>\n",
       "      <td>0.0100</td>\n",
       "      <td>0.004</td>\n",
       "      <td>2.0</td>\n",
       "    </tr>\n",
       "    <tr>\n",
       "      <th>2442</th>\n",
       "      <td>Pur jus pomme orange</td>\n",
       "      <td>Les Vergers de Cousancelles</td>\n",
       "      <td>France</td>\n",
       "      <td>-2.0</td>\n",
       "      <td>b</td>\n",
       "      <td>Beverages</td>\n",
       "      <td>Fruit juices</td>\n",
       "      <td>34.0</td>\n",
       "      <td>142.0</td>\n",
       "      <td>0.1</td>\n",
       "      <td>0.0</td>\n",
       "      <td>8.4</td>\n",
       "      <td>4.2</td>\n",
       "      <td>0.4</td>\n",
       "      <td>0.0000</td>\n",
       "      <td>0.000</td>\n",
       "      <td>-2.0</td>\n",
       "    </tr>\n",
       "    <tr>\n",
       "      <th>2445</th>\n",
       "      <td>Pur jus d'orange</td>\n",
       "      <td>Prix Mini</td>\n",
       "      <td>France</td>\n",
       "      <td>4.0</td>\n",
       "      <td>c</td>\n",
       "      <td>Beverages</td>\n",
       "      <td>Fruit juices</td>\n",
       "      <td>45.0</td>\n",
       "      <td>192.0</td>\n",
       "      <td>0.5</td>\n",
       "      <td>0.1</td>\n",
       "      <td>9.3</td>\n",
       "      <td>9.3</td>\n",
       "      <td>0.7</td>\n",
       "      <td>0.0100</td>\n",
       "      <td>0.004</td>\n",
       "      <td>4.0</td>\n",
       "    </tr>\n",
       "    <tr>\n",
       "      <th>2446</th>\n",
       "      <td>le 100% pur jus Bio Orange</td>\n",
       "      <td>Franprix</td>\n",
       "      <td>France</td>\n",
       "      <td>3.0</td>\n",
       "      <td>c</td>\n",
       "      <td>Beverages</td>\n",
       "      <td>Fruit juices</td>\n",
       "      <td>39.0</td>\n",
       "      <td>167.0</td>\n",
       "      <td>0.0</td>\n",
       "      <td>0.0</td>\n",
       "      <td>9.1</td>\n",
       "      <td>9.1</td>\n",
       "      <td>0.7</td>\n",
       "      <td>0.0000</td>\n",
       "      <td>0.000</td>\n",
       "      <td>3.0</td>\n",
       "    </tr>\n",
       "    <tr>\n",
       "      <th>2457</th>\n",
       "      <td>Pur jus d'orange bio</td>\n",
       "      <td>Franprix</td>\n",
       "      <td>France</td>\n",
       "      <td>3.0</td>\n",
       "      <td>c</td>\n",
       "      <td>Beverages</td>\n",
       "      <td>Fruit juices</td>\n",
       "      <td>39.0</td>\n",
       "      <td>163.0</td>\n",
       "      <td>0.0</td>\n",
       "      <td>0.0</td>\n",
       "      <td>9.1</td>\n",
       "      <td>9.1</td>\n",
       "      <td>0.7</td>\n",
       "      <td>0.0000</td>\n",
       "      <td>0.000</td>\n",
       "      <td>3.0</td>\n",
       "    </tr>\n",
       "  </tbody>\n",
       "</table>\n",
       "<p>1099 rows × 17 columns</p>\n",
       "</div>"
      ],
      "text/plain": [
       "                                product_name                       brands  \\\n",
       "2       Pago Ace - Orange - Carotte - Citron                         pago   \n",
       "3               LE PUR JUS Orange sans pulpe                        Joker   \n",
       "14                   Jus d'orange sans pulpe                     innocent   \n",
       "17    Innocent jus d'orange avec pulpe 900ml                     Innocent   \n",
       "23              LE PUR JUS Orange sans pulpe                        joker   \n",
       "...                                      ...                          ...   \n",
       "2406             Pur jus d’orange sans pulpe                      U,U Bio   \n",
       "2442                    Pur jus pomme orange  Les Vergers de Cousancelles   \n",
       "2445                        Pur jus d'orange                    Prix Mini   \n",
       "2446              le 100% pur jus Bio Orange                     Franprix   \n",
       "2457                    Pur jus d'orange bio                     Franprix   \n",
       "\n",
       "     countries  nutriscore_score nutriscore_grade pnns_groups_1  \\\n",
       "2       France               3.0                c     Beverages   \n",
       "3       France               3.0                c     Beverages   \n",
       "14      France               2.0                c     Beverages   \n",
       "17      France               2.0                c     Beverages   \n",
       "23      France               2.0                c     Beverages   \n",
       "...        ...               ...              ...           ...   \n",
       "2406    France               2.0                c     Beverages   \n",
       "2442    France              -2.0                b     Beverages   \n",
       "2445    France               4.0                c     Beverages   \n",
       "2446    France               3.0                c     Beverages   \n",
       "2457    France               3.0                c     Beverages   \n",
       "\n",
       "            pnns_groups_2  energy-kcal_100g  energy_100g  fat_100g  \\\n",
       "2     Sweetened beverages              40.0        168.0       0.5   \n",
       "3            Fruit juices              42.0        186.0       0.0   \n",
       "14           Fruit juices              36.0        155.0       0.0   \n",
       "17           Fruit juices              36.0        156.0       0.0   \n",
       "23           Fruit juices              42.0        176.0       0.0   \n",
       "...                   ...               ...          ...       ...   \n",
       "2406         Fruit juices              41.0        172.0       0.5   \n",
       "2442         Fruit juices              34.0        142.0       0.1   \n",
       "2445         Fruit juices              45.0        192.0       0.5   \n",
       "2446         Fruit juices              39.0        167.0       0.0   \n",
       "2457         Fruit juices              39.0        163.0       0.0   \n",
       "\n",
       "      saturated-fat_100g  carbohydrates_100g  sugars_100g  proteins_100g  \\\n",
       "2                    0.1                 9.2          9.2            0.5   \n",
       "3                    0.0                 8.6          8.6            0.6   \n",
       "14                   0.0                 7.8          7.8            0.7   \n",
       "17                   0.0                 7.8          7.8            0.7   \n",
       "23                   0.0                 8.6          8.6            0.6   \n",
       "...                  ...                 ...          ...            ...   \n",
       "2406                 0.1                 8.7          8.7            0.7   \n",
       "2442                 0.0                 8.4          4.2            0.4   \n",
       "2445                 0.1                 9.3          9.3            0.7   \n",
       "2446                 0.0                 9.1          9.1            0.7   \n",
       "2457                 0.0                 9.1          9.1            0.7   \n",
       "\n",
       "      salt_100g  sodium_100g  nutrition-score-fr_100g  \n",
       "2        0.0000        0.000                      3.0  \n",
       "3        0.0125        0.005                      3.0  \n",
       "14       0.0000        0.000                      2.0  \n",
       "17       0.0000        0.000                      2.0  \n",
       "23       0.0125        0.005                      2.0  \n",
       "...         ...          ...                      ...  \n",
       "2406     0.0100        0.004                      2.0  \n",
       "2442     0.0000        0.000                     -2.0  \n",
       "2445     0.0100        0.004                      4.0  \n",
       "2446     0.0000        0.000                      3.0  \n",
       "2457     0.0000        0.000                      3.0  \n",
       "\n",
       "[1099 rows x 17 columns]"
      ]
     },
     "execution_count": 158,
     "metadata": {},
     "output_type": "execute_result"
    }
   ],
   "source": [
    "clean_df"
   ]
  },
  {
   "cell_type": "code",
   "execution_count": 159,
   "id": "f3cceadd",
   "metadata": {},
   "outputs": [],
   "source": [
    "# export CSV\n",
    "clean_df.to_csv('orangeisthenewblack.csv', index=False)"
   ]
  }
 ],
 "metadata": {
  "kernelspec": {
   "display_name": "Python 3",
   "language": "python",
   "name": "python3"
  },
  "language_info": {
   "codemirror_mode": {
    "name": "ipython",
    "version": 3
   },
   "file_extension": ".py",
   "mimetype": "text/x-python",
   "name": "python",
   "nbconvert_exporter": "python",
   "pygments_lexer": "ipython3",
   "version": "3.8.8"
  }
 },
 "nbformat": 4,
 "nbformat_minor": 5
}