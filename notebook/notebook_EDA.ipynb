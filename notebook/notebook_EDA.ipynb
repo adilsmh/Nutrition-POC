{
 "cells": [
  {
   "cell_type": "markdown",
   "id": "3989d75e",
   "metadata": {},
   "source": [
    "# 🍊 Orange is the new black"
   ]
  },
  {
   "cell_type": "markdown",
   "id": "f72e0a8e",
   "metadata": {},
   "source": [
    "* [Visualisation Plotly](#📉-Visualisation-Plotly)\n",
    "    * [Répartition des jus d'orange par Nutriscore](#Répartition-des-jus-d'orange-par-Nutriscore)\n",
    "    * [Ratio sucre / kcal](#Ratio-sucre-/-kilocalorie)\n",
    "    * [Taux de sucre pour 100 gr](#Taux-de-sucre-pour-100gr)\n",
    "* [Exploration](#🔍-Exploration)\n",
    "    * [Marques les plus représentées](#Marques-les-plus-représentées)\n",
    "    * [Les jus d'orange sans sucre ajouté, colorants et conservateurs](#Les-jus-d'orange-sans-sucre-ajouté,-sans-colorants,-sans-conservateurs)\n",
    "    * [Jus d'orange avec nutriscore A](#Les-jus-d'orange-avec-Nutriscore-A)\n",
    "    * [Jus d'orange avec le plus de vitamine C](#Les-jus-d'orange-contenant-le-plus-de-vitamine-C)"
   ]
  },
  {
   "cell_type": "markdown",
   "id": "c9113c13",
   "metadata": {},
   "source": [
    "Import des librairies"
   ]
  },
  {
   "cell_type": "code",
   "execution_count": 21,
   "id": "f3faa230",
   "metadata": {},
   "outputs": [],
   "source": [
    "import numpy as np\n",
    "import pandas as pd\n",
    "\n",
    "import matplotlib.pyplot as plt\n",
    "import seaborn as sns\n",
    "import plotly.graph_objects as go\n",
    "import plotly.express as px\n",
    "\n",
    "from sklearn.preprocessing import MinMaxScaler\n",
    "\n",
    "import warnings\n",
    "warnings.filterwarnings(\"ignore\")"
   ]
  },
  {
   "cell_type": "markdown",
   "id": "26ed731c",
   "metadata": {},
   "source": [
    "# 📉 Visualisation Plotly"
   ]
  },
  {
   "cell_type": "code",
   "execution_count": 108,
   "outputs": [],
   "source": [
    "path = '../data/product.csv'\n",
    "\n",
    "def import_csv(path):\n",
    "    # import csv file from cleaning notebook\n",
    "    df = pd.read_csv(path)\n"
   ],
   "metadata": {
    "collapsed": false,
    "pycharm": {
     "name": "#%%\n"
    }
   }
  },
  {
   "cell_type": "code",
   "execution_count": 109,
   "outputs": [],
   "source": [
    "df = import_csv(path)"
   ],
   "metadata": {
    "collapsed": false,
    "pycharm": {
     "name": "#%%\n"
    }
   }
  },
  {
   "cell_type": "markdown",
   "id": "86a4098d",
   "metadata": {},
   "source": [
    "# <b>Répartition des jus d'orange par Nutriscore</b>"
   ]
  },
  {
   "cell_type": "code",
   "execution_count": 23,
   "id": "3a0d4e37",
   "metadata": {},
   "outputs": [],
   "source": [
    "# delete product with nutriscore = 0\n",
    "df_nutriscore = df[df.nutriscore_grade != 0]"
   ]
  },
  {
   "cell_type": "code",
   "execution_count": 24,
   "id": "1baae05b",
   "metadata": {},
   "outputs": [],
   "source": [
    "grades = df_nutriscore.nutriscore_grade.value_counts()"
   ]
  },
  {
   "cell_type": "code",
   "execution_count": 25,
   "outputs": [
    {
     "data": {
      "text/plain": "c    286\nb     37\ne     18\nd     13\na      2\nName: nutriscore_grade, dtype: int64"
     },
     "execution_count": 25,
     "metadata": {},
     "output_type": "execute_result"
    }
   ],
   "source": [
    "grades"
   ],
   "metadata": {
    "collapsed": false,
    "pycharm": {
     "name": "#%%\n"
    }
   }
  },
  {
   "cell_type": "code",
   "execution_count": 31,
   "id": "110f7a9a",
   "metadata": {
    "scrolled": false
   },
   "outputs": [
    {
     "data": {
      "application/vnd.plotly.v1+json": {
       "config": {
        "plotlyServerURL": "https://plot.ly"
       },
       "data": [
        {
         "alignmentgroup": "True",
         "hovertemplate": "variable=nutriscore_grade<br>value=%{x}<br>Nombre de produits=%{y}<extra></extra>",
         "legendgroup": "nutriscore_grade",
         "marker": {
          "color": "#636efa",
          "pattern": {
           "shape": ""
          }
         },
         "name": "nutriscore_grade",
         "offsetgroup": "nutriscore_grade",
         "orientation": "v",
         "showlegend": true,
         "textposition": "auto",
         "type": "bar",
         "x": [
          "c",
          "c",
          "b",
          null,
          "c",
          null,
          "c",
          "b",
          null,
          "c",
          "c",
          null,
          null,
          null,
          null,
          "c",
          "b",
          null,
          "c",
          null,
          null,
          null,
          null,
          "c",
          "c",
          "c",
          null,
          null,
          "c",
          null,
          "c",
          "e",
          "c",
          null,
          null,
          null,
          null,
          null,
          null,
          "b",
          null,
          null,
          null,
          "e",
          "b",
          null,
          null,
          "c",
          null,
          "c",
          null,
          null,
          null,
          null,
          null,
          "c",
          "c",
          "d",
          null,
          null,
          "e",
          null,
          "c",
          "c",
          "d",
          "c",
          null,
          null,
          "c",
          "c",
          "c",
          "c",
          "c",
          "c",
          null,
          "c",
          null,
          null,
          null,
          null,
          "c",
          "c",
          "c",
          "c",
          "c",
          "c",
          "c",
          "c",
          "e",
          "c",
          "c",
          "c",
          "b",
          "b",
          null,
          null,
          "c",
          "c",
          null,
          "e",
          "e",
          "d",
          "c",
          "b",
          "c",
          "e",
          "c",
          "c",
          "c",
          null,
          "c",
          null,
          null,
          null,
          "c",
          "c",
          "c",
          "c",
          "c",
          "c",
          "c",
          "c",
          "c",
          "c",
          "c",
          null,
          "c",
          "c",
          "e",
          "c",
          "d",
          "c",
          null,
          "c",
          null,
          null,
          "c",
          null,
          "e",
          null,
          null,
          "c",
          "c",
          "d",
          "c",
          "c",
          "c",
          "c",
          "c",
          "c",
          "c",
          "b",
          "d",
          "c",
          "c",
          "c",
          "c",
          "c",
          "c",
          "c",
          "c",
          "c",
          "d",
          "d",
          "c",
          "c",
          "c",
          "b",
          "b",
          "c",
          "d",
          "c",
          "c",
          "c",
          "c",
          "c",
          "c",
          "b",
          "a",
          "b",
          "c",
          "b",
          "c",
          null,
          "c",
          null,
          "c",
          "c",
          "c",
          "c",
          "c",
          "c",
          "c",
          "c",
          "c",
          "c",
          "c",
          "c",
          "c",
          "c",
          "c",
          "c",
          "c",
          "c",
          "c",
          "c",
          "c",
          "c",
          "c",
          "c",
          "c",
          "d",
          null,
          "c",
          "c",
          "c",
          "c",
          "c",
          "b",
          "c",
          "c",
          null,
          "c",
          "c",
          "c",
          null,
          "c",
          null,
          "c",
          "b",
          "c",
          "c",
          "c",
          "c",
          "c",
          "b",
          "c",
          "c",
          "c",
          "c",
          null,
          null,
          null,
          "c",
          null,
          null,
          null,
          "b",
          "b",
          null,
          "b",
          "b",
          "b",
          "b",
          null,
          "c",
          "b",
          null,
          "b",
          "c",
          "b",
          "b",
          "c",
          null,
          "c",
          null,
          "e",
          "c",
          "c",
          "c",
          null,
          "b",
          "c",
          null,
          "e",
          null,
          null,
          null,
          "c",
          "c",
          "c",
          "c",
          "c",
          "c",
          "e",
          "c",
          "c",
          "c",
          null,
          null,
          "c",
          "c",
          "c",
          null,
          "c",
          "c",
          "c",
          null,
          "d",
          null,
          null,
          "c",
          "c",
          "c",
          null,
          "c",
          null,
          "c",
          "c",
          "c",
          "c",
          "c",
          null,
          "c",
          "c",
          "c",
          "c",
          null,
          null,
          null,
          "c",
          null,
          null,
          "c",
          "c",
          "c",
          "c",
          "c",
          "c",
          null,
          "b",
          "c",
          "c",
          "c",
          "c",
          "c",
          "c",
          "c",
          "c",
          "c",
          "c",
          "c",
          null,
          "c",
          "b",
          null,
          null,
          null,
          "c",
          "c",
          null,
          "c",
          "c",
          "b",
          null,
          null,
          null,
          null,
          "c",
          "c",
          "c",
          null,
          null,
          "c",
          "d",
          "c",
          "c",
          "c",
          "c",
          "c",
          "c",
          "c",
          "c",
          null,
          "c",
          "c",
          "c",
          "c",
          "c",
          "c",
          "c",
          "b",
          null,
          null,
          "c",
          "c",
          "c",
          "c",
          "c",
          "c",
          "c",
          null,
          "c",
          null,
          "c",
          null,
          null,
          null,
          "c",
          "d",
          "c",
          "c",
          null,
          "c",
          "c",
          null,
          null,
          null,
          "e",
          "c",
          "c",
          "c",
          "c",
          "c",
          "e",
          "c",
          "c",
          null,
          "b",
          null,
          "c",
          null,
          "c",
          "c",
          "b",
          null,
          "a",
          "e",
          null,
          "c",
          null,
          "c",
          "c",
          "c",
          "c",
          "c",
          null,
          "c",
          "c",
          "c",
          "c",
          "c",
          "c",
          "c",
          "c",
          "c",
          "c",
          null,
          "c",
          "c",
          "c",
          null,
          "c",
          null,
          "c",
          "c",
          null,
          null,
          "c",
          "c",
          "c",
          null,
          null,
          "c",
          "c",
          null,
          null,
          null,
          null,
          null,
          null,
          null,
          "c",
          "c",
          "c",
          "c",
          "c",
          "c",
          null,
          null,
          "c",
          null,
          null,
          "e",
          "e",
          "c",
          null,
          null,
          null,
          null,
          null,
          "c",
          null,
          "b",
          null,
          null,
          "b",
          null,
          null,
          null,
          null,
          "e",
          "c",
          null,
          null,
          "b",
          null,
          "c",
          "c",
          null,
          "c",
          null,
          "c",
          "c",
          null,
          null,
          null
         ],
         "xaxis": "x",
         "y": [
          1,
          1,
          1,
          1,
          1,
          1,
          1,
          1,
          1,
          1,
          1,
          1,
          1,
          1,
          1,
          1,
          1,
          1,
          1,
          1,
          1,
          1,
          1,
          1,
          1,
          1,
          1,
          1,
          1,
          1,
          1,
          1,
          1,
          1,
          1,
          1,
          1,
          1,
          1,
          1,
          1,
          1,
          1,
          1,
          1,
          1,
          1,
          1,
          1,
          1,
          1,
          1,
          1,
          1,
          1,
          1,
          1,
          1,
          1,
          1,
          1,
          1,
          1,
          1,
          1,
          1,
          1,
          1,
          1,
          1,
          1,
          1,
          1,
          1,
          1,
          1,
          1,
          1,
          1,
          1,
          1,
          1,
          1,
          1,
          1,
          1,
          1,
          1,
          1,
          1,
          1,
          1,
          1,
          1,
          1,
          1,
          1,
          1,
          1,
          1,
          1,
          1,
          1,
          1,
          1,
          1,
          1,
          1,
          1,
          1,
          1,
          1,
          1,
          1,
          1,
          1,
          1,
          1,
          1,
          1,
          1,
          1,
          1,
          1,
          1,
          1,
          1,
          1,
          1,
          1,
          1,
          1,
          1,
          1,
          1,
          1,
          1,
          1,
          1,
          1,
          1,
          1,
          1,
          1,
          1,
          1,
          1,
          1,
          1,
          1,
          1,
          1,
          1,
          1,
          1,
          1,
          1,
          1,
          1,
          1,
          1,
          1,
          1,
          1,
          1,
          1,
          1,
          1,
          1,
          1,
          1,
          1,
          1,
          1,
          1,
          1,
          1,
          1,
          1,
          1,
          1,
          1,
          1,
          1,
          1,
          1,
          1,
          1,
          1,
          1,
          1,
          1,
          1,
          1,
          1,
          1,
          1,
          1,
          1,
          1,
          1,
          1,
          1,
          1,
          1,
          1,
          1,
          1,
          1,
          1,
          1,
          1,
          1,
          1,
          1,
          1,
          1,
          1,
          1,
          1,
          1,
          1,
          1,
          1,
          1,
          1,
          1,
          1,
          1,
          1,
          1,
          1,
          1,
          1,
          1,
          1,
          1,
          1,
          1,
          1,
          1,
          1,
          1,
          1,
          1,
          1,
          1,
          1,
          1,
          1,
          1,
          1,
          1,
          1,
          1,
          1,
          1,
          1,
          1,
          1,
          1,
          1,
          1,
          1,
          1,
          1,
          1,
          1,
          1,
          1,
          1,
          1,
          1,
          1,
          1,
          1,
          1,
          1,
          1,
          1,
          1,
          1,
          1,
          1,
          1,
          1,
          1,
          1,
          1,
          1,
          1,
          1,
          1,
          1,
          1,
          1,
          1,
          1,
          1,
          1,
          1,
          1,
          1,
          1,
          1,
          1,
          1,
          1,
          1,
          1,
          1,
          1,
          1,
          1,
          1,
          1,
          1,
          1,
          1,
          1,
          1,
          1,
          1,
          1,
          1,
          1,
          1,
          1,
          1,
          1,
          1,
          1,
          1,
          1,
          1,
          1,
          1,
          1,
          1,
          1,
          1,
          1,
          1,
          1,
          1,
          1,
          1,
          1,
          1,
          1,
          1,
          1,
          1,
          1,
          1,
          1,
          1,
          1,
          1,
          1,
          1,
          1,
          1,
          1,
          1,
          1,
          1,
          1,
          1,
          1,
          1,
          1,
          1,
          1,
          1,
          1,
          1,
          1,
          1,
          1,
          1,
          1,
          1,
          1,
          1,
          1,
          1,
          1,
          1,
          1,
          1,
          1,
          1,
          1,
          1,
          1,
          1,
          1,
          1,
          1,
          1,
          1,
          1,
          1,
          1,
          1,
          1,
          1,
          1,
          1,
          1,
          1,
          1,
          1,
          1,
          1,
          1,
          1,
          1,
          1,
          1,
          1,
          1,
          1,
          1,
          1,
          1,
          1,
          1,
          1,
          1,
          1,
          1,
          1,
          1,
          1,
          1,
          1,
          1,
          1,
          1,
          1,
          1,
          1,
          1,
          1,
          1,
          1,
          1,
          1,
          1,
          1,
          1,
          1,
          1,
          1,
          1,
          1,
          1,
          1,
          1,
          1,
          1,
          1,
          1,
          1,
          1,
          1,
          1,
          1,
          1,
          1,
          1,
          1,
          1,
          1,
          1,
          1,
          1,
          1,
          1,
          1,
          1,
          1,
          1,
          1,
          1,
          1,
          1,
          1,
          1,
          1,
          1,
          1,
          1,
          1,
          1,
          1,
          1,
          1,
          1,
          1,
          1,
          1,
          1,
          1,
          1,
          1,
          1,
          1,
          1,
          1,
          1,
          1,
          1,
          1,
          1
         ],
         "yaxis": "y"
        }
       ],
       "layout": {
        "barmode": "relative",
        "legend": {
         "title": {
          "text": "variable"
         },
         "tracegroupgap": 0
        },
        "template": {
         "data": {
          "bar": [
           {
            "error_x": {
             "color": "#2a3f5f"
            },
            "error_y": {
             "color": "#2a3f5f"
            },
            "marker": {
             "line": {
              "color": "#E5ECF6",
              "width": 0.5
             },
             "pattern": {
              "fillmode": "overlay",
              "size": 10,
              "solidity": 0.2
             }
            },
            "type": "bar"
           }
          ],
          "barpolar": [
           {
            "marker": {
             "line": {
              "color": "#E5ECF6",
              "width": 0.5
             },
             "pattern": {
              "fillmode": "overlay",
              "size": 10,
              "solidity": 0.2
             }
            },
            "type": "barpolar"
           }
          ],
          "carpet": [
           {
            "aaxis": {
             "endlinecolor": "#2a3f5f",
             "gridcolor": "white",
             "linecolor": "white",
             "minorgridcolor": "white",
             "startlinecolor": "#2a3f5f"
            },
            "baxis": {
             "endlinecolor": "#2a3f5f",
             "gridcolor": "white",
             "linecolor": "white",
             "minorgridcolor": "white",
             "startlinecolor": "#2a3f5f"
            },
            "type": "carpet"
           }
          ],
          "choropleth": [
           {
            "colorbar": {
             "outlinewidth": 0,
             "ticks": ""
            },
            "type": "choropleth"
           }
          ],
          "contour": [
           {
            "colorbar": {
             "outlinewidth": 0,
             "ticks": ""
            },
            "colorscale": [
             [
              0.0,
              "#0d0887"
             ],
             [
              0.1111111111111111,
              "#46039f"
             ],
             [
              0.2222222222222222,
              "#7201a8"
             ],
             [
              0.3333333333333333,
              "#9c179e"
             ],
             [
              0.4444444444444444,
              "#bd3786"
             ],
             [
              0.5555555555555556,
              "#d8576b"
             ],
             [
              0.6666666666666666,
              "#ed7953"
             ],
             [
              0.7777777777777778,
              "#fb9f3a"
             ],
             [
              0.8888888888888888,
              "#fdca26"
             ],
             [
              1.0,
              "#f0f921"
             ]
            ],
            "type": "contour"
           }
          ],
          "contourcarpet": [
           {
            "colorbar": {
             "outlinewidth": 0,
             "ticks": ""
            },
            "type": "contourcarpet"
           }
          ],
          "heatmap": [
           {
            "colorbar": {
             "outlinewidth": 0,
             "ticks": ""
            },
            "colorscale": [
             [
              0.0,
              "#0d0887"
             ],
             [
              0.1111111111111111,
              "#46039f"
             ],
             [
              0.2222222222222222,
              "#7201a8"
             ],
             [
              0.3333333333333333,
              "#9c179e"
             ],
             [
              0.4444444444444444,
              "#bd3786"
             ],
             [
              0.5555555555555556,
              "#d8576b"
             ],
             [
              0.6666666666666666,
              "#ed7953"
             ],
             [
              0.7777777777777778,
              "#fb9f3a"
             ],
             [
              0.8888888888888888,
              "#fdca26"
             ],
             [
              1.0,
              "#f0f921"
             ]
            ],
            "type": "heatmap"
           }
          ],
          "heatmapgl": [
           {
            "colorbar": {
             "outlinewidth": 0,
             "ticks": ""
            },
            "colorscale": [
             [
              0.0,
              "#0d0887"
             ],
             [
              0.1111111111111111,
              "#46039f"
             ],
             [
              0.2222222222222222,
              "#7201a8"
             ],
             [
              0.3333333333333333,
              "#9c179e"
             ],
             [
              0.4444444444444444,
              "#bd3786"
             ],
             [
              0.5555555555555556,
              "#d8576b"
             ],
             [
              0.6666666666666666,
              "#ed7953"
             ],
             [
              0.7777777777777778,
              "#fb9f3a"
             ],
             [
              0.8888888888888888,
              "#fdca26"
             ],
             [
              1.0,
              "#f0f921"
             ]
            ],
            "type": "heatmapgl"
           }
          ],
          "histogram": [
           {
            "marker": {
             "pattern": {
              "fillmode": "overlay",
              "size": 10,
              "solidity": 0.2
             }
            },
            "type": "histogram"
           }
          ],
          "histogram2d": [
           {
            "colorbar": {
             "outlinewidth": 0,
             "ticks": ""
            },
            "colorscale": [
             [
              0.0,
              "#0d0887"
             ],
             [
              0.1111111111111111,
              "#46039f"
             ],
             [
              0.2222222222222222,
              "#7201a8"
             ],
             [
              0.3333333333333333,
              "#9c179e"
             ],
             [
              0.4444444444444444,
              "#bd3786"
             ],
             [
              0.5555555555555556,
              "#d8576b"
             ],
             [
              0.6666666666666666,
              "#ed7953"
             ],
             [
              0.7777777777777778,
              "#fb9f3a"
             ],
             [
              0.8888888888888888,
              "#fdca26"
             ],
             [
              1.0,
              "#f0f921"
             ]
            ],
            "type": "histogram2d"
           }
          ],
          "histogram2dcontour": [
           {
            "colorbar": {
             "outlinewidth": 0,
             "ticks": ""
            },
            "colorscale": [
             [
              0.0,
              "#0d0887"
             ],
             [
              0.1111111111111111,
              "#46039f"
             ],
             [
              0.2222222222222222,
              "#7201a8"
             ],
             [
              0.3333333333333333,
              "#9c179e"
             ],
             [
              0.4444444444444444,
              "#bd3786"
             ],
             [
              0.5555555555555556,
              "#d8576b"
             ],
             [
              0.6666666666666666,
              "#ed7953"
             ],
             [
              0.7777777777777778,
              "#fb9f3a"
             ],
             [
              0.8888888888888888,
              "#fdca26"
             ],
             [
              1.0,
              "#f0f921"
             ]
            ],
            "type": "histogram2dcontour"
           }
          ],
          "mesh3d": [
           {
            "colorbar": {
             "outlinewidth": 0,
             "ticks": ""
            },
            "type": "mesh3d"
           }
          ],
          "parcoords": [
           {
            "line": {
             "colorbar": {
              "outlinewidth": 0,
              "ticks": ""
             }
            },
            "type": "parcoords"
           }
          ],
          "pie": [
           {
            "automargin": true,
            "type": "pie"
           }
          ],
          "scatter": [
           {
            "marker": {
             "colorbar": {
              "outlinewidth": 0,
              "ticks": ""
             }
            },
            "type": "scatter"
           }
          ],
          "scatter3d": [
           {
            "line": {
             "colorbar": {
              "outlinewidth": 0,
              "ticks": ""
             }
            },
            "marker": {
             "colorbar": {
              "outlinewidth": 0,
              "ticks": ""
             }
            },
            "type": "scatter3d"
           }
          ],
          "scattercarpet": [
           {
            "marker": {
             "colorbar": {
              "outlinewidth": 0,
              "ticks": ""
             }
            },
            "type": "scattercarpet"
           }
          ],
          "scattergeo": [
           {
            "marker": {
             "colorbar": {
              "outlinewidth": 0,
              "ticks": ""
             }
            },
            "type": "scattergeo"
           }
          ],
          "scattergl": [
           {
            "marker": {
             "colorbar": {
              "outlinewidth": 0,
              "ticks": ""
             }
            },
            "type": "scattergl"
           }
          ],
          "scattermapbox": [
           {
            "marker": {
             "colorbar": {
              "outlinewidth": 0,
              "ticks": ""
             }
            },
            "type": "scattermapbox"
           }
          ],
          "scatterpolar": [
           {
            "marker": {
             "colorbar": {
              "outlinewidth": 0,
              "ticks": ""
             }
            },
            "type": "scatterpolar"
           }
          ],
          "scatterpolargl": [
           {
            "marker": {
             "colorbar": {
              "outlinewidth": 0,
              "ticks": ""
             }
            },
            "type": "scatterpolargl"
           }
          ],
          "scatterternary": [
           {
            "marker": {
             "colorbar": {
              "outlinewidth": 0,
              "ticks": ""
             }
            },
            "type": "scatterternary"
           }
          ],
          "surface": [
           {
            "colorbar": {
             "outlinewidth": 0,
             "ticks": ""
            },
            "colorscale": [
             [
              0.0,
              "#0d0887"
             ],
             [
              0.1111111111111111,
              "#46039f"
             ],
             [
              0.2222222222222222,
              "#7201a8"
             ],
             [
              0.3333333333333333,
              "#9c179e"
             ],
             [
              0.4444444444444444,
              "#bd3786"
             ],
             [
              0.5555555555555556,
              "#d8576b"
             ],
             [
              0.6666666666666666,
              "#ed7953"
             ],
             [
              0.7777777777777778,
              "#fb9f3a"
             ],
             [
              0.8888888888888888,
              "#fdca26"
             ],
             [
              1.0,
              "#f0f921"
             ]
            ],
            "type": "surface"
           }
          ],
          "table": [
           {
            "cells": {
             "fill": {
              "color": "#EBF0F8"
             },
             "line": {
              "color": "white"
             }
            },
            "header": {
             "fill": {
              "color": "#C8D4E3"
             },
             "line": {
              "color": "white"
             }
            },
            "type": "table"
           }
          ]
         },
         "layout": {
          "annotationdefaults": {
           "arrowcolor": "#2a3f5f",
           "arrowhead": 0,
           "arrowwidth": 1
          },
          "autotypenumbers": "strict",
          "coloraxis": {
           "colorbar": {
            "outlinewidth": 0,
            "ticks": ""
           }
          },
          "colorscale": {
           "diverging": [
            [
             0,
             "#8e0152"
            ],
            [
             0.1,
             "#c51b7d"
            ],
            [
             0.2,
             "#de77ae"
            ],
            [
             0.3,
             "#f1b6da"
            ],
            [
             0.4,
             "#fde0ef"
            ],
            [
             0.5,
             "#f7f7f7"
            ],
            [
             0.6,
             "#e6f5d0"
            ],
            [
             0.7,
             "#b8e186"
            ],
            [
             0.8,
             "#7fbc41"
            ],
            [
             0.9,
             "#4d9221"
            ],
            [
             1,
             "#276419"
            ]
           ],
           "sequential": [
            [
             0.0,
             "#0d0887"
            ],
            [
             0.1111111111111111,
             "#46039f"
            ],
            [
             0.2222222222222222,
             "#7201a8"
            ],
            [
             0.3333333333333333,
             "#9c179e"
            ],
            [
             0.4444444444444444,
             "#bd3786"
            ],
            [
             0.5555555555555556,
             "#d8576b"
            ],
            [
             0.6666666666666666,
             "#ed7953"
            ],
            [
             0.7777777777777778,
             "#fb9f3a"
            ],
            [
             0.8888888888888888,
             "#fdca26"
            ],
            [
             1.0,
             "#f0f921"
            ]
           ],
           "sequentialminus": [
            [
             0.0,
             "#0d0887"
            ],
            [
             0.1111111111111111,
             "#46039f"
            ],
            [
             0.2222222222222222,
             "#7201a8"
            ],
            [
             0.3333333333333333,
             "#9c179e"
            ],
            [
             0.4444444444444444,
             "#bd3786"
            ],
            [
             0.5555555555555556,
             "#d8576b"
            ],
            [
             0.6666666666666666,
             "#ed7953"
            ],
            [
             0.7777777777777778,
             "#fb9f3a"
            ],
            [
             0.8888888888888888,
             "#fdca26"
            ],
            [
             1.0,
             "#f0f921"
            ]
           ]
          },
          "colorway": [
           "#636efa",
           "#EF553B",
           "#00cc96",
           "#ab63fa",
           "#FFA15A",
           "#19d3f3",
           "#FF6692",
           "#B6E880",
           "#FF97FF",
           "#FECB52"
          ],
          "font": {
           "color": "#2a3f5f"
          },
          "geo": {
           "bgcolor": "white",
           "lakecolor": "white",
           "landcolor": "#E5ECF6",
           "showlakes": true,
           "showland": true,
           "subunitcolor": "white"
          },
          "hoverlabel": {
           "align": "left"
          },
          "hovermode": "closest",
          "mapbox": {
           "style": "light"
          },
          "paper_bgcolor": "white",
          "plot_bgcolor": "#E5ECF6",
          "polar": {
           "angularaxis": {
            "gridcolor": "white",
            "linecolor": "white",
            "ticks": ""
           },
           "bgcolor": "#E5ECF6",
           "radialaxis": {
            "gridcolor": "white",
            "linecolor": "white",
            "ticks": ""
           }
          },
          "scene": {
           "xaxis": {
            "backgroundcolor": "#E5ECF6",
            "gridcolor": "white",
            "gridwidth": 2,
            "linecolor": "white",
            "showbackground": true,
            "ticks": "",
            "zerolinecolor": "white"
           },
           "yaxis": {
            "backgroundcolor": "#E5ECF6",
            "gridcolor": "white",
            "gridwidth": 2,
            "linecolor": "white",
            "showbackground": true,
            "ticks": "",
            "zerolinecolor": "white"
           },
           "zaxis": {
            "backgroundcolor": "#E5ECF6",
            "gridcolor": "white",
            "gridwidth": 2,
            "linecolor": "white",
            "showbackground": true,
            "ticks": "",
            "zerolinecolor": "white"
           }
          },
          "shapedefaults": {
           "line": {
            "color": "#2a3f5f"
           }
          },
          "ternary": {
           "aaxis": {
            "gridcolor": "white",
            "linecolor": "white",
            "ticks": ""
           },
           "baxis": {
            "gridcolor": "white",
            "linecolor": "white",
            "ticks": ""
           },
           "bgcolor": "#E5ECF6",
           "caxis": {
            "gridcolor": "white",
            "linecolor": "white",
            "ticks": ""
           }
          },
          "title": {
           "x": 0.05
          },
          "xaxis": {
           "automargin": true,
           "gridcolor": "white",
           "linecolor": "white",
           "ticks": "",
           "title": {
            "standoff": 15
           },
           "zerolinecolor": "white",
           "zerolinewidth": 2
          },
          "yaxis": {
           "automargin": true,
           "gridcolor": "white",
           "linecolor": "white",
           "ticks": "",
           "title": {
            "standoff": 15
           },
           "zerolinecolor": "white",
           "zerolinewidth": 2
          }
         }
        },
        "title": {
         "text": "Répartition des jus d'orange par Nutriscore"
        },
        "xaxis": {
         "anchor": "y",
         "domain": [
          0.0,
          1.0
         ],
         "title": {
          "text": "value"
         }
        },
        "yaxis": {
         "anchor": "x",
         "domain": [
          0.0,
          1.0
         ],
         "title": {
          "text": "Nombre de produits"
         }
        }
       }
      },
      "text/html": "<div>                            <div id=\"fe6ccacb-6d55-456a-afdd-386557aad66c\" class=\"plotly-graph-div\" style=\"height:525px; width:100%;\"></div>            <script type=\"text/javascript\">                require([\"plotly\"], function(Plotly) {                    window.PLOTLYENV=window.PLOTLYENV || {};                                    if (document.getElementById(\"fe6ccacb-6d55-456a-afdd-386557aad66c\")) {                    Plotly.newPlot(                        \"fe6ccacb-6d55-456a-afdd-386557aad66c\",                        [{\"alignmentgroup\":\"True\",\"hovertemplate\":\"variable=nutriscore_grade<br>value=%{x}<br>Nombre de produits=%{y}<extra></extra>\",\"legendgroup\":\"nutriscore_grade\",\"marker\":{\"color\":\"#636efa\",\"pattern\":{\"shape\":\"\"}},\"name\":\"nutriscore_grade\",\"offsetgroup\":\"nutriscore_grade\",\"orientation\":\"v\",\"showlegend\":true,\"textposition\":\"auto\",\"type\":\"bar\",\"x\":[\"c\",\"c\",\"b\",null,\"c\",null,\"c\",\"b\",null,\"c\",\"c\",null,null,null,null,\"c\",\"b\",null,\"c\",null,null,null,null,\"c\",\"c\",\"c\",null,null,\"c\",null,\"c\",\"e\",\"c\",null,null,null,null,null,null,\"b\",null,null,null,\"e\",\"b\",null,null,\"c\",null,\"c\",null,null,null,null,null,\"c\",\"c\",\"d\",null,null,\"e\",null,\"c\",\"c\",\"d\",\"c\",null,null,\"c\",\"c\",\"c\",\"c\",\"c\",\"c\",null,\"c\",null,null,null,null,\"c\",\"c\",\"c\",\"c\",\"c\",\"c\",\"c\",\"c\",\"e\",\"c\",\"c\",\"c\",\"b\",\"b\",null,null,\"c\",\"c\",null,\"e\",\"e\",\"d\",\"c\",\"b\",\"c\",\"e\",\"c\",\"c\",\"c\",null,\"c\",null,null,null,\"c\",\"c\",\"c\",\"c\",\"c\",\"c\",\"c\",\"c\",\"c\",\"c\",\"c\",null,\"c\",\"c\",\"e\",\"c\",\"d\",\"c\",null,\"c\",null,null,\"c\",null,\"e\",null,null,\"c\",\"c\",\"d\",\"c\",\"c\",\"c\",\"c\",\"c\",\"c\",\"c\",\"b\",\"d\",\"c\",\"c\",\"c\",\"c\",\"c\",\"c\",\"c\",\"c\",\"c\",\"d\",\"d\",\"c\",\"c\",\"c\",\"b\",\"b\",\"c\",\"d\",\"c\",\"c\",\"c\",\"c\",\"c\",\"c\",\"b\",\"a\",\"b\",\"c\",\"b\",\"c\",null,\"c\",null,\"c\",\"c\",\"c\",\"c\",\"c\",\"c\",\"c\",\"c\",\"c\",\"c\",\"c\",\"c\",\"c\",\"c\",\"c\",\"c\",\"c\",\"c\",\"c\",\"c\",\"c\",\"c\",\"c\",\"c\",\"c\",\"d\",null,\"c\",\"c\",\"c\",\"c\",\"c\",\"b\",\"c\",\"c\",null,\"c\",\"c\",\"c\",null,\"c\",null,\"c\",\"b\",\"c\",\"c\",\"c\",\"c\",\"c\",\"b\",\"c\",\"c\",\"c\",\"c\",null,null,null,\"c\",null,null,null,\"b\",\"b\",null,\"b\",\"b\",\"b\",\"b\",null,\"c\",\"b\",null,\"b\",\"c\",\"b\",\"b\",\"c\",null,\"c\",null,\"e\",\"c\",\"c\",\"c\",null,\"b\",\"c\",null,\"e\",null,null,null,\"c\",\"c\",\"c\",\"c\",\"c\",\"c\",\"e\",\"c\",\"c\",\"c\",null,null,\"c\",\"c\",\"c\",null,\"c\",\"c\",\"c\",null,\"d\",null,null,\"c\",\"c\",\"c\",null,\"c\",null,\"c\",\"c\",\"c\",\"c\",\"c\",null,\"c\",\"c\",\"c\",\"c\",null,null,null,\"c\",null,null,\"c\",\"c\",\"c\",\"c\",\"c\",\"c\",null,\"b\",\"c\",\"c\",\"c\",\"c\",\"c\",\"c\",\"c\",\"c\",\"c\",\"c\",\"c\",null,\"c\",\"b\",null,null,null,\"c\",\"c\",null,\"c\",\"c\",\"b\",null,null,null,null,\"c\",\"c\",\"c\",null,null,\"c\",\"d\",\"c\",\"c\",\"c\",\"c\",\"c\",\"c\",\"c\",\"c\",null,\"c\",\"c\",\"c\",\"c\",\"c\",\"c\",\"c\",\"b\",null,null,\"c\",\"c\",\"c\",\"c\",\"c\",\"c\",\"c\",null,\"c\",null,\"c\",null,null,null,\"c\",\"d\",\"c\",\"c\",null,\"c\",\"c\",null,null,null,\"e\",\"c\",\"c\",\"c\",\"c\",\"c\",\"e\",\"c\",\"c\",null,\"b\",null,\"c\",null,\"c\",\"c\",\"b\",null,\"a\",\"e\",null,\"c\",null,\"c\",\"c\",\"c\",\"c\",\"c\",null,\"c\",\"c\",\"c\",\"c\",\"c\",\"c\",\"c\",\"c\",\"c\",\"c\",null,\"c\",\"c\",\"c\",null,\"c\",null,\"c\",\"c\",null,null,\"c\",\"c\",\"c\",null,null,\"c\",\"c\",null,null,null,null,null,null,null,\"c\",\"c\",\"c\",\"c\",\"c\",\"c\",null,null,\"c\",null,null,\"e\",\"e\",\"c\",null,null,null,null,null,\"c\",null,\"b\",null,null,\"b\",null,null,null,null,\"e\",\"c\",null,null,\"b\",null,\"c\",\"c\",null,\"c\",null,\"c\",\"c\",null,null,null],\"xaxis\":\"x\",\"y\":[1,1,1,1,1,1,1,1,1,1,1,1,1,1,1,1,1,1,1,1,1,1,1,1,1,1,1,1,1,1,1,1,1,1,1,1,1,1,1,1,1,1,1,1,1,1,1,1,1,1,1,1,1,1,1,1,1,1,1,1,1,1,1,1,1,1,1,1,1,1,1,1,1,1,1,1,1,1,1,1,1,1,1,1,1,1,1,1,1,1,1,1,1,1,1,1,1,1,1,1,1,1,1,1,1,1,1,1,1,1,1,1,1,1,1,1,1,1,1,1,1,1,1,1,1,1,1,1,1,1,1,1,1,1,1,1,1,1,1,1,1,1,1,1,1,1,1,1,1,1,1,1,1,1,1,1,1,1,1,1,1,1,1,1,1,1,1,1,1,1,1,1,1,1,1,1,1,1,1,1,1,1,1,1,1,1,1,1,1,1,1,1,1,1,1,1,1,1,1,1,1,1,1,1,1,1,1,1,1,1,1,1,1,1,1,1,1,1,1,1,1,1,1,1,1,1,1,1,1,1,1,1,1,1,1,1,1,1,1,1,1,1,1,1,1,1,1,1,1,1,1,1,1,1,1,1,1,1,1,1,1,1,1,1,1,1,1,1,1,1,1,1,1,1,1,1,1,1,1,1,1,1,1,1,1,1,1,1,1,1,1,1,1,1,1,1,1,1,1,1,1,1,1,1,1,1,1,1,1,1,1,1,1,1,1,1,1,1,1,1,1,1,1,1,1,1,1,1,1,1,1,1,1,1,1,1,1,1,1,1,1,1,1,1,1,1,1,1,1,1,1,1,1,1,1,1,1,1,1,1,1,1,1,1,1,1,1,1,1,1,1,1,1,1,1,1,1,1,1,1,1,1,1,1,1,1,1,1,1,1,1,1,1,1,1,1,1,1,1,1,1,1,1,1,1,1,1,1,1,1,1,1,1,1,1,1,1,1,1,1,1,1,1,1,1,1,1,1,1,1,1,1,1,1,1,1,1,1,1,1,1,1,1,1,1,1,1,1,1,1,1,1,1,1,1,1,1,1,1,1,1,1,1,1,1,1,1,1,1,1,1,1,1,1,1,1,1,1,1,1,1,1,1,1,1,1,1,1,1,1,1,1,1,1,1,1,1,1,1,1,1,1,1,1,1,1,1,1,1,1,1,1,1,1,1,1,1],\"yaxis\":\"y\"}],                        {\"barmode\":\"relative\",\"legend\":{\"title\":{\"text\":\"variable\"},\"tracegroupgap\":0},\"template\":{\"data\":{\"bar\":[{\"error_x\":{\"color\":\"#2a3f5f\"},\"error_y\":{\"color\":\"#2a3f5f\"},\"marker\":{\"line\":{\"color\":\"#E5ECF6\",\"width\":0.5},\"pattern\":{\"fillmode\":\"overlay\",\"size\":10,\"solidity\":0.2}},\"type\":\"bar\"}],\"barpolar\":[{\"marker\":{\"line\":{\"color\":\"#E5ECF6\",\"width\":0.5},\"pattern\":{\"fillmode\":\"overlay\",\"size\":10,\"solidity\":0.2}},\"type\":\"barpolar\"}],\"carpet\":[{\"aaxis\":{\"endlinecolor\":\"#2a3f5f\",\"gridcolor\":\"white\",\"linecolor\":\"white\",\"minorgridcolor\":\"white\",\"startlinecolor\":\"#2a3f5f\"},\"baxis\":{\"endlinecolor\":\"#2a3f5f\",\"gridcolor\":\"white\",\"linecolor\":\"white\",\"minorgridcolor\":\"white\",\"startlinecolor\":\"#2a3f5f\"},\"type\":\"carpet\"}],\"choropleth\":[{\"colorbar\":{\"outlinewidth\":0,\"ticks\":\"\"},\"type\":\"choropleth\"}],\"contour\":[{\"colorbar\":{\"outlinewidth\":0,\"ticks\":\"\"},\"colorscale\":[[0.0,\"#0d0887\"],[0.1111111111111111,\"#46039f\"],[0.2222222222222222,\"#7201a8\"],[0.3333333333333333,\"#9c179e\"],[0.4444444444444444,\"#bd3786\"],[0.5555555555555556,\"#d8576b\"],[0.6666666666666666,\"#ed7953\"],[0.7777777777777778,\"#fb9f3a\"],[0.8888888888888888,\"#fdca26\"],[1.0,\"#f0f921\"]],\"type\":\"contour\"}],\"contourcarpet\":[{\"colorbar\":{\"outlinewidth\":0,\"ticks\":\"\"},\"type\":\"contourcarpet\"}],\"heatmap\":[{\"colorbar\":{\"outlinewidth\":0,\"ticks\":\"\"},\"colorscale\":[[0.0,\"#0d0887\"],[0.1111111111111111,\"#46039f\"],[0.2222222222222222,\"#7201a8\"],[0.3333333333333333,\"#9c179e\"],[0.4444444444444444,\"#bd3786\"],[0.5555555555555556,\"#d8576b\"],[0.6666666666666666,\"#ed7953\"],[0.7777777777777778,\"#fb9f3a\"],[0.8888888888888888,\"#fdca26\"],[1.0,\"#f0f921\"]],\"type\":\"heatmap\"}],\"heatmapgl\":[{\"colorbar\":{\"outlinewidth\":0,\"ticks\":\"\"},\"colorscale\":[[0.0,\"#0d0887\"],[0.1111111111111111,\"#46039f\"],[0.2222222222222222,\"#7201a8\"],[0.3333333333333333,\"#9c179e\"],[0.4444444444444444,\"#bd3786\"],[0.5555555555555556,\"#d8576b\"],[0.6666666666666666,\"#ed7953\"],[0.7777777777777778,\"#fb9f3a\"],[0.8888888888888888,\"#fdca26\"],[1.0,\"#f0f921\"]],\"type\":\"heatmapgl\"}],\"histogram\":[{\"marker\":{\"pattern\":{\"fillmode\":\"overlay\",\"size\":10,\"solidity\":0.2}},\"type\":\"histogram\"}],\"histogram2d\":[{\"colorbar\":{\"outlinewidth\":0,\"ticks\":\"\"},\"colorscale\":[[0.0,\"#0d0887\"],[0.1111111111111111,\"#46039f\"],[0.2222222222222222,\"#7201a8\"],[0.3333333333333333,\"#9c179e\"],[0.4444444444444444,\"#bd3786\"],[0.5555555555555556,\"#d8576b\"],[0.6666666666666666,\"#ed7953\"],[0.7777777777777778,\"#fb9f3a\"],[0.8888888888888888,\"#fdca26\"],[1.0,\"#f0f921\"]],\"type\":\"histogram2d\"}],\"histogram2dcontour\":[{\"colorbar\":{\"outlinewidth\":0,\"ticks\":\"\"},\"colorscale\":[[0.0,\"#0d0887\"],[0.1111111111111111,\"#46039f\"],[0.2222222222222222,\"#7201a8\"],[0.3333333333333333,\"#9c179e\"],[0.4444444444444444,\"#bd3786\"],[0.5555555555555556,\"#d8576b\"],[0.6666666666666666,\"#ed7953\"],[0.7777777777777778,\"#fb9f3a\"],[0.8888888888888888,\"#fdca26\"],[1.0,\"#f0f921\"]],\"type\":\"histogram2dcontour\"}],\"mesh3d\":[{\"colorbar\":{\"outlinewidth\":0,\"ticks\":\"\"},\"type\":\"mesh3d\"}],\"parcoords\":[{\"line\":{\"colorbar\":{\"outlinewidth\":0,\"ticks\":\"\"}},\"type\":\"parcoords\"}],\"pie\":[{\"automargin\":true,\"type\":\"pie\"}],\"scatter\":[{\"marker\":{\"colorbar\":{\"outlinewidth\":0,\"ticks\":\"\"}},\"type\":\"scatter\"}],\"scatter3d\":[{\"line\":{\"colorbar\":{\"outlinewidth\":0,\"ticks\":\"\"}},\"marker\":{\"colorbar\":{\"outlinewidth\":0,\"ticks\":\"\"}},\"type\":\"scatter3d\"}],\"scattercarpet\":[{\"marker\":{\"colorbar\":{\"outlinewidth\":0,\"ticks\":\"\"}},\"type\":\"scattercarpet\"}],\"scattergeo\":[{\"marker\":{\"colorbar\":{\"outlinewidth\":0,\"ticks\":\"\"}},\"type\":\"scattergeo\"}],\"scattergl\":[{\"marker\":{\"colorbar\":{\"outlinewidth\":0,\"ticks\":\"\"}},\"type\":\"scattergl\"}],\"scattermapbox\":[{\"marker\":{\"colorbar\":{\"outlinewidth\":0,\"ticks\":\"\"}},\"type\":\"scattermapbox\"}],\"scatterpolar\":[{\"marker\":{\"colorbar\":{\"outlinewidth\":0,\"ticks\":\"\"}},\"type\":\"scatterpolar\"}],\"scatterpolargl\":[{\"marker\":{\"colorbar\":{\"outlinewidth\":0,\"ticks\":\"\"}},\"type\":\"scatterpolargl\"}],\"scatterternary\":[{\"marker\":{\"colorbar\":{\"outlinewidth\":0,\"ticks\":\"\"}},\"type\":\"scatterternary\"}],\"surface\":[{\"colorbar\":{\"outlinewidth\":0,\"ticks\":\"\"},\"colorscale\":[[0.0,\"#0d0887\"],[0.1111111111111111,\"#46039f\"],[0.2222222222222222,\"#7201a8\"],[0.3333333333333333,\"#9c179e\"],[0.4444444444444444,\"#bd3786\"],[0.5555555555555556,\"#d8576b\"],[0.6666666666666666,\"#ed7953\"],[0.7777777777777778,\"#fb9f3a\"],[0.8888888888888888,\"#fdca26\"],[1.0,\"#f0f921\"]],\"type\":\"surface\"}],\"table\":[{\"cells\":{\"fill\":{\"color\":\"#EBF0F8\"},\"line\":{\"color\":\"white\"}},\"header\":{\"fill\":{\"color\":\"#C8D4E3\"},\"line\":{\"color\":\"white\"}},\"type\":\"table\"}]},\"layout\":{\"annotationdefaults\":{\"arrowcolor\":\"#2a3f5f\",\"arrowhead\":0,\"arrowwidth\":1},\"autotypenumbers\":\"strict\",\"coloraxis\":{\"colorbar\":{\"outlinewidth\":0,\"ticks\":\"\"}},\"colorscale\":{\"diverging\":[[0,\"#8e0152\"],[0.1,\"#c51b7d\"],[0.2,\"#de77ae\"],[0.3,\"#f1b6da\"],[0.4,\"#fde0ef\"],[0.5,\"#f7f7f7\"],[0.6,\"#e6f5d0\"],[0.7,\"#b8e186\"],[0.8,\"#7fbc41\"],[0.9,\"#4d9221\"],[1,\"#276419\"]],\"sequential\":[[0.0,\"#0d0887\"],[0.1111111111111111,\"#46039f\"],[0.2222222222222222,\"#7201a8\"],[0.3333333333333333,\"#9c179e\"],[0.4444444444444444,\"#bd3786\"],[0.5555555555555556,\"#d8576b\"],[0.6666666666666666,\"#ed7953\"],[0.7777777777777778,\"#fb9f3a\"],[0.8888888888888888,\"#fdca26\"],[1.0,\"#f0f921\"]],\"sequentialminus\":[[0.0,\"#0d0887\"],[0.1111111111111111,\"#46039f\"],[0.2222222222222222,\"#7201a8\"],[0.3333333333333333,\"#9c179e\"],[0.4444444444444444,\"#bd3786\"],[0.5555555555555556,\"#d8576b\"],[0.6666666666666666,\"#ed7953\"],[0.7777777777777778,\"#fb9f3a\"],[0.8888888888888888,\"#fdca26\"],[1.0,\"#f0f921\"]]},\"colorway\":[\"#636efa\",\"#EF553B\",\"#00cc96\",\"#ab63fa\",\"#FFA15A\",\"#19d3f3\",\"#FF6692\",\"#B6E880\",\"#FF97FF\",\"#FECB52\"],\"font\":{\"color\":\"#2a3f5f\"},\"geo\":{\"bgcolor\":\"white\",\"lakecolor\":\"white\",\"landcolor\":\"#E5ECF6\",\"showlakes\":true,\"showland\":true,\"subunitcolor\":\"white\"},\"hoverlabel\":{\"align\":\"left\"},\"hovermode\":\"closest\",\"mapbox\":{\"style\":\"light\"},\"paper_bgcolor\":\"white\",\"plot_bgcolor\":\"#E5ECF6\",\"polar\":{\"angularaxis\":{\"gridcolor\":\"white\",\"linecolor\":\"white\",\"ticks\":\"\"},\"bgcolor\":\"#E5ECF6\",\"radialaxis\":{\"gridcolor\":\"white\",\"linecolor\":\"white\",\"ticks\":\"\"}},\"scene\":{\"xaxis\":{\"backgroundcolor\":\"#E5ECF6\",\"gridcolor\":\"white\",\"gridwidth\":2,\"linecolor\":\"white\",\"showbackground\":true,\"ticks\":\"\",\"zerolinecolor\":\"white\"},\"yaxis\":{\"backgroundcolor\":\"#E5ECF6\",\"gridcolor\":\"white\",\"gridwidth\":2,\"linecolor\":\"white\",\"showbackground\":true,\"ticks\":\"\",\"zerolinecolor\":\"white\"},\"zaxis\":{\"backgroundcolor\":\"#E5ECF6\",\"gridcolor\":\"white\",\"gridwidth\":2,\"linecolor\":\"white\",\"showbackground\":true,\"ticks\":\"\",\"zerolinecolor\":\"white\"}},\"shapedefaults\":{\"line\":{\"color\":\"#2a3f5f\"}},\"ternary\":{\"aaxis\":{\"gridcolor\":\"white\",\"linecolor\":\"white\",\"ticks\":\"\"},\"baxis\":{\"gridcolor\":\"white\",\"linecolor\":\"white\",\"ticks\":\"\"},\"bgcolor\":\"#E5ECF6\",\"caxis\":{\"gridcolor\":\"white\",\"linecolor\":\"white\",\"ticks\":\"\"}},\"title\":{\"x\":0.05},\"xaxis\":{\"automargin\":true,\"gridcolor\":\"white\",\"linecolor\":\"white\",\"ticks\":\"\",\"title\":{\"standoff\":15},\"zerolinecolor\":\"white\",\"zerolinewidth\":2},\"yaxis\":{\"automargin\":true,\"gridcolor\":\"white\",\"linecolor\":\"white\",\"ticks\":\"\",\"title\":{\"standoff\":15},\"zerolinecolor\":\"white\",\"zerolinewidth\":2}}},\"title\":{\"text\":\"R\\u00e9partition des jus d'orange par Nutriscore\"},\"xaxis\":{\"anchor\":\"y\",\"domain\":[0.0,1.0],\"title\":{\"text\":\"value\"}},\"yaxis\":{\"anchor\":\"x\",\"domain\":[0.0,1.0],\"title\":{\"text\":\"Nombre de produits\"}}},                        {\"responsive\": true}                    ).then(function(){\n                            \nvar gd = document.getElementById('fe6ccacb-6d55-456a-afdd-386557aad66c');\nvar x = new MutationObserver(function (mutations, observer) {{\n        var display = window.getComputedStyle(gd).display;\n        if (!display || display === 'none') {{\n            console.log([gd, 'removed!']);\n            Plotly.purge(gd);\n            observer.disconnect();\n        }}\n}});\n\n// Listen for the removal of the full notebook cells\nvar notebookContainer = gd.closest('#notebook-container');\nif (notebookContainer) {{\n    x.observe(notebookContainer, {childList: true});\n}}\n\n// Listen for the clearing of the current output cell\nvar outputEl = gd.closest('.output');\nif (outputEl) {{\n    x.observe(outputEl, {childList: true});\n}}\n\n                        })                };                });            </script>        </div>"
     },
     "metadata": {},
     "output_type": "display_data"
    }
   ],
   "source": [
    "# visualisation\n",
    "fig = px.bar(df_nutriscore.nutriscore_grade, labels={\n",
    "                     \"nutriscore_grade\": \"Nutriscore\",\n",
    "                     \"count\": \"Nombre de produits\",\n",
    "                 },\n",
    "                title=\"Répartition des jus d'orange par Nutriscore\",\n",
    "             category_orders={\"nutriscore_grade\":['a','b','c','d','e']})\n",
    "\n",
    "fig.show()"
   ]
  },
  {
   "cell_type": "markdown",
   "id": "75932cf6",
   "metadata": {
    "heading_collapsed": true
   },
   "source": [
    "# <b>Ratio sucre / kilocalorie</b>"
   ]
  },
  {
   "cell_type": "code",
   "execution_count": 32,
   "id": "de0bd730",
   "metadata": {
    "hidden": true
   },
   "outputs": [],
   "source": [
    "# nouveau dataframe avec nos targets\n",
    "df_visu1 = df[['sugars_100g', 'energy-kcal_100g']]"
   ]
  },
  {
   "cell_type": "code",
   "execution_count": 33,
   "id": "371872f4",
   "metadata": {
    "hidden": true
   },
   "outputs": [],
   "source": [
    "# standardisation de sugars_100g et energy-kcal_100g pour obtenir la même échelle\n",
    "df_visu1 = MinMaxScaler().fit_transform(df_visu1)"
   ]
  },
  {
   "cell_type": "code",
   "execution_count": 34,
   "id": "bce3e52d",
   "metadata": {
    "hidden": true
   },
   "outputs": [],
   "source": [
    "# conversion du numpy array en dataframe\n",
    "df_visu1 = pd.DataFrame(df_visu1, columns=['Sucre', 'Kcal'])"
   ]
  },
  {
   "cell_type": "code",
   "execution_count": 35,
   "id": "183f185c",
   "metadata": {
    "hidden": true
   },
   "outputs": [
    {
     "data": {
      "application/vnd.plotly.v1+json": {
       "config": {
        "plotlyServerURL": "https://plot.ly"
       },
       "data": [
        {
         "marker": {
          "color": "rgba(171, 50, 96, 0.6)"
         },
         "name": "Sucre",
         "opacity": 0.75,
         "type": "histogram",
         "x": [
          0.15806988352745424,
          0.129783693843594,
          0.008319467554076539,
          null,
          0.14975041597337768,
          null,
          0.16638935108153077,
          0.14309484193011646,
          0.2828618968386023,
          0.16638935108153077,
          0.129783693843594,
          0.15640599001663893,
          null,
          null,
          null,
          0.14475873544093176,
          0.14309484193011646,
          0.14475873544093176,
          0.17970049916805325,
          0.18302828618968386,
          0.14975041597337768,
          null,
          null,
          0.151414309484193,
          0.16638935108153077,
          0.1464226289517471,
          null,
          0.14975041597337768,
          0.15806988352745424,
          null,
          0.15640599001663893,
          0.14309484193011646,
          0.14475873544093176,
          null,
          null,
          null,
          null,
          null,
          null,
          0.0,
          null,
          null,
          null,
          0.16472545757071547,
          0.18302828618968386,
          0.1747088186356073,
          null,
          0.16638935108153077,
          0.14475873544093176,
          0.1530782029950083,
          null,
          0.16805324459234608,
          null,
          null,
          0.16638935108153077,
          0.15806988352745424,
          0.16638935108153077,
          0.14475873544093176,
          null,
          null,
          0.13643926788685523,
          1.0,
          0.14475873544093176,
          0.15806988352745424,
          0.21630615640599,
          0.15474209650582363,
          0.013311148086522463,
          0.009983361461595008,
          0.13311148086522462,
          0.14975041597337768,
          0.1530782029950083,
          0.16638935108153077,
          0.15640599001663893,
          0.151414309484193,
          0.14975041597337768,
          0.18302828618968386,
          null,
          null,
          0.14475873544093176,
          null,
          0.14475873544093176,
          0.14475873544093176,
          0.15806988352745424,
          0.14475873544093176,
          0.16971713810316139,
          0.14475873544093176,
          0.14475873544093176,
          0.13643926788685523,
          0.1697171349295341,
          0.14475873544093176,
          0.15806988352745424,
          0.14475873544093176,
          0.11980033277870215,
          0.12312811980033278,
          null,
          null,
          0.13976705490848584,
          0.16638935108153077,
          0.13477537437603992,
          0.14975041597337768,
          0.18302828618968386,
          0.21630615640599,
          0.16638935108153077,
          0.16638935108153077,
          0.15474209650582363,
          0.16638935108153077,
          0.14475873544093176,
          0.13643926788685523,
          0.14475873544093176,
          null,
          0.14475873544093176,
          0.14143094841930115,
          0.151414309484193,
          0.18302828618968386,
          0.1747088186356073,
          0.14143094841930115,
          0.16638935108153077,
          0.1464226289517471,
          0.14143094841930115,
          0.16638935108153077,
          0.15806988352745424,
          0.15640599001663893,
          0.1464226289517471,
          0.16638935108153077,
          0.14309484193011646,
          0.16306156405990016,
          0.16306156405990016,
          0.1530782029950083,
          0.13810316139767057,
          0.14475873544093176,
          0.1913477537437604,
          0.15640599001663893,
          0.14475873544093176,
          0.14975041597337768,
          0.14975041597337768,
          0.16139767054908483,
          0.14975041597337768,
          0.14143094841930115,
          0.24958402662229617,
          0.13643926788685523,
          0.16638935108153077,
          0.18302828618968386,
          0.14143094841930115,
          0.18302828618968386,
          0.14975041597337768,
          0.14975041597337768,
          0.15973377703826955,
          0.14475873544093176,
          0.14475873544093176,
          0.16638935108153077,
          0.13311148086522462,
          0.13477537437603992,
          0.18302828618968386,
          0.13311148086522462,
          0.14475873544093176,
          0.14475873544093176,
          0.14475873544093176,
          0.15806988352745424,
          0.15640599001663893,
          0.14475873544093176,
          0.16472545757071547,
          0.17138103161397672,
          0.18136439267886856,
          0.18469217970049914,
          0.15806988352745424,
          0.14975041597337768,
          0.18635607321131445,
          0.13477537437603992,
          0.13477537437603992,
          0.14475873544093176,
          0.1064891846921797,
          0.13477537437603992,
          0.18302828618968386,
          0.15806988352745424,
          0.14475873544093176,
          0.18302828618968386,
          0.14475873544093176,
          0.13477537437603992,
          0.13477537437603992,
          0.13477537437603992,
          0.13477537437603992,
          0.13477537437603992,
          0.15806988352745424,
          0.14475873544093176,
          0.14475873544093176,
          0.13477537437603992,
          0.14475873544093176,
          0.14475873544093176,
          0.14475873544093176,
          0.14475873226730615,
          0.15806988352745424,
          0.14475873544093176,
          0.14475873544093176,
          0.14475873544093176,
          0.14475873544093176,
          0.14475873544093176,
          0.14475873226730615,
          0.14475873544093176,
          0.14475873226730615,
          0.14475873544093176,
          0.1281198003327787,
          0.16638935108153077,
          0.15806988352745424,
          0.15640599001663893,
          0.14975041597337768,
          0.14975041597337768,
          0.14975041597337768,
          0.16638935108153077,
          0.16638935108153077,
          0.16805324459234608,
          0.14475873544093176,
          0.16638935108153077,
          0.16971713810316139,
          0.16638935108153077,
          0.15640598366938935,
          0.13477537437603992,
          0.15474209650582363,
          0.13810316139767057,
          0.14143094841930115,
          0.151414309484193,
          0.16638935108153077,
          0.14975041597337768,
          0.14975041597337768,
          0.173044925124792,
          0.15806988352745424,
          0.13810316139767057,
          0.13810316139767057,
          0.16638935108153077,
          0.14975041597337768,
          0.13311148086522462,
          0.14143094841930115,
          0.15474209650582363,
          0.14975041597337768,
          0.15640599001663893,
          0.14975041597337768,
          0.14309484193011646,
          0.129783693843594,
          0.1464226289517471,
          0.14143094841930115,
          0.14143094841930115,
          0.13311148086522462,
          0.13311148086522462,
          0.13311148086522462,
          0.13311148086522462,
          0.13311148086522462,
          0.13311148086522462,
          0.0,
          0.14309484193011646,
          0.14975041597337768,
          0.14975041597337768,
          0.14309484193011646,
          0.14309484193011646,
          0.14309484193011646,
          0.14975041597337768,
          0.13144758894122127,
          0.1364392647132296,
          0.1281198003327787,
          null,
          0.14475873544093176,
          0.14975041597337768,
          0.13976705490848584,
          0.1314475873544093,
          0.14475873544093176,
          0.3494176372712146,
          0.14143094841930115,
          null,
          0.11647254575707154,
          0.1464226289517471,
          0.1530782029950083,
          0.1281198003327787,
          0.1464226289517471,
          0.14143094841930115,
          0.129783693843594,
          0.15474209650582363,
          0.1530782029950083,
          0.16638935108153077,
          0.14309484193011646,
          null,
          0.14309484193011646,
          0.13311148086522462,
          0.16638935108153077,
          0.16638935108153077,
          0.07986688851913477,
          0.13643926788685523,
          0.14475873544093176,
          0.15474209650582363,
          0.15307819982138268,
          0.15973378338551913,
          0.15474209650582363,
          0.15474209650582363,
          0.14143094841930115,
          0.15973378338551913,
          0.13810316457129618,
          null,
          0.13976705490848584,
          0.14475873226730615,
          0.14975041597337768,
          0.13477537437603992,
          0.08485856905158069,
          null,
          null,
          0.13311148086522462,
          0.14975041597337768,
          0.151414309484193,
          null,
          0.14475873544093176,
          0.14475873544093176,
          0.14975041597337768,
          0.13976705490848584,
          0.16971713810316139,
          0.1464226289517471,
          0.14975041597337768,
          null,
          0.18302828618968386,
          0.14475873544093176,
          0.14475873544093176,
          0.14475873544093176,
          0.14975041597337768,
          null,
          null,
          0.14475873544093176,
          0.14475873226730615,
          null,
          0.15474209650582363,
          0.14475873544093176,
          0.14475873544093176,
          0.14475873544093176,
          0.14475873544093176,
          0.16139767054908483,
          null,
          0.13810316139767057,
          0.1480865224625624,
          0.14975041597337768,
          0.16306156405990016,
          0.18302828618968386,
          0.14475873544093176,
          0.16139767054908483,
          0.14975041597337768,
          0.18302828618968386,
          0.15474209650582363,
          0.18302828618968386,
          0.18302828618968386,
          null,
          0.15806988352745424,
          0.14475873544093176,
          null,
          0.14475873544093176,
          0.14475873544093176,
          0.18302828618968386,
          0.16638935108153077,
          null,
          0.16638935108153077,
          0.18302828618968386,
          0.1264559068219634,
          null,
          0.13477537437603992,
          0.13477537437603992,
          0.15474209967944924,
          0.14475873544093176,
          0.18801996672212978,
          0.1963394374498336,
          null,
          null,
          0.18302828618968386,
          0.1763727184936772,
          0.14475873544093176,
          0.16971713810316139,
          0.16638935108153077,
          0.14475873544093176,
          0.14475873544093176,
          0.14475873226730615,
          0.21630615640599,
          0.14475873544093176,
          null,
          0.14475873544093176,
          0.1480865224625624,
          0.16638935108153077,
          0.15806988352745424,
          0.16638935108153077,
          0.16638935108153077,
          0.16638935108153077,
          0.12479201331114809,
          0.14475873544093176,
          0.14475873544093176,
          0.14475873544093176,
          0.14475873544093176,
          0.13477537437603992,
          0.173044925124792,
          0.151414309484193,
          0.15640599001663893,
          0.151414309484193,
          0.16638935108153077,
          0.16638935108153077,
          null,
          0.15474209650582363,
          null,
          0.13178036605657237,
          null,
          0.16638935108153077,
          0.19633943427620631,
          0.14475873544093176,
          0.14475873544093176,
          null,
          0.16638935108153077,
          0.13311148086522462,
          0.14475873226730615,
          0.16638935108153077,
          null,
          0.15973377703826955,
          0.14475873544093176,
          0.14475873544093176,
          0.16139767054908483,
          0.14475873544093176,
          0.16139767054908483,
          0.16638935108153077,
          0.14975041597337768,
          0.16638935108153077,
          0.1480865224625624,
          0.14309484193011646,
          0.16638935108153077,
          0.14475873544093176,
          0.14475873226730615,
          0.1480865224625624,
          0.1480865224625624,
          0.06988352745424292,
          0.0,
          0.21630615640599,
          0.12312811980033278,
          null,
          0.14975041597337768,
          0.14975041597337768,
          0.14975041597337768,
          0.13311148086522462,
          0.13311148086522462,
          0.14475873544093176,
          0.14475873226730615,
          0.14975041597337768,
          0.16805324459234608,
          0.16638935108153077,
          0.16638935108153077,
          0.16638935108153077,
          0.16638935108153077,
          0.14475873226730615,
          0.14475873544093176,
          0.16638935108153077,
          0.16638935108153077,
          0.16638935108153077,
          0.1464226289517471,
          0.16638935108153077,
          0.18302828618968386,
          0.18302828618968386,
          0.18302828618968386,
          0.1594009983361065,
          0.1594009983361065,
          0.14475873544093176,
          0.15474209650582363,
          0.1530782029950083,
          0.1314475873544093,
          0.14975041597337768,
          0.14975041597337768,
          0.13311148086522462,
          null,
          0.14975041597337768,
          0.14975041597337768,
          0.14975041597337768,
          0.1530782029950083,
          0.12479201331114809,
          0.15973377703826955,
          null,
          null,
          0.32279534109816965,
          null,
          0.13643926788685523,
          0.14143094841930115,
          0.13643926788685523,
          0.129783693843594,
          0.129783693843594,
          0.18302828618968386,
          null,
          0.15640599001663893,
          0.16638935108153077,
          0.16638935108153077,
          0.18635607321131445,
          0.19966722129783693,
          0.27687188019966724,
          0.18302828618968386,
          0.1763727121464226,
          0.09983361064891846,
          null,
          0.0,
          0.14475873544093176,
          0.14475873544093176,
          0.0,
          0.0,
          null,
          null,
          0.036605657237936774,
          0.09484193011647254,
          null,
          0.1098169717138103,
          null,
          0.20965058236272877,
          0.15973377703826955,
          null,
          null,
          0.13311148086522462,
          0.1264559068219634,
          0.1747088186356073,
          0.14975041597337768,
          null,
          0.15806988352745424,
          0.15640598366938935,
          0.36605657237936773,
          0.15474209650582363,
          null,
          null,
          null
         ]
        },
        {
         "marker": {
          "color": "rgba(12, 50, 196, 0.6)"
         },
         "name": "Kcal",
         "opacity": 0.75,
         "type": "histogram",
         "x": [
          0.23232323232323235,
          0.18686868686868688,
          0.26262626262626265,
          null,
          null,
          null,
          0.22222222222222224,
          0.17171717171717174,
          0.196969696969697,
          0.22222222222222224,
          0.18181818181818182,
          0.20202020202020204,
          null,
          null,
          null,
          0.196969696969697,
          0.17171717171717174,
          0.19191919191919193,
          0.2474747474747475,
          0.2373737373737374,
          0.21717171717171718,
          null,
          null,
          0.19191919191919193,
          0.2373737373737374,
          0.2272727272727273,
          null,
          0.19191919191919193,
          0.22222222222222224,
          null,
          0.21717171717171718,
          0.21212121212121213,
          0.21212121212121213,
          null,
          null,
          null,
          null,
          null,
          null,
          0.0,
          null,
          null,
          null,
          0.24242424242424243,
          0.23636363636363636,
          0.2272727272727273,
          null,
          0.2272727272727273,
          0.20202020202020204,
          0.196969696969697,
          null,
          0.2272727272727273,
          null,
          null,
          0.21212121212121213,
          0.21212121212121213,
          0.2373737373737374,
          0.9444444444444445,
          null,
          null,
          0.1767676767676768,
          0.2474747474747475,
          0.2070707070707071,
          0.2373737373737374,
          0.2676767676767677,
          0.2272727272727273,
          0.20202020202020204,
          0.20202020202020204,
          0.23232323232323235,
          0.24242424242424243,
          0.21717171717171718,
          0.21212121212121213,
          0.21212121212121213,
          0.20202020202020204,
          0.2070707070707071,
          0.2474747474747475,
          null,
          null,
          0.20202020202020204,
          null,
          0.22222222222222224,
          null,
          0.23232323232323235,
          0.22222222222222224,
          0.2373737373737374,
          0.22222222222222224,
          0.22222222222222224,
          0.21212121212121213,
          0.2373737373737374,
          0.22222222222222224,
          0.2373737373737374,
          0.21212121212121213,
          0.18181818181818182,
          0.18686868686868688,
          null,
          null,
          0.2070707070707071,
          0.2373737373737374,
          0.16161616161616163,
          0.20202020202020204,
          0.24242424242424243,
          0.26262626262626265,
          0.2373737373737374,
          0.23232323232323235,
          null,
          0.20202020202020204,
          0.19191919191919193,
          0.196969696969697,
          0.2070707070707071,
          0.24242424242424243,
          0.20202020202020204,
          0.2070707070707071,
          0.20202020202020204,
          0.2373737373737374,
          0.2272727272727273,
          0.21717171717171718,
          0.2373737373737374,
          0.2272727272727273,
          0.2070707070707071,
          0.2373737373737374,
          0.24242424242424243,
          0.2373737373737374,
          0.2272727272727273,
          0.22222222222222224,
          0.2474747474747475,
          0.23232323232323235,
          0.23232323232323235,
          0.22222222222222224,
          0.18686868686868688,
          0.21212121212121213,
          0.2676767676767677,
          0.196969696969697,
          0.22222222222222224,
          0.22222222222222224,
          0.22222222222222224,
          0.21717171717171718,
          0.22222222222222224,
          0.22222222222222224,
          0.3282828282828283,
          0.17171717171717174,
          0.21212121212121213,
          0.2373737373737374,
          0.21717171717171718,
          0.25252525252525254,
          0.2373737373737374,
          0.2373737373737374,
          0.2272727272727273,
          0.21212121212121213,
          0.2070707070707071,
          0.2272727272727273,
          0.21717171717171718,
          0.1767676767676768,
          0.25252525252525254,
          0.21717171717171718,
          0.2070707070707071,
          0.2070707070707071,
          0.2070707070707071,
          0.2373737373737374,
          0.2272727272727273,
          0.2070707070707071,
          0.2474747474747475,
          0.2575757575757576,
          0.27272727272727276,
          0.2777777777777778,
          0.2373737373737374,
          0.20202020202020204,
          null,
          0.1767676767676768,
          0.1767676767676768,
          0.2272727272727273,
          0.14141414141414144,
          0.20202020202020204,
          0.23232323232323235,
          0.2373737373737374,
          0.2070707070707071,
          0.24242424242424243,
          0.2272727272727273,
          0.1767676767676768,
          0.1767676767676768,
          0.1767676767676768,
          0.27272727272727276,
          0.1767676767676768,
          0.2373737373737374,
          0.2070707070707071,
          0.2070707070707071,
          0.1767676767676768,
          0.2070707070707071,
          0.19191919191919193,
          0.21212121212121213,
          0.2070707070707071,
          0.2373737373737374,
          null,
          0.2070707070707071,
          0.21212121212121213,
          0.20202020202020204,
          0.21212121212121213,
          0.20202020202020204,
          0.2070707070707071,
          0.20202020202020204,
          0.21212121212121213,
          null,
          0.23232323232323235,
          0.24242424242424243,
          0.21212121212121213,
          0.23232323232323235,
          0.23232323232323235,
          0.24242424242424243,
          0.23232323232323235,
          0.21212121212121213,
          0.25252525252525254,
          0.20202020202020204,
          0.37373737373737376,
          0.23232323232323235,
          0.2373737373737374,
          0.21212121212121213,
          0.20202020202020204,
          0.2373737373737374,
          0.19191919191919193,
          0.17171717171717174,
          0.196969696969697,
          0.2373737373737374,
          0.23232323232323235,
          0.2272727272727273,
          0.21212121212121213,
          0.2474747474747475,
          0.2070707070707071,
          0.2070707070707071,
          0.2373737373737374,
          null,
          0.1767676767676768,
          0.21717171717171718,
          null,
          0.2272727272727273,
          0.2272727272727273,
          0.21717171717171718,
          0.17171717171717174,
          0.21212121212121213,
          0.2373737373737374,
          0.2272727272727273,
          0.2272727272727273,
          0.2272727272727273,
          0.2373737373737374,
          0.2272727272727273,
          0.2272727272727273,
          0.2272727272727273,
          0.2272727272727273,
          0.26262626262626265,
          0.17171717171717174,
          0.17171717171717174,
          0.17171717171717174,
          0.17171717171717174,
          0.17171717171717174,
          0.17171717171717174,
          0.17171717171717174,
          0.196969696969697,
          0.2373737373737374,
          0.21212121212121213,
          null,
          0.21212121212121213,
          0.19191919191919193,
          0.17171717171717174,
          0.2070707070707071,
          0.19191919191919193,
          0.686868686868687,
          0.2272727272727273,
          null,
          0.19191919191919193,
          0.21717171717171718,
          0.22222222222222224,
          0.196969696969697,
          0.21212121212121213,
          0.17171717171717174,
          0.18686868686868688,
          0.2272727272727273,
          0.21717171717171718,
          0.24242424242424243,
          0.21717171717171718,
          null,
          0.21717171717171718,
          0.23232323232323235,
          0.25252525252525254,
          0.21717171717171718,
          0.10101010101010102,
          0.196969696969697,
          0.20202020202020204,
          0.2272727272727273,
          0.22222222222222224,
          0.21212121212121213,
          0.21212121212121213,
          0.21212121212121213,
          0.22222222222222224,
          0.2272727272727273,
          0.1767676767676768,
          null,
          0.2373737373737374,
          0.19191919191919193,
          0.19191919191919193,
          0.1767676767676768,
          0.21212121212121213,
          null,
          null,
          0.2272727272727273,
          0.20202020202020204,
          0.23232323232323235,
          null,
          0.196969696969697,
          0.196969696969697,
          0.196969696969697,
          0.18686868686868688,
          0.23232323232323235,
          0.2373737373737374,
          0.19191919191919193,
          null,
          0.23232323232323235,
          0.19191919191919193,
          0.2070707070707071,
          0.196969696969697,
          0.20202020202020204,
          null,
          null,
          null,
          0.19191919191919193,
          null,
          null,
          null,
          null,
          null,
          null,
          0.21717171717171718,
          null,
          0.18181818181818182,
          null,
          null,
          null,
          null,
          null,
          null,
          null,
          null,
          null,
          0.2373737373737374,
          null,
          null,
          null,
          null,
          null,
          0.196969696969697,
          0.196969696969697,
          null,
          null,
          null,
          null,
          null,
          0.1767676767676768,
          null,
          0.1767676767676768,
          0.1767676767676768,
          0.24242424242424243,
          0.21212121212121213,
          0.2474747474747475,
          0.2878787878787879,
          null,
          null,
          0.24242424242424243,
          1.0,
          0.21212121212121213,
          0.25252525252525254,
          0.2474747474747475,
          0.21212121212121213,
          0.196969696969697,
          0.21212121212121213,
          null,
          0.196969696969697,
          null,
          0.22222222222222224,
          0.22222222222222224,
          0.25252525252525254,
          0.22222222222222224,
          0.25252525252525254,
          0.23232323232323235,
          0.25252525252525254,
          0.1767676767676768,
          0.196969696969697,
          0.21212121212121213,
          0.21212121212121213,
          0.21212121212121213,
          0.22222222222222224,
          0.23232323232323235,
          0.2070707070707071,
          0.21717171717171718,
          0.20202020202020204,
          0.2272727272727273,
          0.25252525252525254,
          null,
          0.2272727272727273,
          null,
          0.2373737373737374,
          null,
          0.22222222222222224,
          0.3383838383838384,
          0.2070707070707071,
          0.20202020202020204,
          null,
          0.2272727272727273,
          0.23232323232323235,
          0.2272727272727273,
          0.2272727272727273,
          null,
          0.21212121212121213,
          0.20202020202020204,
          0.2070707070707071,
          0.2272727272727273,
          0.2070707070707071,
          0.2272727272727273,
          0.2070707070707071,
          0.21717171717171718,
          0.26262626262626265,
          0.21717171717171718,
          0.17171717171717174,
          0.23232323232323235,
          0.196969696969697,
          0.21212121212121213,
          0.22070707070707074,
          0.21717171717171718,
          0.17171717171717174,
          0.0,
          0.30303030303030304,
          0.2070707070707071,
          null,
          0.21717171717171718,
          0.21717171717171718,
          0.21717171717171718,
          0.23232323232323235,
          0.22222222222222224,
          0.21212121212121213,
          0.196969696969697,
          0.21717171717171718,
          0.21212121212121213,
          0.23232323232323235,
          0.23232323232323235,
          0.23232323232323235,
          0.23232323232323235,
          0.2070707070707071,
          0.2070707070707071,
          0.23232323232323235,
          0.23232323232323235,
          0.2272727272727273,
          0.23232323232323235,
          0.25252525252525254,
          0.23232323232323235,
          0.23232323232323235,
          0.23232323232323235,
          0.2272727272727273,
          0.9646464646464648,
          0.21212121212121213,
          0.21717171717171718,
          0.2676767676767677,
          0.2373737373737374,
          0.21717171717171718,
          0.21717171717171718,
          0.2272727272727273,
          null,
          0.22222222222222224,
          0.21212121212121213,
          0.22222222222222224,
          0.21717171717171718,
          0.27272727272727276,
          0.23232323232323235,
          null,
          null,
          0.43939393939393945,
          null,
          0.19191919191919193,
          null,
          0.23282828282828286,
          0.18181818181818182,
          0.18181818181818182,
          null,
          null,
          0.21717171717171718,
          0.24242424242424243,
          0.2474747474747475,
          0.25252525252525254,
          0.24242424242424243,
          0.4696969696969697,
          0.2474747474747475,
          0.2777777777777778,
          0.2676767676767677,
          null,
          0.24242424242424243,
          0.20202020202020204,
          0.196969696969697,
          0.24242424242424243,
          0.24242424242424243,
          null,
          null,
          0.05050505050505051,
          0.16666666666666669,
          null,
          0.14141414141414144,
          null,
          0.2575757575757576,
          0.2272727272727273,
          null,
          null,
          0.196969696969697,
          0.21212121212121213,
          null,
          null,
          null,
          0.196969696969697,
          0.196969696969697,
          0.08080808080808081,
          0.2373737373737374,
          null,
          null,
          null
         ]
        }
       ],
       "layout": {
        "barmode": "overlay",
        "template": {
         "data": {
          "bar": [
           {
            "error_x": {
             "color": "#2a3f5f"
            },
            "error_y": {
             "color": "#2a3f5f"
            },
            "marker": {
             "line": {
              "color": "#E5ECF6",
              "width": 0.5
             },
             "pattern": {
              "fillmode": "overlay",
              "size": 10,
              "solidity": 0.2
             }
            },
            "type": "bar"
           }
          ],
          "barpolar": [
           {
            "marker": {
             "line": {
              "color": "#E5ECF6",
              "width": 0.5
             },
             "pattern": {
              "fillmode": "overlay",
              "size": 10,
              "solidity": 0.2
             }
            },
            "type": "barpolar"
           }
          ],
          "carpet": [
           {
            "aaxis": {
             "endlinecolor": "#2a3f5f",
             "gridcolor": "white",
             "linecolor": "white",
             "minorgridcolor": "white",
             "startlinecolor": "#2a3f5f"
            },
            "baxis": {
             "endlinecolor": "#2a3f5f",
             "gridcolor": "white",
             "linecolor": "white",
             "minorgridcolor": "white",
             "startlinecolor": "#2a3f5f"
            },
            "type": "carpet"
           }
          ],
          "choropleth": [
           {
            "colorbar": {
             "outlinewidth": 0,
             "ticks": ""
            },
            "type": "choropleth"
           }
          ],
          "contour": [
           {
            "colorbar": {
             "outlinewidth": 0,
             "ticks": ""
            },
            "colorscale": [
             [
              0.0,
              "#0d0887"
             ],
             [
              0.1111111111111111,
              "#46039f"
             ],
             [
              0.2222222222222222,
              "#7201a8"
             ],
             [
              0.3333333333333333,
              "#9c179e"
             ],
             [
              0.4444444444444444,
              "#bd3786"
             ],
             [
              0.5555555555555556,
              "#d8576b"
             ],
             [
              0.6666666666666666,
              "#ed7953"
             ],
             [
              0.7777777777777778,
              "#fb9f3a"
             ],
             [
              0.8888888888888888,
              "#fdca26"
             ],
             [
              1.0,
              "#f0f921"
             ]
            ],
            "type": "contour"
           }
          ],
          "contourcarpet": [
           {
            "colorbar": {
             "outlinewidth": 0,
             "ticks": ""
            },
            "type": "contourcarpet"
           }
          ],
          "heatmap": [
           {
            "colorbar": {
             "outlinewidth": 0,
             "ticks": ""
            },
            "colorscale": [
             [
              0.0,
              "#0d0887"
             ],
             [
              0.1111111111111111,
              "#46039f"
             ],
             [
              0.2222222222222222,
              "#7201a8"
             ],
             [
              0.3333333333333333,
              "#9c179e"
             ],
             [
              0.4444444444444444,
              "#bd3786"
             ],
             [
              0.5555555555555556,
              "#d8576b"
             ],
             [
              0.6666666666666666,
              "#ed7953"
             ],
             [
              0.7777777777777778,
              "#fb9f3a"
             ],
             [
              0.8888888888888888,
              "#fdca26"
             ],
             [
              1.0,
              "#f0f921"
             ]
            ],
            "type": "heatmap"
           }
          ],
          "heatmapgl": [
           {
            "colorbar": {
             "outlinewidth": 0,
             "ticks": ""
            },
            "colorscale": [
             [
              0.0,
              "#0d0887"
             ],
             [
              0.1111111111111111,
              "#46039f"
             ],
             [
              0.2222222222222222,
              "#7201a8"
             ],
             [
              0.3333333333333333,
              "#9c179e"
             ],
             [
              0.4444444444444444,
              "#bd3786"
             ],
             [
              0.5555555555555556,
              "#d8576b"
             ],
             [
              0.6666666666666666,
              "#ed7953"
             ],
             [
              0.7777777777777778,
              "#fb9f3a"
             ],
             [
              0.8888888888888888,
              "#fdca26"
             ],
             [
              1.0,
              "#f0f921"
             ]
            ],
            "type": "heatmapgl"
           }
          ],
          "histogram": [
           {
            "marker": {
             "pattern": {
              "fillmode": "overlay",
              "size": 10,
              "solidity": 0.2
             }
            },
            "type": "histogram"
           }
          ],
          "histogram2d": [
           {
            "colorbar": {
             "outlinewidth": 0,
             "ticks": ""
            },
            "colorscale": [
             [
              0.0,
              "#0d0887"
             ],
             [
              0.1111111111111111,
              "#46039f"
             ],
             [
              0.2222222222222222,
              "#7201a8"
             ],
             [
              0.3333333333333333,
              "#9c179e"
             ],
             [
              0.4444444444444444,
              "#bd3786"
             ],
             [
              0.5555555555555556,
              "#d8576b"
             ],
             [
              0.6666666666666666,
              "#ed7953"
             ],
             [
              0.7777777777777778,
              "#fb9f3a"
             ],
             [
              0.8888888888888888,
              "#fdca26"
             ],
             [
              1.0,
              "#f0f921"
             ]
            ],
            "type": "histogram2d"
           }
          ],
          "histogram2dcontour": [
           {
            "colorbar": {
             "outlinewidth": 0,
             "ticks": ""
            },
            "colorscale": [
             [
              0.0,
              "#0d0887"
             ],
             [
              0.1111111111111111,
              "#46039f"
             ],
             [
              0.2222222222222222,
              "#7201a8"
             ],
             [
              0.3333333333333333,
              "#9c179e"
             ],
             [
              0.4444444444444444,
              "#bd3786"
             ],
             [
              0.5555555555555556,
              "#d8576b"
             ],
             [
              0.6666666666666666,
              "#ed7953"
             ],
             [
              0.7777777777777778,
              "#fb9f3a"
             ],
             [
              0.8888888888888888,
              "#fdca26"
             ],
             [
              1.0,
              "#f0f921"
             ]
            ],
            "type": "histogram2dcontour"
           }
          ],
          "mesh3d": [
           {
            "colorbar": {
             "outlinewidth": 0,
             "ticks": ""
            },
            "type": "mesh3d"
           }
          ],
          "parcoords": [
           {
            "line": {
             "colorbar": {
              "outlinewidth": 0,
              "ticks": ""
             }
            },
            "type": "parcoords"
           }
          ],
          "pie": [
           {
            "automargin": true,
            "type": "pie"
           }
          ],
          "scatter": [
           {
            "marker": {
             "colorbar": {
              "outlinewidth": 0,
              "ticks": ""
             }
            },
            "type": "scatter"
           }
          ],
          "scatter3d": [
           {
            "line": {
             "colorbar": {
              "outlinewidth": 0,
              "ticks": ""
             }
            },
            "marker": {
             "colorbar": {
              "outlinewidth": 0,
              "ticks": ""
             }
            },
            "type": "scatter3d"
           }
          ],
          "scattercarpet": [
           {
            "marker": {
             "colorbar": {
              "outlinewidth": 0,
              "ticks": ""
             }
            },
            "type": "scattercarpet"
           }
          ],
          "scattergeo": [
           {
            "marker": {
             "colorbar": {
              "outlinewidth": 0,
              "ticks": ""
             }
            },
            "type": "scattergeo"
           }
          ],
          "scattergl": [
           {
            "marker": {
             "colorbar": {
              "outlinewidth": 0,
              "ticks": ""
             }
            },
            "type": "scattergl"
           }
          ],
          "scattermapbox": [
           {
            "marker": {
             "colorbar": {
              "outlinewidth": 0,
              "ticks": ""
             }
            },
            "type": "scattermapbox"
           }
          ],
          "scatterpolar": [
           {
            "marker": {
             "colorbar": {
              "outlinewidth": 0,
              "ticks": ""
             }
            },
            "type": "scatterpolar"
           }
          ],
          "scatterpolargl": [
           {
            "marker": {
             "colorbar": {
              "outlinewidth": 0,
              "ticks": ""
             }
            },
            "type": "scatterpolargl"
           }
          ],
          "scatterternary": [
           {
            "marker": {
             "colorbar": {
              "outlinewidth": 0,
              "ticks": ""
             }
            },
            "type": "scatterternary"
           }
          ],
          "surface": [
           {
            "colorbar": {
             "outlinewidth": 0,
             "ticks": ""
            },
            "colorscale": [
             [
              0.0,
              "#0d0887"
             ],
             [
              0.1111111111111111,
              "#46039f"
             ],
             [
              0.2222222222222222,
              "#7201a8"
             ],
             [
              0.3333333333333333,
              "#9c179e"
             ],
             [
              0.4444444444444444,
              "#bd3786"
             ],
             [
              0.5555555555555556,
              "#d8576b"
             ],
             [
              0.6666666666666666,
              "#ed7953"
             ],
             [
              0.7777777777777778,
              "#fb9f3a"
             ],
             [
              0.8888888888888888,
              "#fdca26"
             ],
             [
              1.0,
              "#f0f921"
             ]
            ],
            "type": "surface"
           }
          ],
          "table": [
           {
            "cells": {
             "fill": {
              "color": "#EBF0F8"
             },
             "line": {
              "color": "white"
             }
            },
            "header": {
             "fill": {
              "color": "#C8D4E3"
             },
             "line": {
              "color": "white"
             }
            },
            "type": "table"
           }
          ]
         },
         "layout": {
          "annotationdefaults": {
           "arrowcolor": "#2a3f5f",
           "arrowhead": 0,
           "arrowwidth": 1
          },
          "autotypenumbers": "strict",
          "coloraxis": {
           "colorbar": {
            "outlinewidth": 0,
            "ticks": ""
           }
          },
          "colorscale": {
           "diverging": [
            [
             0,
             "#8e0152"
            ],
            [
             0.1,
             "#c51b7d"
            ],
            [
             0.2,
             "#de77ae"
            ],
            [
             0.3,
             "#f1b6da"
            ],
            [
             0.4,
             "#fde0ef"
            ],
            [
             0.5,
             "#f7f7f7"
            ],
            [
             0.6,
             "#e6f5d0"
            ],
            [
             0.7,
             "#b8e186"
            ],
            [
             0.8,
             "#7fbc41"
            ],
            [
             0.9,
             "#4d9221"
            ],
            [
             1,
             "#276419"
            ]
           ],
           "sequential": [
            [
             0.0,
             "#0d0887"
            ],
            [
             0.1111111111111111,
             "#46039f"
            ],
            [
             0.2222222222222222,
             "#7201a8"
            ],
            [
             0.3333333333333333,
             "#9c179e"
            ],
            [
             0.4444444444444444,
             "#bd3786"
            ],
            [
             0.5555555555555556,
             "#d8576b"
            ],
            [
             0.6666666666666666,
             "#ed7953"
            ],
            [
             0.7777777777777778,
             "#fb9f3a"
            ],
            [
             0.8888888888888888,
             "#fdca26"
            ],
            [
             1.0,
             "#f0f921"
            ]
           ],
           "sequentialminus": [
            [
             0.0,
             "#0d0887"
            ],
            [
             0.1111111111111111,
             "#46039f"
            ],
            [
             0.2222222222222222,
             "#7201a8"
            ],
            [
             0.3333333333333333,
             "#9c179e"
            ],
            [
             0.4444444444444444,
             "#bd3786"
            ],
            [
             0.5555555555555556,
             "#d8576b"
            ],
            [
             0.6666666666666666,
             "#ed7953"
            ],
            [
             0.7777777777777778,
             "#fb9f3a"
            ],
            [
             0.8888888888888888,
             "#fdca26"
            ],
            [
             1.0,
             "#f0f921"
            ]
           ]
          },
          "colorway": [
           "#636efa",
           "#EF553B",
           "#00cc96",
           "#ab63fa",
           "#FFA15A",
           "#19d3f3",
           "#FF6692",
           "#B6E880",
           "#FF97FF",
           "#FECB52"
          ],
          "font": {
           "color": "#2a3f5f"
          },
          "geo": {
           "bgcolor": "white",
           "lakecolor": "white",
           "landcolor": "#E5ECF6",
           "showlakes": true,
           "showland": true,
           "subunitcolor": "white"
          },
          "hoverlabel": {
           "align": "left"
          },
          "hovermode": "closest",
          "mapbox": {
           "style": "light"
          },
          "paper_bgcolor": "white",
          "plot_bgcolor": "#E5ECF6",
          "polar": {
           "angularaxis": {
            "gridcolor": "white",
            "linecolor": "white",
            "ticks": ""
           },
           "bgcolor": "#E5ECF6",
           "radialaxis": {
            "gridcolor": "white",
            "linecolor": "white",
            "ticks": ""
           }
          },
          "scene": {
           "xaxis": {
            "backgroundcolor": "#E5ECF6",
            "gridcolor": "white",
            "gridwidth": 2,
            "linecolor": "white",
            "showbackground": true,
            "ticks": "",
            "zerolinecolor": "white"
           },
           "yaxis": {
            "backgroundcolor": "#E5ECF6",
            "gridcolor": "white",
            "gridwidth": 2,
            "linecolor": "white",
            "showbackground": true,
            "ticks": "",
            "zerolinecolor": "white"
           },
           "zaxis": {
            "backgroundcolor": "#E5ECF6",
            "gridcolor": "white",
            "gridwidth": 2,
            "linecolor": "white",
            "showbackground": true,
            "ticks": "",
            "zerolinecolor": "white"
           }
          },
          "shapedefaults": {
           "line": {
            "color": "#2a3f5f"
           }
          },
          "ternary": {
           "aaxis": {
            "gridcolor": "white",
            "linecolor": "white",
            "ticks": ""
           },
           "baxis": {
            "gridcolor": "white",
            "linecolor": "white",
            "ticks": ""
           },
           "bgcolor": "#E5ECF6",
           "caxis": {
            "gridcolor": "white",
            "linecolor": "white",
            "ticks": ""
           }
          },
          "title": {
           "x": 0.05
          },
          "xaxis": {
           "automargin": true,
           "gridcolor": "white",
           "linecolor": "white",
           "ticks": "",
           "title": {
            "standoff": 15
           },
           "zerolinecolor": "white",
           "zerolinewidth": 2
          },
          "yaxis": {
           "automargin": true,
           "gridcolor": "white",
           "linecolor": "white",
           "ticks": "",
           "title": {
            "standoff": 15
           },
           "zerolinecolor": "white",
           "zerolinewidth": 2
          }
         }
        },
        "title": {
         "text": "Ratio sucre / kilocalorie"
        },
        "xaxis": {
         "title": {
          "text": "Ratio sucre / kcal"
         }
        },
        "yaxis": {
         "title": {
          "text": "Nombres"
         }
        }
       }
      },
      "text/html": "<div>                            <div id=\"6f7f1455-56c1-4350-bd60-66fb8bb74953\" class=\"plotly-graph-div\" style=\"height:525px; width:100%;\"></div>            <script type=\"text/javascript\">                require([\"plotly\"], function(Plotly) {                    window.PLOTLYENV=window.PLOTLYENV || {};                                    if (document.getElementById(\"6f7f1455-56c1-4350-bd60-66fb8bb74953\")) {                    Plotly.newPlot(                        \"6f7f1455-56c1-4350-bd60-66fb8bb74953\",                        [{\"marker\":{\"color\":\"rgba(171, 50, 96, 0.6)\"},\"name\":\"Sucre\",\"opacity\":0.75,\"type\":\"histogram\",\"x\":[0.15806988352745424,0.129783693843594,0.008319467554076539,null,0.14975041597337768,null,0.16638935108153077,0.14309484193011646,0.2828618968386023,0.16638935108153077,0.129783693843594,0.15640599001663893,null,null,null,0.14475873544093176,0.14309484193011646,0.14475873544093176,0.17970049916805325,0.18302828618968386,0.14975041597337768,null,null,0.151414309484193,0.16638935108153077,0.1464226289517471,null,0.14975041597337768,0.15806988352745424,null,0.15640599001663893,0.14309484193011646,0.14475873544093176,null,null,null,null,null,null,0.0,null,null,null,0.16472545757071547,0.18302828618968386,0.1747088186356073,null,0.16638935108153077,0.14475873544093176,0.1530782029950083,null,0.16805324459234608,null,null,0.16638935108153077,0.15806988352745424,0.16638935108153077,0.14475873544093176,null,null,0.13643926788685523,1.0,0.14475873544093176,0.15806988352745424,0.21630615640599,0.15474209650582363,0.013311148086522463,0.009983361461595008,0.13311148086522462,0.14975041597337768,0.1530782029950083,0.16638935108153077,0.15640599001663893,0.151414309484193,0.14975041597337768,0.18302828618968386,null,null,0.14475873544093176,null,0.14475873544093176,0.14475873544093176,0.15806988352745424,0.14475873544093176,0.16971713810316139,0.14475873544093176,0.14475873544093176,0.13643926788685523,0.1697171349295341,0.14475873544093176,0.15806988352745424,0.14475873544093176,0.11980033277870215,0.12312811980033278,null,null,0.13976705490848584,0.16638935108153077,0.13477537437603992,0.14975041597337768,0.18302828618968386,0.21630615640599,0.16638935108153077,0.16638935108153077,0.15474209650582363,0.16638935108153077,0.14475873544093176,0.13643926788685523,0.14475873544093176,null,0.14475873544093176,0.14143094841930115,0.151414309484193,0.18302828618968386,0.1747088186356073,0.14143094841930115,0.16638935108153077,0.1464226289517471,0.14143094841930115,0.16638935108153077,0.15806988352745424,0.15640599001663893,0.1464226289517471,0.16638935108153077,0.14309484193011646,0.16306156405990016,0.16306156405990016,0.1530782029950083,0.13810316139767057,0.14475873544093176,0.1913477537437604,0.15640599001663893,0.14475873544093176,0.14975041597337768,0.14975041597337768,0.16139767054908483,0.14975041597337768,0.14143094841930115,0.24958402662229617,0.13643926788685523,0.16638935108153077,0.18302828618968386,0.14143094841930115,0.18302828618968386,0.14975041597337768,0.14975041597337768,0.15973377703826955,0.14475873544093176,0.14475873544093176,0.16638935108153077,0.13311148086522462,0.13477537437603992,0.18302828618968386,0.13311148086522462,0.14475873544093176,0.14475873544093176,0.14475873544093176,0.15806988352745424,0.15640599001663893,0.14475873544093176,0.16472545757071547,0.17138103161397672,0.18136439267886856,0.18469217970049914,0.15806988352745424,0.14975041597337768,0.18635607321131445,0.13477537437603992,0.13477537437603992,0.14475873544093176,0.1064891846921797,0.13477537437603992,0.18302828618968386,0.15806988352745424,0.14475873544093176,0.18302828618968386,0.14475873544093176,0.13477537437603992,0.13477537437603992,0.13477537437603992,0.13477537437603992,0.13477537437603992,0.15806988352745424,0.14475873544093176,0.14475873544093176,0.13477537437603992,0.14475873544093176,0.14475873544093176,0.14475873544093176,0.14475873226730615,0.15806988352745424,0.14475873544093176,0.14475873544093176,0.14475873544093176,0.14475873544093176,0.14475873544093176,0.14475873226730615,0.14475873544093176,0.14475873226730615,0.14475873544093176,0.1281198003327787,0.16638935108153077,0.15806988352745424,0.15640599001663893,0.14975041597337768,0.14975041597337768,0.14975041597337768,0.16638935108153077,0.16638935108153077,0.16805324459234608,0.14475873544093176,0.16638935108153077,0.16971713810316139,0.16638935108153077,0.15640598366938935,0.13477537437603992,0.15474209650582363,0.13810316139767057,0.14143094841930115,0.151414309484193,0.16638935108153077,0.14975041597337768,0.14975041597337768,0.173044925124792,0.15806988352745424,0.13810316139767057,0.13810316139767057,0.16638935108153077,0.14975041597337768,0.13311148086522462,0.14143094841930115,0.15474209650582363,0.14975041597337768,0.15640599001663893,0.14975041597337768,0.14309484193011646,0.129783693843594,0.1464226289517471,0.14143094841930115,0.14143094841930115,0.13311148086522462,0.13311148086522462,0.13311148086522462,0.13311148086522462,0.13311148086522462,0.13311148086522462,0.0,0.14309484193011646,0.14975041597337768,0.14975041597337768,0.14309484193011646,0.14309484193011646,0.14309484193011646,0.14975041597337768,0.13144758894122127,0.1364392647132296,0.1281198003327787,null,0.14475873544093176,0.14975041597337768,0.13976705490848584,0.1314475873544093,0.14475873544093176,0.3494176372712146,0.14143094841930115,null,0.11647254575707154,0.1464226289517471,0.1530782029950083,0.1281198003327787,0.1464226289517471,0.14143094841930115,0.129783693843594,0.15474209650582363,0.1530782029950083,0.16638935108153077,0.14309484193011646,null,0.14309484193011646,0.13311148086522462,0.16638935108153077,0.16638935108153077,0.07986688851913477,0.13643926788685523,0.14475873544093176,0.15474209650582363,0.15307819982138268,0.15973378338551913,0.15474209650582363,0.15474209650582363,0.14143094841930115,0.15973378338551913,0.13810316457129618,null,0.13976705490848584,0.14475873226730615,0.14975041597337768,0.13477537437603992,0.08485856905158069,null,null,0.13311148086522462,0.14975041597337768,0.151414309484193,null,0.14475873544093176,0.14475873544093176,0.14975041597337768,0.13976705490848584,0.16971713810316139,0.1464226289517471,0.14975041597337768,null,0.18302828618968386,0.14475873544093176,0.14475873544093176,0.14475873544093176,0.14975041597337768,null,null,0.14475873544093176,0.14475873226730615,null,0.15474209650582363,0.14475873544093176,0.14475873544093176,0.14475873544093176,0.14475873544093176,0.16139767054908483,null,0.13810316139767057,0.1480865224625624,0.14975041597337768,0.16306156405990016,0.18302828618968386,0.14475873544093176,0.16139767054908483,0.14975041597337768,0.18302828618968386,0.15474209650582363,0.18302828618968386,0.18302828618968386,null,0.15806988352745424,0.14475873544093176,null,0.14475873544093176,0.14475873544093176,0.18302828618968386,0.16638935108153077,null,0.16638935108153077,0.18302828618968386,0.1264559068219634,null,0.13477537437603992,0.13477537437603992,0.15474209967944924,0.14475873544093176,0.18801996672212978,0.1963394374498336,null,null,0.18302828618968386,0.1763727184936772,0.14475873544093176,0.16971713810316139,0.16638935108153077,0.14475873544093176,0.14475873544093176,0.14475873226730615,0.21630615640599,0.14475873544093176,null,0.14475873544093176,0.1480865224625624,0.16638935108153077,0.15806988352745424,0.16638935108153077,0.16638935108153077,0.16638935108153077,0.12479201331114809,0.14475873544093176,0.14475873544093176,0.14475873544093176,0.14475873544093176,0.13477537437603992,0.173044925124792,0.151414309484193,0.15640599001663893,0.151414309484193,0.16638935108153077,0.16638935108153077,null,0.15474209650582363,null,0.13178036605657237,null,0.16638935108153077,0.19633943427620631,0.14475873544093176,0.14475873544093176,null,0.16638935108153077,0.13311148086522462,0.14475873226730615,0.16638935108153077,null,0.15973377703826955,0.14475873544093176,0.14475873544093176,0.16139767054908483,0.14475873544093176,0.16139767054908483,0.16638935108153077,0.14975041597337768,0.16638935108153077,0.1480865224625624,0.14309484193011646,0.16638935108153077,0.14475873544093176,0.14475873226730615,0.1480865224625624,0.1480865224625624,0.06988352745424292,0.0,0.21630615640599,0.12312811980033278,null,0.14975041597337768,0.14975041597337768,0.14975041597337768,0.13311148086522462,0.13311148086522462,0.14475873544093176,0.14475873226730615,0.14975041597337768,0.16805324459234608,0.16638935108153077,0.16638935108153077,0.16638935108153077,0.16638935108153077,0.14475873226730615,0.14475873544093176,0.16638935108153077,0.16638935108153077,0.16638935108153077,0.1464226289517471,0.16638935108153077,0.18302828618968386,0.18302828618968386,0.18302828618968386,0.1594009983361065,0.1594009983361065,0.14475873544093176,0.15474209650582363,0.1530782029950083,0.1314475873544093,0.14975041597337768,0.14975041597337768,0.13311148086522462,null,0.14975041597337768,0.14975041597337768,0.14975041597337768,0.1530782029950083,0.12479201331114809,0.15973377703826955,null,null,0.32279534109816965,null,0.13643926788685523,0.14143094841930115,0.13643926788685523,0.129783693843594,0.129783693843594,0.18302828618968386,null,0.15640599001663893,0.16638935108153077,0.16638935108153077,0.18635607321131445,0.19966722129783693,0.27687188019966724,0.18302828618968386,0.1763727121464226,0.09983361064891846,null,0.0,0.14475873544093176,0.14475873544093176,0.0,0.0,null,null,0.036605657237936774,0.09484193011647254,null,0.1098169717138103,null,0.20965058236272877,0.15973377703826955,null,null,0.13311148086522462,0.1264559068219634,0.1747088186356073,0.14975041597337768,null,0.15806988352745424,0.15640598366938935,0.36605657237936773,0.15474209650582363,null,null,null]},{\"marker\":{\"color\":\"rgba(12, 50, 196, 0.6)\"},\"name\":\"Kcal\",\"opacity\":0.75,\"type\":\"histogram\",\"x\":[0.23232323232323235,0.18686868686868688,0.26262626262626265,null,null,null,0.22222222222222224,0.17171717171717174,0.196969696969697,0.22222222222222224,0.18181818181818182,0.20202020202020204,null,null,null,0.196969696969697,0.17171717171717174,0.19191919191919193,0.2474747474747475,0.2373737373737374,0.21717171717171718,null,null,0.19191919191919193,0.2373737373737374,0.2272727272727273,null,0.19191919191919193,0.22222222222222224,null,0.21717171717171718,0.21212121212121213,0.21212121212121213,null,null,null,null,null,null,0.0,null,null,null,0.24242424242424243,0.23636363636363636,0.2272727272727273,null,0.2272727272727273,0.20202020202020204,0.196969696969697,null,0.2272727272727273,null,null,0.21212121212121213,0.21212121212121213,0.2373737373737374,0.9444444444444445,null,null,0.1767676767676768,0.2474747474747475,0.2070707070707071,0.2373737373737374,0.2676767676767677,0.2272727272727273,0.20202020202020204,0.20202020202020204,0.23232323232323235,0.24242424242424243,0.21717171717171718,0.21212121212121213,0.21212121212121213,0.20202020202020204,0.2070707070707071,0.2474747474747475,null,null,0.20202020202020204,null,0.22222222222222224,null,0.23232323232323235,0.22222222222222224,0.2373737373737374,0.22222222222222224,0.22222222222222224,0.21212121212121213,0.2373737373737374,0.22222222222222224,0.2373737373737374,0.21212121212121213,0.18181818181818182,0.18686868686868688,null,null,0.2070707070707071,0.2373737373737374,0.16161616161616163,0.20202020202020204,0.24242424242424243,0.26262626262626265,0.2373737373737374,0.23232323232323235,null,0.20202020202020204,0.19191919191919193,0.196969696969697,0.2070707070707071,0.24242424242424243,0.20202020202020204,0.2070707070707071,0.20202020202020204,0.2373737373737374,0.2272727272727273,0.21717171717171718,0.2373737373737374,0.2272727272727273,0.2070707070707071,0.2373737373737374,0.24242424242424243,0.2373737373737374,0.2272727272727273,0.22222222222222224,0.2474747474747475,0.23232323232323235,0.23232323232323235,0.22222222222222224,0.18686868686868688,0.21212121212121213,0.2676767676767677,0.196969696969697,0.22222222222222224,0.22222222222222224,0.22222222222222224,0.21717171717171718,0.22222222222222224,0.22222222222222224,0.3282828282828283,0.17171717171717174,0.21212121212121213,0.2373737373737374,0.21717171717171718,0.25252525252525254,0.2373737373737374,0.2373737373737374,0.2272727272727273,0.21212121212121213,0.2070707070707071,0.2272727272727273,0.21717171717171718,0.1767676767676768,0.25252525252525254,0.21717171717171718,0.2070707070707071,0.2070707070707071,0.2070707070707071,0.2373737373737374,0.2272727272727273,0.2070707070707071,0.2474747474747475,0.2575757575757576,0.27272727272727276,0.2777777777777778,0.2373737373737374,0.20202020202020204,null,0.1767676767676768,0.1767676767676768,0.2272727272727273,0.14141414141414144,0.20202020202020204,0.23232323232323235,0.2373737373737374,0.2070707070707071,0.24242424242424243,0.2272727272727273,0.1767676767676768,0.1767676767676768,0.1767676767676768,0.27272727272727276,0.1767676767676768,0.2373737373737374,0.2070707070707071,0.2070707070707071,0.1767676767676768,0.2070707070707071,0.19191919191919193,0.21212121212121213,0.2070707070707071,0.2373737373737374,null,0.2070707070707071,0.21212121212121213,0.20202020202020204,0.21212121212121213,0.20202020202020204,0.2070707070707071,0.20202020202020204,0.21212121212121213,null,0.23232323232323235,0.24242424242424243,0.21212121212121213,0.23232323232323235,0.23232323232323235,0.24242424242424243,0.23232323232323235,0.21212121212121213,0.25252525252525254,0.20202020202020204,0.37373737373737376,0.23232323232323235,0.2373737373737374,0.21212121212121213,0.20202020202020204,0.2373737373737374,0.19191919191919193,0.17171717171717174,0.196969696969697,0.2373737373737374,0.23232323232323235,0.2272727272727273,0.21212121212121213,0.2474747474747475,0.2070707070707071,0.2070707070707071,0.2373737373737374,null,0.1767676767676768,0.21717171717171718,null,0.2272727272727273,0.2272727272727273,0.21717171717171718,0.17171717171717174,0.21212121212121213,0.2373737373737374,0.2272727272727273,0.2272727272727273,0.2272727272727273,0.2373737373737374,0.2272727272727273,0.2272727272727273,0.2272727272727273,0.2272727272727273,0.26262626262626265,0.17171717171717174,0.17171717171717174,0.17171717171717174,0.17171717171717174,0.17171717171717174,0.17171717171717174,0.17171717171717174,0.196969696969697,0.2373737373737374,0.21212121212121213,null,0.21212121212121213,0.19191919191919193,0.17171717171717174,0.2070707070707071,0.19191919191919193,0.686868686868687,0.2272727272727273,null,0.19191919191919193,0.21717171717171718,0.22222222222222224,0.196969696969697,0.21212121212121213,0.17171717171717174,0.18686868686868688,0.2272727272727273,0.21717171717171718,0.24242424242424243,0.21717171717171718,null,0.21717171717171718,0.23232323232323235,0.25252525252525254,0.21717171717171718,0.10101010101010102,0.196969696969697,0.20202020202020204,0.2272727272727273,0.22222222222222224,0.21212121212121213,0.21212121212121213,0.21212121212121213,0.22222222222222224,0.2272727272727273,0.1767676767676768,null,0.2373737373737374,0.19191919191919193,0.19191919191919193,0.1767676767676768,0.21212121212121213,null,null,0.2272727272727273,0.20202020202020204,0.23232323232323235,null,0.196969696969697,0.196969696969697,0.196969696969697,0.18686868686868688,0.23232323232323235,0.2373737373737374,0.19191919191919193,null,0.23232323232323235,0.19191919191919193,0.2070707070707071,0.196969696969697,0.20202020202020204,null,null,null,0.19191919191919193,null,null,null,null,null,null,0.21717171717171718,null,0.18181818181818182,null,null,null,null,null,null,null,null,null,0.2373737373737374,null,null,null,null,null,0.196969696969697,0.196969696969697,null,null,null,null,null,0.1767676767676768,null,0.1767676767676768,0.1767676767676768,0.24242424242424243,0.21212121212121213,0.2474747474747475,0.2878787878787879,null,null,0.24242424242424243,1.0,0.21212121212121213,0.25252525252525254,0.2474747474747475,0.21212121212121213,0.196969696969697,0.21212121212121213,null,0.196969696969697,null,0.22222222222222224,0.22222222222222224,0.25252525252525254,0.22222222222222224,0.25252525252525254,0.23232323232323235,0.25252525252525254,0.1767676767676768,0.196969696969697,0.21212121212121213,0.21212121212121213,0.21212121212121213,0.22222222222222224,0.23232323232323235,0.2070707070707071,0.21717171717171718,0.20202020202020204,0.2272727272727273,0.25252525252525254,null,0.2272727272727273,null,0.2373737373737374,null,0.22222222222222224,0.3383838383838384,0.2070707070707071,0.20202020202020204,null,0.2272727272727273,0.23232323232323235,0.2272727272727273,0.2272727272727273,null,0.21212121212121213,0.20202020202020204,0.2070707070707071,0.2272727272727273,0.2070707070707071,0.2272727272727273,0.2070707070707071,0.21717171717171718,0.26262626262626265,0.21717171717171718,0.17171717171717174,0.23232323232323235,0.196969696969697,0.21212121212121213,0.22070707070707074,0.21717171717171718,0.17171717171717174,0.0,0.30303030303030304,0.2070707070707071,null,0.21717171717171718,0.21717171717171718,0.21717171717171718,0.23232323232323235,0.22222222222222224,0.21212121212121213,0.196969696969697,0.21717171717171718,0.21212121212121213,0.23232323232323235,0.23232323232323235,0.23232323232323235,0.23232323232323235,0.2070707070707071,0.2070707070707071,0.23232323232323235,0.23232323232323235,0.2272727272727273,0.23232323232323235,0.25252525252525254,0.23232323232323235,0.23232323232323235,0.23232323232323235,0.2272727272727273,0.9646464646464648,0.21212121212121213,0.21717171717171718,0.2676767676767677,0.2373737373737374,0.21717171717171718,0.21717171717171718,0.2272727272727273,null,0.22222222222222224,0.21212121212121213,0.22222222222222224,0.21717171717171718,0.27272727272727276,0.23232323232323235,null,null,0.43939393939393945,null,0.19191919191919193,null,0.23282828282828286,0.18181818181818182,0.18181818181818182,null,null,0.21717171717171718,0.24242424242424243,0.2474747474747475,0.25252525252525254,0.24242424242424243,0.4696969696969697,0.2474747474747475,0.2777777777777778,0.2676767676767677,null,0.24242424242424243,0.20202020202020204,0.196969696969697,0.24242424242424243,0.24242424242424243,null,null,0.05050505050505051,0.16666666666666669,null,0.14141414141414144,null,0.2575757575757576,0.2272727272727273,null,null,0.196969696969697,0.21212121212121213,null,null,null,0.196969696969697,0.196969696969697,0.08080808080808081,0.2373737373737374,null,null,null]}],                        {\"barmode\":\"overlay\",\"template\":{\"data\":{\"bar\":[{\"error_x\":{\"color\":\"#2a3f5f\"},\"error_y\":{\"color\":\"#2a3f5f\"},\"marker\":{\"line\":{\"color\":\"#E5ECF6\",\"width\":0.5},\"pattern\":{\"fillmode\":\"overlay\",\"size\":10,\"solidity\":0.2}},\"type\":\"bar\"}],\"barpolar\":[{\"marker\":{\"line\":{\"color\":\"#E5ECF6\",\"width\":0.5},\"pattern\":{\"fillmode\":\"overlay\",\"size\":10,\"solidity\":0.2}},\"type\":\"barpolar\"}],\"carpet\":[{\"aaxis\":{\"endlinecolor\":\"#2a3f5f\",\"gridcolor\":\"white\",\"linecolor\":\"white\",\"minorgridcolor\":\"white\",\"startlinecolor\":\"#2a3f5f\"},\"baxis\":{\"endlinecolor\":\"#2a3f5f\",\"gridcolor\":\"white\",\"linecolor\":\"white\",\"minorgridcolor\":\"white\",\"startlinecolor\":\"#2a3f5f\"},\"type\":\"carpet\"}],\"choropleth\":[{\"colorbar\":{\"outlinewidth\":0,\"ticks\":\"\"},\"type\":\"choropleth\"}],\"contour\":[{\"colorbar\":{\"outlinewidth\":0,\"ticks\":\"\"},\"colorscale\":[[0.0,\"#0d0887\"],[0.1111111111111111,\"#46039f\"],[0.2222222222222222,\"#7201a8\"],[0.3333333333333333,\"#9c179e\"],[0.4444444444444444,\"#bd3786\"],[0.5555555555555556,\"#d8576b\"],[0.6666666666666666,\"#ed7953\"],[0.7777777777777778,\"#fb9f3a\"],[0.8888888888888888,\"#fdca26\"],[1.0,\"#f0f921\"]],\"type\":\"contour\"}],\"contourcarpet\":[{\"colorbar\":{\"outlinewidth\":0,\"ticks\":\"\"},\"type\":\"contourcarpet\"}],\"heatmap\":[{\"colorbar\":{\"outlinewidth\":0,\"ticks\":\"\"},\"colorscale\":[[0.0,\"#0d0887\"],[0.1111111111111111,\"#46039f\"],[0.2222222222222222,\"#7201a8\"],[0.3333333333333333,\"#9c179e\"],[0.4444444444444444,\"#bd3786\"],[0.5555555555555556,\"#d8576b\"],[0.6666666666666666,\"#ed7953\"],[0.7777777777777778,\"#fb9f3a\"],[0.8888888888888888,\"#fdca26\"],[1.0,\"#f0f921\"]],\"type\":\"heatmap\"}],\"heatmapgl\":[{\"colorbar\":{\"outlinewidth\":0,\"ticks\":\"\"},\"colorscale\":[[0.0,\"#0d0887\"],[0.1111111111111111,\"#46039f\"],[0.2222222222222222,\"#7201a8\"],[0.3333333333333333,\"#9c179e\"],[0.4444444444444444,\"#bd3786\"],[0.5555555555555556,\"#d8576b\"],[0.6666666666666666,\"#ed7953\"],[0.7777777777777778,\"#fb9f3a\"],[0.8888888888888888,\"#fdca26\"],[1.0,\"#f0f921\"]],\"type\":\"heatmapgl\"}],\"histogram\":[{\"marker\":{\"pattern\":{\"fillmode\":\"overlay\",\"size\":10,\"solidity\":0.2}},\"type\":\"histogram\"}],\"histogram2d\":[{\"colorbar\":{\"outlinewidth\":0,\"ticks\":\"\"},\"colorscale\":[[0.0,\"#0d0887\"],[0.1111111111111111,\"#46039f\"],[0.2222222222222222,\"#7201a8\"],[0.3333333333333333,\"#9c179e\"],[0.4444444444444444,\"#bd3786\"],[0.5555555555555556,\"#d8576b\"],[0.6666666666666666,\"#ed7953\"],[0.7777777777777778,\"#fb9f3a\"],[0.8888888888888888,\"#fdca26\"],[1.0,\"#f0f921\"]],\"type\":\"histogram2d\"}],\"histogram2dcontour\":[{\"colorbar\":{\"outlinewidth\":0,\"ticks\":\"\"},\"colorscale\":[[0.0,\"#0d0887\"],[0.1111111111111111,\"#46039f\"],[0.2222222222222222,\"#7201a8\"],[0.3333333333333333,\"#9c179e\"],[0.4444444444444444,\"#bd3786\"],[0.5555555555555556,\"#d8576b\"],[0.6666666666666666,\"#ed7953\"],[0.7777777777777778,\"#fb9f3a\"],[0.8888888888888888,\"#fdca26\"],[1.0,\"#f0f921\"]],\"type\":\"histogram2dcontour\"}],\"mesh3d\":[{\"colorbar\":{\"outlinewidth\":0,\"ticks\":\"\"},\"type\":\"mesh3d\"}],\"parcoords\":[{\"line\":{\"colorbar\":{\"outlinewidth\":0,\"ticks\":\"\"}},\"type\":\"parcoords\"}],\"pie\":[{\"automargin\":true,\"type\":\"pie\"}],\"scatter\":[{\"marker\":{\"colorbar\":{\"outlinewidth\":0,\"ticks\":\"\"}},\"type\":\"scatter\"}],\"scatter3d\":[{\"line\":{\"colorbar\":{\"outlinewidth\":0,\"ticks\":\"\"}},\"marker\":{\"colorbar\":{\"outlinewidth\":0,\"ticks\":\"\"}},\"type\":\"scatter3d\"}],\"scattercarpet\":[{\"marker\":{\"colorbar\":{\"outlinewidth\":0,\"ticks\":\"\"}},\"type\":\"scattercarpet\"}],\"scattergeo\":[{\"marker\":{\"colorbar\":{\"outlinewidth\":0,\"ticks\":\"\"}},\"type\":\"scattergeo\"}],\"scattergl\":[{\"marker\":{\"colorbar\":{\"outlinewidth\":0,\"ticks\":\"\"}},\"type\":\"scattergl\"}],\"scattermapbox\":[{\"marker\":{\"colorbar\":{\"outlinewidth\":0,\"ticks\":\"\"}},\"type\":\"scattermapbox\"}],\"scatterpolar\":[{\"marker\":{\"colorbar\":{\"outlinewidth\":0,\"ticks\":\"\"}},\"type\":\"scatterpolar\"}],\"scatterpolargl\":[{\"marker\":{\"colorbar\":{\"outlinewidth\":0,\"ticks\":\"\"}},\"type\":\"scatterpolargl\"}],\"scatterternary\":[{\"marker\":{\"colorbar\":{\"outlinewidth\":0,\"ticks\":\"\"}},\"type\":\"scatterternary\"}],\"surface\":[{\"colorbar\":{\"outlinewidth\":0,\"ticks\":\"\"},\"colorscale\":[[0.0,\"#0d0887\"],[0.1111111111111111,\"#46039f\"],[0.2222222222222222,\"#7201a8\"],[0.3333333333333333,\"#9c179e\"],[0.4444444444444444,\"#bd3786\"],[0.5555555555555556,\"#d8576b\"],[0.6666666666666666,\"#ed7953\"],[0.7777777777777778,\"#fb9f3a\"],[0.8888888888888888,\"#fdca26\"],[1.0,\"#f0f921\"]],\"type\":\"surface\"}],\"table\":[{\"cells\":{\"fill\":{\"color\":\"#EBF0F8\"},\"line\":{\"color\":\"white\"}},\"header\":{\"fill\":{\"color\":\"#C8D4E3\"},\"line\":{\"color\":\"white\"}},\"type\":\"table\"}]},\"layout\":{\"annotationdefaults\":{\"arrowcolor\":\"#2a3f5f\",\"arrowhead\":0,\"arrowwidth\":1},\"autotypenumbers\":\"strict\",\"coloraxis\":{\"colorbar\":{\"outlinewidth\":0,\"ticks\":\"\"}},\"colorscale\":{\"diverging\":[[0,\"#8e0152\"],[0.1,\"#c51b7d\"],[0.2,\"#de77ae\"],[0.3,\"#f1b6da\"],[0.4,\"#fde0ef\"],[0.5,\"#f7f7f7\"],[0.6,\"#e6f5d0\"],[0.7,\"#b8e186\"],[0.8,\"#7fbc41\"],[0.9,\"#4d9221\"],[1,\"#276419\"]],\"sequential\":[[0.0,\"#0d0887\"],[0.1111111111111111,\"#46039f\"],[0.2222222222222222,\"#7201a8\"],[0.3333333333333333,\"#9c179e\"],[0.4444444444444444,\"#bd3786\"],[0.5555555555555556,\"#d8576b\"],[0.6666666666666666,\"#ed7953\"],[0.7777777777777778,\"#fb9f3a\"],[0.8888888888888888,\"#fdca26\"],[1.0,\"#f0f921\"]],\"sequentialminus\":[[0.0,\"#0d0887\"],[0.1111111111111111,\"#46039f\"],[0.2222222222222222,\"#7201a8\"],[0.3333333333333333,\"#9c179e\"],[0.4444444444444444,\"#bd3786\"],[0.5555555555555556,\"#d8576b\"],[0.6666666666666666,\"#ed7953\"],[0.7777777777777778,\"#fb9f3a\"],[0.8888888888888888,\"#fdca26\"],[1.0,\"#f0f921\"]]},\"colorway\":[\"#636efa\",\"#EF553B\",\"#00cc96\",\"#ab63fa\",\"#FFA15A\",\"#19d3f3\",\"#FF6692\",\"#B6E880\",\"#FF97FF\",\"#FECB52\"],\"font\":{\"color\":\"#2a3f5f\"},\"geo\":{\"bgcolor\":\"white\",\"lakecolor\":\"white\",\"landcolor\":\"#E5ECF6\",\"showlakes\":true,\"showland\":true,\"subunitcolor\":\"white\"},\"hoverlabel\":{\"align\":\"left\"},\"hovermode\":\"closest\",\"mapbox\":{\"style\":\"light\"},\"paper_bgcolor\":\"white\",\"plot_bgcolor\":\"#E5ECF6\",\"polar\":{\"angularaxis\":{\"gridcolor\":\"white\",\"linecolor\":\"white\",\"ticks\":\"\"},\"bgcolor\":\"#E5ECF6\",\"radialaxis\":{\"gridcolor\":\"white\",\"linecolor\":\"white\",\"ticks\":\"\"}},\"scene\":{\"xaxis\":{\"backgroundcolor\":\"#E5ECF6\",\"gridcolor\":\"white\",\"gridwidth\":2,\"linecolor\":\"white\",\"showbackground\":true,\"ticks\":\"\",\"zerolinecolor\":\"white\"},\"yaxis\":{\"backgroundcolor\":\"#E5ECF6\",\"gridcolor\":\"white\",\"gridwidth\":2,\"linecolor\":\"white\",\"showbackground\":true,\"ticks\":\"\",\"zerolinecolor\":\"white\"},\"zaxis\":{\"backgroundcolor\":\"#E5ECF6\",\"gridcolor\":\"white\",\"gridwidth\":2,\"linecolor\":\"white\",\"showbackground\":true,\"ticks\":\"\",\"zerolinecolor\":\"white\"}},\"shapedefaults\":{\"line\":{\"color\":\"#2a3f5f\"}},\"ternary\":{\"aaxis\":{\"gridcolor\":\"white\",\"linecolor\":\"white\",\"ticks\":\"\"},\"baxis\":{\"gridcolor\":\"white\",\"linecolor\":\"white\",\"ticks\":\"\"},\"bgcolor\":\"#E5ECF6\",\"caxis\":{\"gridcolor\":\"white\",\"linecolor\":\"white\",\"ticks\":\"\"}},\"title\":{\"x\":0.05},\"xaxis\":{\"automargin\":true,\"gridcolor\":\"white\",\"linecolor\":\"white\",\"ticks\":\"\",\"title\":{\"standoff\":15},\"zerolinecolor\":\"white\",\"zerolinewidth\":2},\"yaxis\":{\"automargin\":true,\"gridcolor\":\"white\",\"linecolor\":\"white\",\"ticks\":\"\",\"title\":{\"standoff\":15},\"zerolinecolor\":\"white\",\"zerolinewidth\":2}}},\"title\":{\"text\":\"Ratio sucre / kilocalorie\"},\"xaxis\":{\"title\":{\"text\":\"Ratio sucre / kcal\"}},\"yaxis\":{\"title\":{\"text\":\"Nombres\"}}},                        {\"responsive\": true}                    ).then(function(){\n                            \nvar gd = document.getElementById('6f7f1455-56c1-4350-bd60-66fb8bb74953');\nvar x = new MutationObserver(function (mutations, observer) {{\n        var display = window.getComputedStyle(gd).display;\n        if (!display || display === 'none') {{\n            console.log([gd, 'removed!']);\n            Plotly.purge(gd);\n            observer.disconnect();\n        }}\n}});\n\n// Listen for the removal of the full notebook cells\nvar notebookContainer = gd.closest('#notebook-container');\nif (notebookContainer) {{\n    x.observe(notebookContainer, {childList: true});\n}}\n\n// Listen for the clearing of the current output cell\nvar outputEl = gd.closest('.output');\nif (outputEl) {{\n    x.observe(outputEl, {childList: true});\n}}\n\n                        })                };                });            </script>        </div>"
     },
     "metadata": {},
     "output_type": "display_data"
    }
   ],
   "source": [
    "# visualisation\n",
    "sucre = go.Histogram(\n",
    "    x=df_visu1.Sucre,\n",
    "    opacity=0.75,\n",
    "    name = \"Sucre\",\n",
    "    marker=dict(color='rgba(171, 50, 96, 0.6)'))\n",
    "kcal = go.Histogram(\n",
    "    x=df_visu1.Kcal,\n",
    "    opacity=0.75,\n",
    "    name = \"Kcal\",\n",
    "    marker=dict(color='rgba(12, 50, 196, 0.6)'))\n",
    "\n",
    "data = [sucre, kcal]\n",
    "layout = go.Layout(barmode='overlay',\n",
    "                   title='Ratio sucre / kilocalorie',\n",
    "                   xaxis=dict(title='Ratio sucre / kcal'),\n",
    "                   yaxis=dict( title='Nombres'))\n",
    "fig = go.Figure(data=data, layout=layout)\n",
    "fig.show()"
   ]
  },
  {
   "cell_type": "markdown",
   "id": "c4c95844",
   "metadata": {
    "heading_collapsed": true
   },
   "source": [
    "# <b>Taux de sucre pour 100gr</b>"
   ]
  },
  {
   "cell_type": "code",
   "execution_count": 36,
   "id": "9708f2ba",
   "metadata": {
    "hidden": true
   },
   "outputs": [],
   "source": [
    "# delete product with sugars_100g = 0\n",
    "df_sugars = df[df.sugars_100g != 0]"
   ]
  },
  {
   "cell_type": "code",
   "execution_count": 37,
   "id": "c2340eff",
   "metadata": {
    "hidden": true
   },
   "outputs": [
    {
     "data": {
      "text/plain": "8.7     79\n10.0    51\n9.0     42\n11.0    23\n8.0     17\n        ..\n7.2      1\n10.6     1\n6.0      1\n10.6     1\n7.9      1\nName: sugars_100g, Length: 77, dtype: int64"
     },
     "execution_count": 37,
     "metadata": {},
     "output_type": "execute_result"
    }
   ],
   "source": [
    "df_sugars['sugars_100g'].value_counts().sort_values(ascending=False)"
   ]
  },
  {
   "cell_type": "code",
   "execution_count": 40,
   "id": "b47850b4",
   "metadata": {
    "hidden": true
   },
   "outputs": [
    {
     "ename": "TypeError",
     "evalue": "'<' not supported between instances of 'int' and 'pandas._libs.interval.Interval'",
     "output_type": "error",
     "traceback": [
      "\u001B[1;31m---------------------------------------------------------------------------\u001B[0m",
      "\u001B[1;31mTypeError\u001B[0m                                 Traceback (most recent call last)",
      "\u001B[1;32m<ipython-input-40-5f40362f2da4>\u001B[0m in \u001B[0;36m<module>\u001B[1;34m\u001B[0m\n\u001B[0;32m      3\u001B[0m \u001B[1;33m\u001B[0m\u001B[0m\n\u001B[0;32m      4\u001B[0m \u001B[1;31m# use pd.cut to create the bins\u001B[0m\u001B[1;33m\u001B[0m\u001B[1;33m\u001B[0m\u001B[1;33m\u001B[0m\u001B[0m\n\u001B[1;32m----> 5\u001B[1;33m \u001B[0mdf\u001B[0m\u001B[1;33m[\u001B[0m\u001B[1;34m'sugars_100g'\u001B[0m\u001B[1;33m]\u001B[0m \u001B[1;33m=\u001B[0m \u001B[0mpd\u001B[0m\u001B[1;33m.\u001B[0m\u001B[0mcut\u001B[0m\u001B[1;33m(\u001B[0m\u001B[0mdf\u001B[0m\u001B[1;33m[\u001B[0m\u001B[1;34m'sugars_100g'\u001B[0m\u001B[1;33m]\u001B[0m\u001B[1;33m,\u001B[0m \u001B[0mbins\u001B[0m\u001B[1;33m,\u001B[0m \u001B[0minclude_lowest\u001B[0m\u001B[1;33m=\u001B[0m\u001B[1;32mTrue\u001B[0m\u001B[1;33m)\u001B[0m\u001B[1;33m\u001B[0m\u001B[1;33m\u001B[0m\u001B[0m\n\u001B[0m\u001B[0;32m      6\u001B[0m \u001B[1;33m\u001B[0m\u001B[0m\n\u001B[0;32m      7\u001B[0m \u001B[1;31m# pd.cut creates an interval category which is sorted from lowest bin to the greatest bin\u001B[0m\u001B[1;33m\u001B[0m\u001B[1;33m\u001B[0m\u001B[1;33m\u001B[0m\u001B[0m\n",
      "\u001B[1;32m~\\anaconda3\\lib\\site-packages\\pandas\\core\\reshape\\tile.py\u001B[0m in \u001B[0;36mcut\u001B[1;34m(x, bins, right, labels, retbins, precision, include_lowest, duplicates, ordered)\u001B[0m\n\u001B[0;32m    271\u001B[0m             \u001B[1;32mraise\u001B[0m \u001B[0mValueError\u001B[0m\u001B[1;33m(\u001B[0m\u001B[1;34m\"bins must increase monotonically.\"\u001B[0m\u001B[1;33m)\u001B[0m\u001B[1;33m\u001B[0m\u001B[1;33m\u001B[0m\u001B[0m\n\u001B[0;32m    272\u001B[0m \u001B[1;33m\u001B[0m\u001B[0m\n\u001B[1;32m--> 273\u001B[1;33m     fac, bins = _bins_to_cuts(\n\u001B[0m\u001B[0;32m    274\u001B[0m         \u001B[0mx\u001B[0m\u001B[1;33m,\u001B[0m\u001B[1;33m\u001B[0m\u001B[1;33m\u001B[0m\u001B[0m\n\u001B[0;32m    275\u001B[0m         \u001B[0mbins\u001B[0m\u001B[1;33m,\u001B[0m\u001B[1;33m\u001B[0m\u001B[1;33m\u001B[0m\u001B[0m\n",
      "\u001B[1;32m~\\anaconda3\\lib\\site-packages\\pandas\\core\\reshape\\tile.py\u001B[0m in \u001B[0;36m_bins_to_cuts\u001B[1;34m(x, bins, right, labels, precision, include_lowest, dtype, duplicates, ordered)\u001B[0m\n\u001B[0;32m    405\u001B[0m \u001B[1;33m\u001B[0m\u001B[0m\n\u001B[0;32m    406\u001B[0m     \u001B[0mside\u001B[0m \u001B[1;33m=\u001B[0m \u001B[1;34m\"left\"\u001B[0m \u001B[1;32mif\u001B[0m \u001B[0mright\u001B[0m \u001B[1;32melse\u001B[0m \u001B[1;34m\"right\"\u001B[0m\u001B[1;33m\u001B[0m\u001B[1;33m\u001B[0m\u001B[0m\n\u001B[1;32m--> 407\u001B[1;33m     \u001B[0mids\u001B[0m \u001B[1;33m=\u001B[0m \u001B[0mensure_int64\u001B[0m\u001B[1;33m(\u001B[0m\u001B[0mbins\u001B[0m\u001B[1;33m.\u001B[0m\u001B[0msearchsorted\u001B[0m\u001B[1;33m(\u001B[0m\u001B[0mx\u001B[0m\u001B[1;33m,\u001B[0m \u001B[0mside\u001B[0m\u001B[1;33m=\u001B[0m\u001B[0mside\u001B[0m\u001B[1;33m)\u001B[0m\u001B[1;33m)\u001B[0m\u001B[1;33m\u001B[0m\u001B[1;33m\u001B[0m\u001B[0m\n\u001B[0m\u001B[0;32m    408\u001B[0m \u001B[1;33m\u001B[0m\u001B[0m\n\u001B[0;32m    409\u001B[0m     \u001B[1;32mif\u001B[0m \u001B[0minclude_lowest\u001B[0m\u001B[1;33m:\u001B[0m\u001B[1;33m\u001B[0m\u001B[1;33m\u001B[0m\u001B[0m\n",
      "\u001B[1;31mTypeError\u001B[0m: '<' not supported between instances of 'int' and 'pandas._libs.interval.Interval'"
     ]
    }
   ],
   "source": [
    "# create 5 bins starting with 0 up to 50\n",
    "bins = np.arange(0, 30, 5)\n",
    "\n",
    "# use pd.cut to create the bins\n",
    "df['sugars_100g'] = pd.cut(df['sugars_100g'], bins, include_lowest=True)\n",
    "\n",
    "# pd.cut creates an interval category which is sorted from lowest bin to the greatest bin\n",
    "df['sugars_100g'].cat.categories\n",
    "\n",
    "# count the values in each bin. Bins are sorted based on the occurance (from most populated to the least one)\n",
    "agg = df['sugars_100g'].value_counts()\n",
    "\n",
    "# sort the values according to the bins (`sort_index`), turn into data frame (`to_frame`) and reset index\n",
    "agg = agg.sort_index().to_frame().reset_index()\n",
    "\n",
    "# rename index (containing the bin range to bins)\n",
    "agg.rename(columns={\"index\":\"bins\"}, inplace=True)\n",
    "\n",
    "# Plotly cannot work with categories index, so we need to turn it into string\n",
    "agg[\"bins\"] = agg[\"bins\"].astype(\"str\")\n",
    "\n",
    "agg"
   ]
  },
  {
   "cell_type": "code",
   "execution_count": 41,
   "id": "8944b181",
   "metadata": {
    "hidden": true
   },
   "outputs": [
    {
     "data": {
      "application/vnd.plotly.v1+json": {
       "config": {
        "plotlyServerURL": "https://plot.ly"
       },
       "data": [
        {
         "domain": {
          "x": [
           0.0,
           1.0
          ],
          "y": [
           0.0,
           1.0
          ]
         },
         "hovertemplate": "bins=%{label}<br>sugars_100g=%{value}<extra></extra>",
         "labels": [
          "(-0.001, 5.0]",
          "(5.0, 10.0]",
          "(10.0, 15.0]",
          "(15.0, 20.0]",
          "(20.0, 25.0]"
         ],
         "legendgroup": "",
         "name": "",
         "showlegend": true,
         "type": "pie",
         "values": [
          12,
          373,
          55,
          3,
          2
         ]
        }
       ],
       "layout": {
        "legend": {
         "tracegroupgap": 0
        },
        "template": {
         "data": {
          "bar": [
           {
            "error_x": {
             "color": "#2a3f5f"
            },
            "error_y": {
             "color": "#2a3f5f"
            },
            "marker": {
             "line": {
              "color": "#E5ECF6",
              "width": 0.5
             },
             "pattern": {
              "fillmode": "overlay",
              "size": 10,
              "solidity": 0.2
             }
            },
            "type": "bar"
           }
          ],
          "barpolar": [
           {
            "marker": {
             "line": {
              "color": "#E5ECF6",
              "width": 0.5
             },
             "pattern": {
              "fillmode": "overlay",
              "size": 10,
              "solidity": 0.2
             }
            },
            "type": "barpolar"
           }
          ],
          "carpet": [
           {
            "aaxis": {
             "endlinecolor": "#2a3f5f",
             "gridcolor": "white",
             "linecolor": "white",
             "minorgridcolor": "white",
             "startlinecolor": "#2a3f5f"
            },
            "baxis": {
             "endlinecolor": "#2a3f5f",
             "gridcolor": "white",
             "linecolor": "white",
             "minorgridcolor": "white",
             "startlinecolor": "#2a3f5f"
            },
            "type": "carpet"
           }
          ],
          "choropleth": [
           {
            "colorbar": {
             "outlinewidth": 0,
             "ticks": ""
            },
            "type": "choropleth"
           }
          ],
          "contour": [
           {
            "colorbar": {
             "outlinewidth": 0,
             "ticks": ""
            },
            "colorscale": [
             [
              0.0,
              "#0d0887"
             ],
             [
              0.1111111111111111,
              "#46039f"
             ],
             [
              0.2222222222222222,
              "#7201a8"
             ],
             [
              0.3333333333333333,
              "#9c179e"
             ],
             [
              0.4444444444444444,
              "#bd3786"
             ],
             [
              0.5555555555555556,
              "#d8576b"
             ],
             [
              0.6666666666666666,
              "#ed7953"
             ],
             [
              0.7777777777777778,
              "#fb9f3a"
             ],
             [
              0.8888888888888888,
              "#fdca26"
             ],
             [
              1.0,
              "#f0f921"
             ]
            ],
            "type": "contour"
           }
          ],
          "contourcarpet": [
           {
            "colorbar": {
             "outlinewidth": 0,
             "ticks": ""
            },
            "type": "contourcarpet"
           }
          ],
          "heatmap": [
           {
            "colorbar": {
             "outlinewidth": 0,
             "ticks": ""
            },
            "colorscale": [
             [
              0.0,
              "#0d0887"
             ],
             [
              0.1111111111111111,
              "#46039f"
             ],
             [
              0.2222222222222222,
              "#7201a8"
             ],
             [
              0.3333333333333333,
              "#9c179e"
             ],
             [
              0.4444444444444444,
              "#bd3786"
             ],
             [
              0.5555555555555556,
              "#d8576b"
             ],
             [
              0.6666666666666666,
              "#ed7953"
             ],
             [
              0.7777777777777778,
              "#fb9f3a"
             ],
             [
              0.8888888888888888,
              "#fdca26"
             ],
             [
              1.0,
              "#f0f921"
             ]
            ],
            "type": "heatmap"
           }
          ],
          "heatmapgl": [
           {
            "colorbar": {
             "outlinewidth": 0,
             "ticks": ""
            },
            "colorscale": [
             [
              0.0,
              "#0d0887"
             ],
             [
              0.1111111111111111,
              "#46039f"
             ],
             [
              0.2222222222222222,
              "#7201a8"
             ],
             [
              0.3333333333333333,
              "#9c179e"
             ],
             [
              0.4444444444444444,
              "#bd3786"
             ],
             [
              0.5555555555555556,
              "#d8576b"
             ],
             [
              0.6666666666666666,
              "#ed7953"
             ],
             [
              0.7777777777777778,
              "#fb9f3a"
             ],
             [
              0.8888888888888888,
              "#fdca26"
             ],
             [
              1.0,
              "#f0f921"
             ]
            ],
            "type": "heatmapgl"
           }
          ],
          "histogram": [
           {
            "marker": {
             "pattern": {
              "fillmode": "overlay",
              "size": 10,
              "solidity": 0.2
             }
            },
            "type": "histogram"
           }
          ],
          "histogram2d": [
           {
            "colorbar": {
             "outlinewidth": 0,
             "ticks": ""
            },
            "colorscale": [
             [
              0.0,
              "#0d0887"
             ],
             [
              0.1111111111111111,
              "#46039f"
             ],
             [
              0.2222222222222222,
              "#7201a8"
             ],
             [
              0.3333333333333333,
              "#9c179e"
             ],
             [
              0.4444444444444444,
              "#bd3786"
             ],
             [
              0.5555555555555556,
              "#d8576b"
             ],
             [
              0.6666666666666666,
              "#ed7953"
             ],
             [
              0.7777777777777778,
              "#fb9f3a"
             ],
             [
              0.8888888888888888,
              "#fdca26"
             ],
             [
              1.0,
              "#f0f921"
             ]
            ],
            "type": "histogram2d"
           }
          ],
          "histogram2dcontour": [
           {
            "colorbar": {
             "outlinewidth": 0,
             "ticks": ""
            },
            "colorscale": [
             [
              0.0,
              "#0d0887"
             ],
             [
              0.1111111111111111,
              "#46039f"
             ],
             [
              0.2222222222222222,
              "#7201a8"
             ],
             [
              0.3333333333333333,
              "#9c179e"
             ],
             [
              0.4444444444444444,
              "#bd3786"
             ],
             [
              0.5555555555555556,
              "#d8576b"
             ],
             [
              0.6666666666666666,
              "#ed7953"
             ],
             [
              0.7777777777777778,
              "#fb9f3a"
             ],
             [
              0.8888888888888888,
              "#fdca26"
             ],
             [
              1.0,
              "#f0f921"
             ]
            ],
            "type": "histogram2dcontour"
           }
          ],
          "mesh3d": [
           {
            "colorbar": {
             "outlinewidth": 0,
             "ticks": ""
            },
            "type": "mesh3d"
           }
          ],
          "parcoords": [
           {
            "line": {
             "colorbar": {
              "outlinewidth": 0,
              "ticks": ""
             }
            },
            "type": "parcoords"
           }
          ],
          "pie": [
           {
            "automargin": true,
            "type": "pie"
           }
          ],
          "scatter": [
           {
            "marker": {
             "colorbar": {
              "outlinewidth": 0,
              "ticks": ""
             }
            },
            "type": "scatter"
           }
          ],
          "scatter3d": [
           {
            "line": {
             "colorbar": {
              "outlinewidth": 0,
              "ticks": ""
             }
            },
            "marker": {
             "colorbar": {
              "outlinewidth": 0,
              "ticks": ""
             }
            },
            "type": "scatter3d"
           }
          ],
          "scattercarpet": [
           {
            "marker": {
             "colorbar": {
              "outlinewidth": 0,
              "ticks": ""
             }
            },
            "type": "scattercarpet"
           }
          ],
          "scattergeo": [
           {
            "marker": {
             "colorbar": {
              "outlinewidth": 0,
              "ticks": ""
             }
            },
            "type": "scattergeo"
           }
          ],
          "scattergl": [
           {
            "marker": {
             "colorbar": {
              "outlinewidth": 0,
              "ticks": ""
             }
            },
            "type": "scattergl"
           }
          ],
          "scattermapbox": [
           {
            "marker": {
             "colorbar": {
              "outlinewidth": 0,
              "ticks": ""
             }
            },
            "type": "scattermapbox"
           }
          ],
          "scatterpolar": [
           {
            "marker": {
             "colorbar": {
              "outlinewidth": 0,
              "ticks": ""
             }
            },
            "type": "scatterpolar"
           }
          ],
          "scatterpolargl": [
           {
            "marker": {
             "colorbar": {
              "outlinewidth": 0,
              "ticks": ""
             }
            },
            "type": "scatterpolargl"
           }
          ],
          "scatterternary": [
           {
            "marker": {
             "colorbar": {
              "outlinewidth": 0,
              "ticks": ""
             }
            },
            "type": "scatterternary"
           }
          ],
          "surface": [
           {
            "colorbar": {
             "outlinewidth": 0,
             "ticks": ""
            },
            "colorscale": [
             [
              0.0,
              "#0d0887"
             ],
             [
              0.1111111111111111,
              "#46039f"
             ],
             [
              0.2222222222222222,
              "#7201a8"
             ],
             [
              0.3333333333333333,
              "#9c179e"
             ],
             [
              0.4444444444444444,
              "#bd3786"
             ],
             [
              0.5555555555555556,
              "#d8576b"
             ],
             [
              0.6666666666666666,
              "#ed7953"
             ],
             [
              0.7777777777777778,
              "#fb9f3a"
             ],
             [
              0.8888888888888888,
              "#fdca26"
             ],
             [
              1.0,
              "#f0f921"
             ]
            ],
            "type": "surface"
           }
          ],
          "table": [
           {
            "cells": {
             "fill": {
              "color": "#EBF0F8"
             },
             "line": {
              "color": "white"
             }
            },
            "header": {
             "fill": {
              "color": "#C8D4E3"
             },
             "line": {
              "color": "white"
             }
            },
            "type": "table"
           }
          ]
         },
         "layout": {
          "annotationdefaults": {
           "arrowcolor": "#2a3f5f",
           "arrowhead": 0,
           "arrowwidth": 1
          },
          "autotypenumbers": "strict",
          "coloraxis": {
           "colorbar": {
            "outlinewidth": 0,
            "ticks": ""
           }
          },
          "colorscale": {
           "diverging": [
            [
             0,
             "#8e0152"
            ],
            [
             0.1,
             "#c51b7d"
            ],
            [
             0.2,
             "#de77ae"
            ],
            [
             0.3,
             "#f1b6da"
            ],
            [
             0.4,
             "#fde0ef"
            ],
            [
             0.5,
             "#f7f7f7"
            ],
            [
             0.6,
             "#e6f5d0"
            ],
            [
             0.7,
             "#b8e186"
            ],
            [
             0.8,
             "#7fbc41"
            ],
            [
             0.9,
             "#4d9221"
            ],
            [
             1,
             "#276419"
            ]
           ],
           "sequential": [
            [
             0.0,
             "#0d0887"
            ],
            [
             0.1111111111111111,
             "#46039f"
            ],
            [
             0.2222222222222222,
             "#7201a8"
            ],
            [
             0.3333333333333333,
             "#9c179e"
            ],
            [
             0.4444444444444444,
             "#bd3786"
            ],
            [
             0.5555555555555556,
             "#d8576b"
            ],
            [
             0.6666666666666666,
             "#ed7953"
            ],
            [
             0.7777777777777778,
             "#fb9f3a"
            ],
            [
             0.8888888888888888,
             "#fdca26"
            ],
            [
             1.0,
             "#f0f921"
            ]
           ],
           "sequentialminus": [
            [
             0.0,
             "#0d0887"
            ],
            [
             0.1111111111111111,
             "#46039f"
            ],
            [
             0.2222222222222222,
             "#7201a8"
            ],
            [
             0.3333333333333333,
             "#9c179e"
            ],
            [
             0.4444444444444444,
             "#bd3786"
            ],
            [
             0.5555555555555556,
             "#d8576b"
            ],
            [
             0.6666666666666666,
             "#ed7953"
            ],
            [
             0.7777777777777778,
             "#fb9f3a"
            ],
            [
             0.8888888888888888,
             "#fdca26"
            ],
            [
             1.0,
             "#f0f921"
            ]
           ]
          },
          "colorway": [
           "#636efa",
           "#EF553B",
           "#00cc96",
           "#ab63fa",
           "#FFA15A",
           "#19d3f3",
           "#FF6692",
           "#B6E880",
           "#FF97FF",
           "#FECB52"
          ],
          "font": {
           "color": "#2a3f5f"
          },
          "geo": {
           "bgcolor": "white",
           "lakecolor": "white",
           "landcolor": "#E5ECF6",
           "showlakes": true,
           "showland": true,
           "subunitcolor": "white"
          },
          "hoverlabel": {
           "align": "left"
          },
          "hovermode": "closest",
          "mapbox": {
           "style": "light"
          },
          "paper_bgcolor": "white",
          "plot_bgcolor": "#E5ECF6",
          "polar": {
           "angularaxis": {
            "gridcolor": "white",
            "linecolor": "white",
            "ticks": ""
           },
           "bgcolor": "#E5ECF6",
           "radialaxis": {
            "gridcolor": "white",
            "linecolor": "white",
            "ticks": ""
           }
          },
          "scene": {
           "xaxis": {
            "backgroundcolor": "#E5ECF6",
            "gridcolor": "white",
            "gridwidth": 2,
            "linecolor": "white",
            "showbackground": true,
            "ticks": "",
            "zerolinecolor": "white"
           },
           "yaxis": {
            "backgroundcolor": "#E5ECF6",
            "gridcolor": "white",
            "gridwidth": 2,
            "linecolor": "white",
            "showbackground": true,
            "ticks": "",
            "zerolinecolor": "white"
           },
           "zaxis": {
            "backgroundcolor": "#E5ECF6",
            "gridcolor": "white",
            "gridwidth": 2,
            "linecolor": "white",
            "showbackground": true,
            "ticks": "",
            "zerolinecolor": "white"
           }
          },
          "shapedefaults": {
           "line": {
            "color": "#2a3f5f"
           }
          },
          "ternary": {
           "aaxis": {
            "gridcolor": "white",
            "linecolor": "white",
            "ticks": ""
           },
           "baxis": {
            "gridcolor": "white",
            "linecolor": "white",
            "ticks": ""
           },
           "bgcolor": "#E5ECF6",
           "caxis": {
            "gridcolor": "white",
            "linecolor": "white",
            "ticks": ""
           }
          },
          "title": {
           "x": 0.05
          },
          "xaxis": {
           "automargin": true,
           "gridcolor": "white",
           "linecolor": "white",
           "ticks": "",
           "title": {
            "standoff": 15
           },
           "zerolinecolor": "white",
           "zerolinewidth": 2
          },
          "yaxis": {
           "automargin": true,
           "gridcolor": "white",
           "linecolor": "white",
           "ticks": "",
           "title": {
            "standoff": 15
           },
           "zerolinecolor": "white",
           "zerolinewidth": 2
          }
         }
        },
        "title": {
         "text": "Répartition des produits avec taux de sucre entre 0,0001 et 50 grammes"
        }
       }
      },
      "text/html": "<div>                            <div id=\"0c3b46d5-a3be-4bcd-99eb-be5bc29664ba\" class=\"plotly-graph-div\" style=\"height:525px; width:100%;\"></div>            <script type=\"text/javascript\">                require([\"plotly\"], function(Plotly) {                    window.PLOTLYENV=window.PLOTLYENV || {};                                    if (document.getElementById(\"0c3b46d5-a3be-4bcd-99eb-be5bc29664ba\")) {                    Plotly.newPlot(                        \"0c3b46d5-a3be-4bcd-99eb-be5bc29664ba\",                        [{\"domain\":{\"x\":[0.0,1.0],\"y\":[0.0,1.0]},\"hovertemplate\":\"bins=%{label}<br>sugars_100g=%{value}<extra></extra>\",\"labels\":[\"(-0.001, 5.0]\",\"(5.0, 10.0]\",\"(10.0, 15.0]\",\"(15.0, 20.0]\",\"(20.0, 25.0]\"],\"legendgroup\":\"\",\"name\":\"\",\"showlegend\":true,\"type\":\"pie\",\"values\":[12,373,55,3,2]}],                        {\"legend\":{\"tracegroupgap\":0},\"template\":{\"data\":{\"bar\":[{\"error_x\":{\"color\":\"#2a3f5f\"},\"error_y\":{\"color\":\"#2a3f5f\"},\"marker\":{\"line\":{\"color\":\"#E5ECF6\",\"width\":0.5},\"pattern\":{\"fillmode\":\"overlay\",\"size\":10,\"solidity\":0.2}},\"type\":\"bar\"}],\"barpolar\":[{\"marker\":{\"line\":{\"color\":\"#E5ECF6\",\"width\":0.5},\"pattern\":{\"fillmode\":\"overlay\",\"size\":10,\"solidity\":0.2}},\"type\":\"barpolar\"}],\"carpet\":[{\"aaxis\":{\"endlinecolor\":\"#2a3f5f\",\"gridcolor\":\"white\",\"linecolor\":\"white\",\"minorgridcolor\":\"white\",\"startlinecolor\":\"#2a3f5f\"},\"baxis\":{\"endlinecolor\":\"#2a3f5f\",\"gridcolor\":\"white\",\"linecolor\":\"white\",\"minorgridcolor\":\"white\",\"startlinecolor\":\"#2a3f5f\"},\"type\":\"carpet\"}],\"choropleth\":[{\"colorbar\":{\"outlinewidth\":0,\"ticks\":\"\"},\"type\":\"choropleth\"}],\"contour\":[{\"colorbar\":{\"outlinewidth\":0,\"ticks\":\"\"},\"colorscale\":[[0.0,\"#0d0887\"],[0.1111111111111111,\"#46039f\"],[0.2222222222222222,\"#7201a8\"],[0.3333333333333333,\"#9c179e\"],[0.4444444444444444,\"#bd3786\"],[0.5555555555555556,\"#d8576b\"],[0.6666666666666666,\"#ed7953\"],[0.7777777777777778,\"#fb9f3a\"],[0.8888888888888888,\"#fdca26\"],[1.0,\"#f0f921\"]],\"type\":\"contour\"}],\"contourcarpet\":[{\"colorbar\":{\"outlinewidth\":0,\"ticks\":\"\"},\"type\":\"contourcarpet\"}],\"heatmap\":[{\"colorbar\":{\"outlinewidth\":0,\"ticks\":\"\"},\"colorscale\":[[0.0,\"#0d0887\"],[0.1111111111111111,\"#46039f\"],[0.2222222222222222,\"#7201a8\"],[0.3333333333333333,\"#9c179e\"],[0.4444444444444444,\"#bd3786\"],[0.5555555555555556,\"#d8576b\"],[0.6666666666666666,\"#ed7953\"],[0.7777777777777778,\"#fb9f3a\"],[0.8888888888888888,\"#fdca26\"],[1.0,\"#f0f921\"]],\"type\":\"heatmap\"}],\"heatmapgl\":[{\"colorbar\":{\"outlinewidth\":0,\"ticks\":\"\"},\"colorscale\":[[0.0,\"#0d0887\"],[0.1111111111111111,\"#46039f\"],[0.2222222222222222,\"#7201a8\"],[0.3333333333333333,\"#9c179e\"],[0.4444444444444444,\"#bd3786\"],[0.5555555555555556,\"#d8576b\"],[0.6666666666666666,\"#ed7953\"],[0.7777777777777778,\"#fb9f3a\"],[0.8888888888888888,\"#fdca26\"],[1.0,\"#f0f921\"]],\"type\":\"heatmapgl\"}],\"histogram\":[{\"marker\":{\"pattern\":{\"fillmode\":\"overlay\",\"size\":10,\"solidity\":0.2}},\"type\":\"histogram\"}],\"histogram2d\":[{\"colorbar\":{\"outlinewidth\":0,\"ticks\":\"\"},\"colorscale\":[[0.0,\"#0d0887\"],[0.1111111111111111,\"#46039f\"],[0.2222222222222222,\"#7201a8\"],[0.3333333333333333,\"#9c179e\"],[0.4444444444444444,\"#bd3786\"],[0.5555555555555556,\"#d8576b\"],[0.6666666666666666,\"#ed7953\"],[0.7777777777777778,\"#fb9f3a\"],[0.8888888888888888,\"#fdca26\"],[1.0,\"#f0f921\"]],\"type\":\"histogram2d\"}],\"histogram2dcontour\":[{\"colorbar\":{\"outlinewidth\":0,\"ticks\":\"\"},\"colorscale\":[[0.0,\"#0d0887\"],[0.1111111111111111,\"#46039f\"],[0.2222222222222222,\"#7201a8\"],[0.3333333333333333,\"#9c179e\"],[0.4444444444444444,\"#bd3786\"],[0.5555555555555556,\"#d8576b\"],[0.6666666666666666,\"#ed7953\"],[0.7777777777777778,\"#fb9f3a\"],[0.8888888888888888,\"#fdca26\"],[1.0,\"#f0f921\"]],\"type\":\"histogram2dcontour\"}],\"mesh3d\":[{\"colorbar\":{\"outlinewidth\":0,\"ticks\":\"\"},\"type\":\"mesh3d\"}],\"parcoords\":[{\"line\":{\"colorbar\":{\"outlinewidth\":0,\"ticks\":\"\"}},\"type\":\"parcoords\"}],\"pie\":[{\"automargin\":true,\"type\":\"pie\"}],\"scatter\":[{\"marker\":{\"colorbar\":{\"outlinewidth\":0,\"ticks\":\"\"}},\"type\":\"scatter\"}],\"scatter3d\":[{\"line\":{\"colorbar\":{\"outlinewidth\":0,\"ticks\":\"\"}},\"marker\":{\"colorbar\":{\"outlinewidth\":0,\"ticks\":\"\"}},\"type\":\"scatter3d\"}],\"scattercarpet\":[{\"marker\":{\"colorbar\":{\"outlinewidth\":0,\"ticks\":\"\"}},\"type\":\"scattercarpet\"}],\"scattergeo\":[{\"marker\":{\"colorbar\":{\"outlinewidth\":0,\"ticks\":\"\"}},\"type\":\"scattergeo\"}],\"scattergl\":[{\"marker\":{\"colorbar\":{\"outlinewidth\":0,\"ticks\":\"\"}},\"type\":\"scattergl\"}],\"scattermapbox\":[{\"marker\":{\"colorbar\":{\"outlinewidth\":0,\"ticks\":\"\"}},\"type\":\"scattermapbox\"}],\"scatterpolar\":[{\"marker\":{\"colorbar\":{\"outlinewidth\":0,\"ticks\":\"\"}},\"type\":\"scatterpolar\"}],\"scatterpolargl\":[{\"marker\":{\"colorbar\":{\"outlinewidth\":0,\"ticks\":\"\"}},\"type\":\"scatterpolargl\"}],\"scatterternary\":[{\"marker\":{\"colorbar\":{\"outlinewidth\":0,\"ticks\":\"\"}},\"type\":\"scatterternary\"}],\"surface\":[{\"colorbar\":{\"outlinewidth\":0,\"ticks\":\"\"},\"colorscale\":[[0.0,\"#0d0887\"],[0.1111111111111111,\"#46039f\"],[0.2222222222222222,\"#7201a8\"],[0.3333333333333333,\"#9c179e\"],[0.4444444444444444,\"#bd3786\"],[0.5555555555555556,\"#d8576b\"],[0.6666666666666666,\"#ed7953\"],[0.7777777777777778,\"#fb9f3a\"],[0.8888888888888888,\"#fdca26\"],[1.0,\"#f0f921\"]],\"type\":\"surface\"}],\"table\":[{\"cells\":{\"fill\":{\"color\":\"#EBF0F8\"},\"line\":{\"color\":\"white\"}},\"header\":{\"fill\":{\"color\":\"#C8D4E3\"},\"line\":{\"color\":\"white\"}},\"type\":\"table\"}]},\"layout\":{\"annotationdefaults\":{\"arrowcolor\":\"#2a3f5f\",\"arrowhead\":0,\"arrowwidth\":1},\"autotypenumbers\":\"strict\",\"coloraxis\":{\"colorbar\":{\"outlinewidth\":0,\"ticks\":\"\"}},\"colorscale\":{\"diverging\":[[0,\"#8e0152\"],[0.1,\"#c51b7d\"],[0.2,\"#de77ae\"],[0.3,\"#f1b6da\"],[0.4,\"#fde0ef\"],[0.5,\"#f7f7f7\"],[0.6,\"#e6f5d0\"],[0.7,\"#b8e186\"],[0.8,\"#7fbc41\"],[0.9,\"#4d9221\"],[1,\"#276419\"]],\"sequential\":[[0.0,\"#0d0887\"],[0.1111111111111111,\"#46039f\"],[0.2222222222222222,\"#7201a8\"],[0.3333333333333333,\"#9c179e\"],[0.4444444444444444,\"#bd3786\"],[0.5555555555555556,\"#d8576b\"],[0.6666666666666666,\"#ed7953\"],[0.7777777777777778,\"#fb9f3a\"],[0.8888888888888888,\"#fdca26\"],[1.0,\"#f0f921\"]],\"sequentialminus\":[[0.0,\"#0d0887\"],[0.1111111111111111,\"#46039f\"],[0.2222222222222222,\"#7201a8\"],[0.3333333333333333,\"#9c179e\"],[0.4444444444444444,\"#bd3786\"],[0.5555555555555556,\"#d8576b\"],[0.6666666666666666,\"#ed7953\"],[0.7777777777777778,\"#fb9f3a\"],[0.8888888888888888,\"#fdca26\"],[1.0,\"#f0f921\"]]},\"colorway\":[\"#636efa\",\"#EF553B\",\"#00cc96\",\"#ab63fa\",\"#FFA15A\",\"#19d3f3\",\"#FF6692\",\"#B6E880\",\"#FF97FF\",\"#FECB52\"],\"font\":{\"color\":\"#2a3f5f\"},\"geo\":{\"bgcolor\":\"white\",\"lakecolor\":\"white\",\"landcolor\":\"#E5ECF6\",\"showlakes\":true,\"showland\":true,\"subunitcolor\":\"white\"},\"hoverlabel\":{\"align\":\"left\"},\"hovermode\":\"closest\",\"mapbox\":{\"style\":\"light\"},\"paper_bgcolor\":\"white\",\"plot_bgcolor\":\"#E5ECF6\",\"polar\":{\"angularaxis\":{\"gridcolor\":\"white\",\"linecolor\":\"white\",\"ticks\":\"\"},\"bgcolor\":\"#E5ECF6\",\"radialaxis\":{\"gridcolor\":\"white\",\"linecolor\":\"white\",\"ticks\":\"\"}},\"scene\":{\"xaxis\":{\"backgroundcolor\":\"#E5ECF6\",\"gridcolor\":\"white\",\"gridwidth\":2,\"linecolor\":\"white\",\"showbackground\":true,\"ticks\":\"\",\"zerolinecolor\":\"white\"},\"yaxis\":{\"backgroundcolor\":\"#E5ECF6\",\"gridcolor\":\"white\",\"gridwidth\":2,\"linecolor\":\"white\",\"showbackground\":true,\"ticks\":\"\",\"zerolinecolor\":\"white\"},\"zaxis\":{\"backgroundcolor\":\"#E5ECF6\",\"gridcolor\":\"white\",\"gridwidth\":2,\"linecolor\":\"white\",\"showbackground\":true,\"ticks\":\"\",\"zerolinecolor\":\"white\"}},\"shapedefaults\":{\"line\":{\"color\":\"#2a3f5f\"}},\"ternary\":{\"aaxis\":{\"gridcolor\":\"white\",\"linecolor\":\"white\",\"ticks\":\"\"},\"baxis\":{\"gridcolor\":\"white\",\"linecolor\":\"white\",\"ticks\":\"\"},\"bgcolor\":\"#E5ECF6\",\"caxis\":{\"gridcolor\":\"white\",\"linecolor\":\"white\",\"ticks\":\"\"}},\"title\":{\"x\":0.05},\"xaxis\":{\"automargin\":true,\"gridcolor\":\"white\",\"linecolor\":\"white\",\"ticks\":\"\",\"title\":{\"standoff\":15},\"zerolinecolor\":\"white\",\"zerolinewidth\":2},\"yaxis\":{\"automargin\":true,\"gridcolor\":\"white\",\"linecolor\":\"white\",\"ticks\":\"\",\"title\":{\"standoff\":15},\"zerolinecolor\":\"white\",\"zerolinewidth\":2}}},\"title\":{\"text\":\"R\\u00e9partition des produits avec taux de sucre entre 0,0001 et 50 grammes\"}},                        {\"responsive\": true}                    ).then(function(){\n                            \nvar gd = document.getElementById('0c3b46d5-a3be-4bcd-99eb-be5bc29664ba');\nvar x = new MutationObserver(function (mutations, observer) {{\n        var display = window.getComputedStyle(gd).display;\n        if (!display || display === 'none') {{\n            console.log([gd, 'removed!']);\n            Plotly.purge(gd);\n            observer.disconnect();\n        }}\n}});\n\n// Listen for the removal of the full notebook cells\nvar notebookContainer = gd.closest('#notebook-container');\nif (notebookContainer) {{\n    x.observe(notebookContainer, {childList: true});\n}}\n\n// Listen for the clearing of the current output cell\nvar outputEl = gd.closest('.output');\nif (outputEl) {{\n    x.observe(outputEl, {childList: true});\n}}\n\n                        })                };                });            </script>        </div>"
     },
     "metadata": {},
     "output_type": "display_data"
    }
   ],
   "source": [
    "#pie chart\n",
    "fig = px.pie(agg, values='sugars_100g', names='bins', title=\"Répartition des produits avec taux de sucre entre 0,0001 et 50 grammes\")\n",
    "fig.show()"
   ]
  },
  {
   "cell_type": "markdown",
   "id": "b6f559e5",
   "metadata": {
    "hidden": true
   },
   "source": [
    "- Il y a 83 jus d'orange (soit 16 %) possédant un taux de sucre pour 100gr entre 0 et 5 gr\n",
    "- La majorité (372 produits soit 72%) possède un taux de sucre pour 100gr  entre 5 et 10 gr"
   ]
  },
  {
   "cell_type": "markdown",
   "id": "4e8d27e6",
   "metadata": {},
   "source": [
    "# 🔍 Exploration"
   ]
  },
  {
   "cell_type": "markdown",
   "id": "23f171d1",
   "metadata": {},
   "source": [
    "# <b>Marques les plus représentées</b>"
   ]
  },
  {
   "cell_type": "code",
   "execution_count": 43,
   "outputs": [],
   "source": [
    "def marques_df(df):\n",
    "    # define dataset\n",
    "    df_brands = df\n",
    "    # delete product with brands = 0\n",
    "    df_brands = df_brands[df_brands.brands != 0]\n",
    "\n",
    "    return df_brands['brands'].value_counts(ascending=False)\n"
   ],
   "metadata": {
    "collapsed": false,
    "pycharm": {
     "name": "#%%\n"
    }
   }
  },
  {
   "cell_type": "code",
   "execution_count": 44,
   "outputs": [
    {
     "data": {
      "text/plain": "U                                                  38\nJafaden,Marque Repère                              21\nAuchan                                             19\nLeader Price                                       18\nPaquito                                            13\n                                                   ..\nMonop' Daily,Monoprix                               1\nAuchan,L'oiseau,Auchan Production,Groupe Auchan     1\nNaturalia                                           1\nPlein Fruit                                         1\nCidou,Casino                                        1\nName: brands, Length: 162, dtype: int64"
     },
     "execution_count": 44,
     "metadata": {},
     "output_type": "execute_result"
    }
   ],
   "source": [
    "marques_df(df)"
   ],
   "metadata": {
    "collapsed": false,
    "pycharm": {
     "name": "#%%\n"
    }
   }
  },
  {
   "cell_type": "markdown",
   "id": "25e57fbc",
   "metadata": {},
   "source": [
    "<b>Les 5 marques de jus d'orange les plus representées dans l'échantillon sont des marques distributeurs : </b>\n",
    "- U (Super U)\n",
    "- Jafadan / Marque Repère (Leclerc)\n",
    "- Auchan\n",
    "- Leader Price\n",
    "- Paquito (Intermarché)"
   ]
  },
  {
   "cell_type": "markdown",
   "id": "462f1e0e",
   "metadata": {},
   "source": [
    "<img src=\"../img/brands_logo.jpg\">"
   ]
  },
  {
   "cell_type": "markdown",
   "id": "60a691e7",
   "metadata": {},
   "source": [
    "# <b>Les jus d'orange sans sucre ajouté, sans colorants, sans conservateurs | BIO <b>"
   ]
  },
  {
   "cell_type": "code",
   "execution_count": 64,
   "outputs": [],
   "source": [
    "def products_bio(df):\n",
    "    # define dataset with brands != 0\n",
    "    df_juice = df[df.labels != 0]\n",
    "\n",
    "    # isolate all rows with labels \"Sans sucre ajouté, Sans colorants, Sans conservateurs\"\n",
    "    df_juice = df_juice[df_juice.labels.str.contains(\"Sans sucre ajouté, Sans colorants, Sans conservateurs\", na=False)]\n",
    "\n",
    "    return  df_juice"
   ],
   "metadata": {
    "collapsed": false,
    "pycharm": {
     "name": "#%%\n"
    }
   }
  },
  {
   "cell_type": "code",
   "execution_count": 65,
   "outputs": [
    {
     "data": {
      "text/plain": "                            product_name quantity  nutrition-score-fr_100g  \\\n46                          jus d'orange    50 cl                      NaN   \n73                 jus orange sans pulpe      1 l                      3.0   \n75         100% pur jus oranges pressées      NaN                      5.0   \n90   Joker le pur jus orange du matin 1L   1litre                      4.0   \n135              Pressade pur jus orange      NaN                      NaN   \n137        Jus d'orange 100% pur jus bio    75 cL                      NaN   \n138   Lot 6 Recre 100% jus d'orange 20CL      NaN                     10.0   \n144                     Pur jus d'orange      1 l                      3.0   \n149          Pur jus d'orange sans pulpe      1 l                      4.0   \n274                 Pur jus d’orange bio      NaN                     13.0   \n388      100% pur jus d'oranges pressées      NaN                      3.0   \n438                  Pur jus  orange bio      3 L                      4.0   \n485          100% pur jus orange pressée      NaN                      5.0   \n\n     nutriscore_score nutriscore_grade            brands      origins  \\\n46                NaN              NaN           Leclerc          NaN   \n73                3.0                c            Andros          NaN   \n75                5.0                c            Andros          NaN   \n90                4.0                c  Joker le pur jus       Brésil   \n135               NaN              NaN          Pressade          NaN   \n137               NaN              NaN          Pressade          NaN   \n138              10.0                e               NaN          NaN   \n144               3.0                c                 U  Hors France   \n149               4.0                c          U Bio, U      Espagne   \n274              13.0                e             Feria          NaN   \n388               3.0                c            Andros          NaN   \n438               4.0                c      Les Fées Bio          NaN   \n485               5.0                c               NaN          NaN   \n\n                                      ingredients_text countries  \\\n46                                             oranges    France   \n73                                        Jus d'orange    France   \n75                                                 NaN    France   \n90                                                 NaN    France   \n135                                                NaN    France   \n137      jus d'orange issu de l'agriculture biologique    France   \n138                                                NaN    France   \n144                                 Jus d'orangE 100%.    France   \n149  Jus d'orange sans pulpe*. *ingrédient issu de ...    France   \n274                                                NaN    France   \n388                                     Jus d'oranges.    France   \n438  Pur Jus d'orange*. *Produit issu de l'agricult...    France   \n485                                                NaN    France   \n\n                                                labels  ...  fat_100g  \\\n46   Sans sucre ajouté, Sans colorants, Sans conser...  ...       NaN   \n73   Sans sucre ajouté, Sans colorants, Sans conser...  ...      0.10   \n75   Sans sucre ajouté, Sans colorants, Sans conser...  ...      0.10   \n90   Sans sucre ajouté, Sans colorants, Sans conser...  ...      0.00   \n135  Sans sucre ajouté, Sans colorants, Sans conser...  ...      0.00   \n137  Bio, Bio européen, AB Agriculture Biologique, ...  ...      0.10   \n138  Sans sucre ajouté, Sans colorants, Sans conser...  ...      0.00   \n144  Peu ou pas de sucre, en:FSC, Sans sucre ajouté...  ...      0.10   \n149  Bio, Bio européen, AB Agriculture Biologique, ...  ...      0.50   \n274  Bio, Sans sucre ajouté, Sans colorants, Sans c...  ...      0.18   \n388  Sans sucre ajouté, Sans colorants, Sans conser...  ...      0.10   \n438  Bio, Ecocert, Bio européen, AB Agriculture Bio...  ...      0.10   \n485  Sans sucre ajouté, Sans colorants, Sans conser...  ...      0.10   \n\n     saturated-fat_100g  carbohydrates_100g   sugars_100g sodium_100g  \\\n46                  NaN                 NaN           NaN         NaN   \n73                  0.0                 9.1   (5.0, 10.0]       0.004   \n75                  0.0                11.0  (10.0, 15.0]       0.000   \n90                  0.0                 9.8   (5.0, 10.0]       0.004   \n135                 0.0                10.2   (5.0, 10.0]         NaN   \n137                 NaN                10.2   (5.0, 10.0]       0.000   \n138                 0.0                16.0  (10.0, 15.0]       0.004   \n144                 0.0                11.0   (5.0, 10.0]       0.000   \n149                 0.1                11.0   (5.0, 10.0]       0.004   \n274                 0.0                 9.2   (5.0, 10.0]       0.000   \n388                 0.0                 9.1   (5.0, 10.0]       0.004   \n438                 0.0                11.0   (5.0, 10.0]       0.004   \n485                 0.0                11.0  (10.0, 15.0]       0.000   \n\n     additives  vitamin-c_100g  nova_group  pnns_groups_1        pnns_groups_2  \n46         NaN             NaN         1.0      Beverages         Fruit juices  \n73         NaN             NaN         1.0      Beverages         Fruit juices  \n75         NaN             NaN         NaN      Beverages         Fruit juices  \n90         NaN             NaN         NaN      Beverages         Fruit juices  \n135        NaN             NaN         NaN      Beverages         Fruit juices  \n137        NaN            0.02         1.0      Beverages         Fruit juices  \n138        NaN             NaN         NaN      Beverages         Fruit juices  \n144        NaN            0.02         1.0      Beverages         Fruit juices  \n149        NaN            0.02         1.0      Beverages  Sweetened beverages  \n274        NaN             NaN         NaN        unknown              unknown  \n388        NaN             NaN         1.0      Beverages         Fruit juices  \n438        NaN             NaN         1.0      Beverages         Fruit juices  \n485        NaN             NaN         NaN      Beverages         Fruit juices  \n\n[13 rows x 21 columns]",
      "text/html": "<div>\n<style scoped>\n    .dataframe tbody tr th:only-of-type {\n        vertical-align: middle;\n    }\n\n    .dataframe tbody tr th {\n        vertical-align: top;\n    }\n\n    .dataframe thead th {\n        text-align: right;\n    }\n</style>\n<table border=\"1\" class=\"dataframe\">\n  <thead>\n    <tr style=\"text-align: right;\">\n      <th></th>\n      <th>product_name</th>\n      <th>quantity</th>\n      <th>nutrition-score-fr_100g</th>\n      <th>nutriscore_score</th>\n      <th>nutriscore_grade</th>\n      <th>brands</th>\n      <th>origins</th>\n      <th>ingredients_text</th>\n      <th>countries</th>\n      <th>labels</th>\n      <th>...</th>\n      <th>fat_100g</th>\n      <th>saturated-fat_100g</th>\n      <th>carbohydrates_100g</th>\n      <th>sugars_100g</th>\n      <th>sodium_100g</th>\n      <th>additives</th>\n      <th>vitamin-c_100g</th>\n      <th>nova_group</th>\n      <th>pnns_groups_1</th>\n      <th>pnns_groups_2</th>\n    </tr>\n  </thead>\n  <tbody>\n    <tr>\n      <th>46</th>\n      <td>jus d'orange</td>\n      <td>50 cl</td>\n      <td>NaN</td>\n      <td>NaN</td>\n      <td>NaN</td>\n      <td>Leclerc</td>\n      <td>NaN</td>\n      <td>oranges</td>\n      <td>France</td>\n      <td>Sans sucre ajouté, Sans colorants, Sans conser...</td>\n      <td>...</td>\n      <td>NaN</td>\n      <td>NaN</td>\n      <td>NaN</td>\n      <td>NaN</td>\n      <td>NaN</td>\n      <td>NaN</td>\n      <td>NaN</td>\n      <td>1.0</td>\n      <td>Beverages</td>\n      <td>Fruit juices</td>\n    </tr>\n    <tr>\n      <th>73</th>\n      <td>jus orange sans pulpe</td>\n      <td>1 l</td>\n      <td>3.0</td>\n      <td>3.0</td>\n      <td>c</td>\n      <td>Andros</td>\n      <td>NaN</td>\n      <td>Jus d'orange</td>\n      <td>France</td>\n      <td>Sans sucre ajouté, Sans colorants, Sans conser...</td>\n      <td>...</td>\n      <td>0.10</td>\n      <td>0.0</td>\n      <td>9.1</td>\n      <td>(5.0, 10.0]</td>\n      <td>0.004</td>\n      <td>NaN</td>\n      <td>NaN</td>\n      <td>1.0</td>\n      <td>Beverages</td>\n      <td>Fruit juices</td>\n    </tr>\n    <tr>\n      <th>75</th>\n      <td>100% pur jus oranges pressées</td>\n      <td>NaN</td>\n      <td>5.0</td>\n      <td>5.0</td>\n      <td>c</td>\n      <td>Andros</td>\n      <td>NaN</td>\n      <td>NaN</td>\n      <td>France</td>\n      <td>Sans sucre ajouté, Sans colorants, Sans conser...</td>\n      <td>...</td>\n      <td>0.10</td>\n      <td>0.0</td>\n      <td>11.0</td>\n      <td>(10.0, 15.0]</td>\n      <td>0.000</td>\n      <td>NaN</td>\n      <td>NaN</td>\n      <td>NaN</td>\n      <td>Beverages</td>\n      <td>Fruit juices</td>\n    </tr>\n    <tr>\n      <th>90</th>\n      <td>Joker le pur jus orange du matin 1L</td>\n      <td>1litre</td>\n      <td>4.0</td>\n      <td>4.0</td>\n      <td>c</td>\n      <td>Joker le pur jus</td>\n      <td>Brésil</td>\n      <td>NaN</td>\n      <td>France</td>\n      <td>Sans sucre ajouté, Sans colorants, Sans conser...</td>\n      <td>...</td>\n      <td>0.00</td>\n      <td>0.0</td>\n      <td>9.8</td>\n      <td>(5.0, 10.0]</td>\n      <td>0.004</td>\n      <td>NaN</td>\n      <td>NaN</td>\n      <td>NaN</td>\n      <td>Beverages</td>\n      <td>Fruit juices</td>\n    </tr>\n    <tr>\n      <th>135</th>\n      <td>Pressade pur jus orange</td>\n      <td>NaN</td>\n      <td>NaN</td>\n      <td>NaN</td>\n      <td>NaN</td>\n      <td>Pressade</td>\n      <td>NaN</td>\n      <td>NaN</td>\n      <td>France</td>\n      <td>Sans sucre ajouté, Sans colorants, Sans conser...</td>\n      <td>...</td>\n      <td>0.00</td>\n      <td>0.0</td>\n      <td>10.2</td>\n      <td>(5.0, 10.0]</td>\n      <td>NaN</td>\n      <td>NaN</td>\n      <td>NaN</td>\n      <td>NaN</td>\n      <td>Beverages</td>\n      <td>Fruit juices</td>\n    </tr>\n    <tr>\n      <th>137</th>\n      <td>Jus d'orange 100% pur jus bio</td>\n      <td>75 cL</td>\n      <td>NaN</td>\n      <td>NaN</td>\n      <td>NaN</td>\n      <td>Pressade</td>\n      <td>NaN</td>\n      <td>jus d'orange issu de l'agriculture biologique</td>\n      <td>France</td>\n      <td>Bio, Bio européen, AB Agriculture Biologique, ...</td>\n      <td>...</td>\n      <td>0.10</td>\n      <td>NaN</td>\n      <td>10.2</td>\n      <td>(5.0, 10.0]</td>\n      <td>0.000</td>\n      <td>NaN</td>\n      <td>0.02</td>\n      <td>1.0</td>\n      <td>Beverages</td>\n      <td>Fruit juices</td>\n    </tr>\n    <tr>\n      <th>138</th>\n      <td>Lot 6 Recre 100% jus d'orange 20CL</td>\n      <td>NaN</td>\n      <td>10.0</td>\n      <td>10.0</td>\n      <td>e</td>\n      <td>NaN</td>\n      <td>NaN</td>\n      <td>NaN</td>\n      <td>France</td>\n      <td>Sans sucre ajouté, Sans colorants, Sans conser...</td>\n      <td>...</td>\n      <td>0.00</td>\n      <td>0.0</td>\n      <td>16.0</td>\n      <td>(10.0, 15.0]</td>\n      <td>0.004</td>\n      <td>NaN</td>\n      <td>NaN</td>\n      <td>NaN</td>\n      <td>Beverages</td>\n      <td>Fruit juices</td>\n    </tr>\n    <tr>\n      <th>144</th>\n      <td>Pur jus d'orange</td>\n      <td>1 l</td>\n      <td>3.0</td>\n      <td>3.0</td>\n      <td>c</td>\n      <td>U</td>\n      <td>Hors France</td>\n      <td>Jus d'orangE 100%.</td>\n      <td>France</td>\n      <td>Peu ou pas de sucre, en:FSC, Sans sucre ajouté...</td>\n      <td>...</td>\n      <td>0.10</td>\n      <td>0.0</td>\n      <td>11.0</td>\n      <td>(5.0, 10.0]</td>\n      <td>0.000</td>\n      <td>NaN</td>\n      <td>0.02</td>\n      <td>1.0</td>\n      <td>Beverages</td>\n      <td>Fruit juices</td>\n    </tr>\n    <tr>\n      <th>149</th>\n      <td>Pur jus d'orange sans pulpe</td>\n      <td>1 l</td>\n      <td>4.0</td>\n      <td>4.0</td>\n      <td>c</td>\n      <td>U Bio, U</td>\n      <td>Espagne</td>\n      <td>Jus d'orange sans pulpe*. *ingrédient issu de ...</td>\n      <td>France</td>\n      <td>Bio, Bio européen, AB Agriculture Biologique, ...</td>\n      <td>...</td>\n      <td>0.50</td>\n      <td>0.1</td>\n      <td>11.0</td>\n      <td>(5.0, 10.0]</td>\n      <td>0.004</td>\n      <td>NaN</td>\n      <td>0.02</td>\n      <td>1.0</td>\n      <td>Beverages</td>\n      <td>Sweetened beverages</td>\n    </tr>\n    <tr>\n      <th>274</th>\n      <td>Pur jus d’orange bio</td>\n      <td>NaN</td>\n      <td>13.0</td>\n      <td>13.0</td>\n      <td>e</td>\n      <td>Feria</td>\n      <td>NaN</td>\n      <td>NaN</td>\n      <td>France</td>\n      <td>Bio, Sans sucre ajouté, Sans colorants, Sans c...</td>\n      <td>...</td>\n      <td>0.18</td>\n      <td>0.0</td>\n      <td>9.2</td>\n      <td>(5.0, 10.0]</td>\n      <td>0.000</td>\n      <td>NaN</td>\n      <td>NaN</td>\n      <td>NaN</td>\n      <td>unknown</td>\n      <td>unknown</td>\n    </tr>\n    <tr>\n      <th>388</th>\n      <td>100% pur jus d'oranges pressées</td>\n      <td>NaN</td>\n      <td>3.0</td>\n      <td>3.0</td>\n      <td>c</td>\n      <td>Andros</td>\n      <td>NaN</td>\n      <td>Jus d'oranges.</td>\n      <td>France</td>\n      <td>Sans sucre ajouté, Sans colorants, Sans conser...</td>\n      <td>...</td>\n      <td>0.10</td>\n      <td>0.0</td>\n      <td>9.1</td>\n      <td>(5.0, 10.0]</td>\n      <td>0.004</td>\n      <td>NaN</td>\n      <td>NaN</td>\n      <td>1.0</td>\n      <td>Beverages</td>\n      <td>Fruit juices</td>\n    </tr>\n    <tr>\n      <th>438</th>\n      <td>Pur jus  orange bio</td>\n      <td>3 L</td>\n      <td>4.0</td>\n      <td>4.0</td>\n      <td>c</td>\n      <td>Les Fées Bio</td>\n      <td>NaN</td>\n      <td>Pur Jus d'orange*. *Produit issu de l'agricult...</td>\n      <td>France</td>\n      <td>Bio, Ecocert, Bio européen, AB Agriculture Bio...</td>\n      <td>...</td>\n      <td>0.10</td>\n      <td>0.0</td>\n      <td>11.0</td>\n      <td>(5.0, 10.0]</td>\n      <td>0.004</td>\n      <td>NaN</td>\n      <td>NaN</td>\n      <td>1.0</td>\n      <td>Beverages</td>\n      <td>Fruit juices</td>\n    </tr>\n    <tr>\n      <th>485</th>\n      <td>100% pur jus orange pressée</td>\n      <td>NaN</td>\n      <td>5.0</td>\n      <td>5.0</td>\n      <td>c</td>\n      <td>NaN</td>\n      <td>NaN</td>\n      <td>NaN</td>\n      <td>France</td>\n      <td>Sans sucre ajouté, Sans colorants, Sans conser...</td>\n      <td>...</td>\n      <td>0.10</td>\n      <td>0.0</td>\n      <td>11.0</td>\n      <td>(10.0, 15.0]</td>\n      <td>0.000</td>\n      <td>NaN</td>\n      <td>NaN</td>\n      <td>NaN</td>\n      <td>Beverages</td>\n      <td>Fruit juices</td>\n    </tr>\n  </tbody>\n</table>\n<p>13 rows × 21 columns</p>\n</div>"
     },
     "execution_count": 65,
     "metadata": {},
     "output_type": "execute_result"
    }
   ],
   "source": [
    "products_bio(df)"
   ],
   "metadata": {
    "collapsed": false,
    "pycharm": {
     "name": "#%%\n"
    }
   }
  },
  {
   "cell_type": "markdown",
   "id": "591dc31a",
   "metadata": {},
   "source": [
    "<b>13 jus d'orange sans conservateurs, sans colorants, ni sucre ajouté</b>"
   ]
  },
  {
   "cell_type": "markdown",
   "id": "25984702",
   "metadata": {},
   "source": [
    "# Les jus d'orange avec Nutriscore A"
   ]
  },
  {
   "cell_type": "code",
   "execution_count": 73,
   "outputs": [],
   "source": [
    "def nutriscore_A(df):\n",
    "    # isolate all rows with nutriscore_grade = A\n",
    "    df = df_nutriscore[df_nutriscore['nutriscore_grade'].str.contains('a', na=False)]\n",
    "\n",
    "    return df"
   ],
   "metadata": {
    "collapsed": false,
    "pycharm": {
     "name": "#%%\n"
    }
   }
  },
  {
   "cell_type": "code",
   "execution_count": 74,
   "outputs": [
    {
     "data": {
      "text/plain": "                                          product_name quantity  \\\n178  Pur jus d'orange sans pulpe flash pasteurisé, ...    1,5 l   \n426  Salade de fruit en jus à l'orange et citron de...      NaN   \n\n     nutrition-score-fr_100g  nutriscore_score nutriscore_grade      brands  \\\n178                     -4.0              -4.0                a           U   \n426                     -3.0              -3.0                a  I.D Fruits   \n\n     origins                                   ingredients_text countries  \\\n178  oranges                                  Jus d'orange 100%    France   \n426      NaN  Fruits en proportion variable 80% (pomme (dont...    France   \n\n                                       labels  ...  fat_100g  \\\n178  DEMARCHE FLEG METIERS, Recyclé plastique  ...       0.5   \n426                                       NaN  ...       0.5   \n\n     saturated-fat_100g  carbohydrates_100g  sugars_100g  sodium_100g  \\\n178                 0.1                 8.1          8.1        0.004   \n426                 0.1                14.0         13.0        0.004   \n\n     additives  vitamin-c_100g  nova_group          pnns_groups_1  \\\n178        NaN            0.02         1.0                unknown   \n426        NaN             NaN         4.0  Fruits and vegetables   \n\n    pnns_groups_2  \n178       unknown  \n426        Fruits  \n\n[2 rows x 21 columns]",
      "text/html": "<div>\n<style scoped>\n    .dataframe tbody tr th:only-of-type {\n        vertical-align: middle;\n    }\n\n    .dataframe tbody tr th {\n        vertical-align: top;\n    }\n\n    .dataframe thead th {\n        text-align: right;\n    }\n</style>\n<table border=\"1\" class=\"dataframe\">\n  <thead>\n    <tr style=\"text-align: right;\">\n      <th></th>\n      <th>product_name</th>\n      <th>quantity</th>\n      <th>nutrition-score-fr_100g</th>\n      <th>nutriscore_score</th>\n      <th>nutriscore_grade</th>\n      <th>brands</th>\n      <th>origins</th>\n      <th>ingredients_text</th>\n      <th>countries</th>\n      <th>labels</th>\n      <th>...</th>\n      <th>fat_100g</th>\n      <th>saturated-fat_100g</th>\n      <th>carbohydrates_100g</th>\n      <th>sugars_100g</th>\n      <th>sodium_100g</th>\n      <th>additives</th>\n      <th>vitamin-c_100g</th>\n      <th>nova_group</th>\n      <th>pnns_groups_1</th>\n      <th>pnns_groups_2</th>\n    </tr>\n  </thead>\n  <tbody>\n    <tr>\n      <th>178</th>\n      <td>Pur jus d'orange sans pulpe flash pasteurisé, ...</td>\n      <td>1,5 l</td>\n      <td>-4.0</td>\n      <td>-4.0</td>\n      <td>a</td>\n      <td>U</td>\n      <td>oranges</td>\n      <td>Jus d'orange 100%</td>\n      <td>France</td>\n      <td>DEMARCHE FLEG METIERS, Recyclé plastique</td>\n      <td>...</td>\n      <td>0.5</td>\n      <td>0.1</td>\n      <td>8.1</td>\n      <td>8.1</td>\n      <td>0.004</td>\n      <td>NaN</td>\n      <td>0.02</td>\n      <td>1.0</td>\n      <td>unknown</td>\n      <td>unknown</td>\n    </tr>\n    <tr>\n      <th>426</th>\n      <td>Salade de fruit en jus à l'orange et citron de...</td>\n      <td>NaN</td>\n      <td>-3.0</td>\n      <td>-3.0</td>\n      <td>a</td>\n      <td>I.D Fruits</td>\n      <td>NaN</td>\n      <td>Fruits en proportion variable 80% (pomme (dont...</td>\n      <td>France</td>\n      <td>NaN</td>\n      <td>...</td>\n      <td>0.5</td>\n      <td>0.1</td>\n      <td>14.0</td>\n      <td>13.0</td>\n      <td>0.004</td>\n      <td>NaN</td>\n      <td>NaN</td>\n      <td>4.0</td>\n      <td>Fruits and vegetables</td>\n      <td>Fruits</td>\n    </tr>\n  </tbody>\n</table>\n<p>2 rows × 21 columns</p>\n</div>"
     },
     "execution_count": 74,
     "metadata": {},
     "output_type": "execute_result"
    }
   ],
   "source": [
    "nutriscore_A(df)"
   ],
   "metadata": {
    "collapsed": false,
    "pycharm": {
     "name": "#%%\n"
    }
   }
  },
  {
   "cell_type": "markdown",
   "id": "8e5508a2",
   "metadata": {},
   "source": [
    "<b>Il y en a que de deux de jus d'orange avec un nutriscore A.</b>"
   ]
  },
  {
   "cell_type": "markdown",
   "id": "34bfce58",
   "metadata": {},
   "source": [
    "# Les jus d'orange contenant le plus de vitamine C"
   ]
  },
  {
   "cell_type": "code",
   "execution_count": 104,
   "outputs": [],
   "source": [
    "def vitamine_C(df):\n",
    "    # delete product with vitamin-c_100g = 0\n",
    "    df_vit = df[df['vitamin-c_100g'] != 0]\n",
    "    # delete product vitamin-c_100g > 0.039\n",
    "    df_vit = df_vit[(df_vit['vitamin-c_100g'] > 0.039) & (df_vit['vitamin-c_100g'] < 24)]\n",
    "\n",
    "    return df_vit['vitamin-c_100g'].value_counts(ascending=False)"
   ],
   "metadata": {
    "collapsed": false,
    "pycharm": {
     "name": "#%%\n"
    }
   }
  },
  {
   "cell_type": "code",
   "execution_count": 105,
   "outputs": [
    {
     "data": {
      "text/plain": "0.0450    6\n0.0400    2\n0.0420    1\n0.0500    1\n0.0448    1\nName: vitamin-c_100g, dtype: int64"
     },
     "execution_count": 105,
     "metadata": {},
     "output_type": "execute_result"
    }
   ],
   "source": [
    "vitamine_C(df)"
   ],
   "metadata": {
    "collapsed": false,
    "pycharm": {
     "name": "#%%\n"
    }
   }
  },
  {
   "cell_type": "markdown",
   "id": "cdbb8a01",
   "metadata": {},
   "source": [
    "<b>Echantillons de 5 jus d'orange possédant entre 0,0420 et 0,0450 grammes de vitamine C pour 100 gr</b>"
   ]
  },
  {
   "cell_type": "markdown",
   "id": "092431d7",
   "metadata": {},
   "source": [
    "- 100 % pur jus orange de Franprix\n",
    "- Premium 100% jus d'orange sanguine de Monoprix\t\n",
    "- Le Pur jus - Sans pulpe Jus d'orange de Joker\n",
    "- Pur jus de fruit pressé 100% orange de Innocent\n",
    "- Pur jus d'oranges sanguines pressées de Super U"
   ]
  },
  {
   "cell_type": "markdown",
   "id": "946e7db0",
   "metadata": {},
   "source": [
    "<img src=\"../img/C.jpg\">"
   ]
  },
  {
   "cell_type": "markdown",
   "id": "e11b1c19",
   "metadata": {},
   "source": [
    "# Les jus d'orange avec nutriscore E"
   ]
  },
  {
   "cell_type": "code",
   "execution_count": 38,
   "id": "de9f2484",
   "metadata": {},
   "outputs": [],
   "source": [
    "df_E = df"
   ]
  },
  {
   "cell_type": "code",
   "execution_count": 39,
   "id": "7170583d",
   "metadata": {},
   "outputs": [],
   "source": [
    "# delete product with nutriscore = 0\n",
    "df_E = df[df.nutriscore_grade != 0]"
   ]
  },
  {
   "cell_type": "code",
   "execution_count": 40,
   "id": "62f017bc",
   "metadata": {},
   "outputs": [],
   "source": [
    "# convert sugars_100g to string values\n",
    "df_E['nutriscore_grade']=df_E['nutriscore_grade'].astype(str)"
   ]
  },
  {
   "cell_type": "code",
   "execution_count": 41,
   "id": "a746f31a",
   "metadata": {},
   "outputs": [],
   "source": [
    "# isolate all rows with nutriscore_grade = e\n",
    "df_E = df_E[df_E[\"nutriscore_grade\"].str.contains(\"e\")]"
   ]
  },
  {
   "cell_type": "code",
   "execution_count": 42,
   "id": "80a23047",
   "metadata": {
    "pycharm": {
     "name": "#%%\n"
    }
   },
   "outputs": [
    {
     "data": {
      "text/html": [
       "<div>\n",
       "<style scoped>\n",
       "    .dataframe tbody tr th:only-of-type {\n",
       "        vertical-align: middle;\n",
       "    }\n",
       "\n",
       "    .dataframe tbody tr th {\n",
       "        vertical-align: top;\n",
       "    }\n",
       "\n",
       "    .dataframe thead th {\n",
       "        text-align: right;\n",
       "    }\n",
       "</style>\n",
       "<table border=\"1\" class=\"dataframe\">\n",
       "  <thead>\n",
       "    <tr style=\"text-align: right;\">\n",
       "      <th></th>\n",
       "      <th>product_name</th>\n",
       "      <th>quantity</th>\n",
       "      <th>nutrition-score-fr_100g</th>\n",
       "      <th>nutriscore_score</th>\n",
       "      <th>nutriscore_grade</th>\n",
       "      <th>brands</th>\n",
       "      <th>origins</th>\n",
       "      <th>ingredients_text</th>\n",
       "      <th>countries</th>\n",
       "      <th>labels</th>\n",
       "      <th>...</th>\n",
       "      <th>fat_100g</th>\n",
       "      <th>saturated-fat_100g</th>\n",
       "      <th>carbohydrates_100g</th>\n",
       "      <th>sugars_100g</th>\n",
       "      <th>sodium_100g</th>\n",
       "      <th>additives</th>\n",
       "      <th>vitamin-c_100g</th>\n",
       "      <th>nova_group</th>\n",
       "      <th>pnns_groups_1</th>\n",
       "      <th>pnns_groups_2</th>\n",
       "    </tr>\n",
       "  </thead>\n",
       "  <tbody>\n",
       "    <tr>\n",
       "      <th>31</th>\n",
       "      <td>jus d'orange  💯% fruits pressés</td>\n",
       "      <td>1L</td>\n",
       "      <td>12.0</td>\n",
       "      <td>12.0</td>\n",
       "      <td>e</td>\n",
       "      <td>joker</td>\n",
       "      <td>0</td>\n",
       "      <td>A</td>\n",
       "      <td>France</td>\n",
       "      <td>Nutriscore, Nutriscore C</td>\n",
       "      <td>...</td>\n",
       "      <td>0.00</td>\n",
       "      <td>0.00</td>\n",
       "      <td>8.60</td>\n",
       "      <td>(5.0, 10.0]</td>\n",
       "      <td>0.00500</td>\n",
       "      <td>0.0</td>\n",
       "      <td>0.0</td>\n",
       "      <td>0.0</td>\n",
       "      <td>unknown</td>\n",
       "      <td>unknown</td>\n",
       "    </tr>\n",
       "    <tr>\n",
       "      <th>43</th>\n",
       "      <td>Trimm jus d'orange</td>\n",
       "      <td>0</td>\n",
       "      <td>14.0</td>\n",
       "      <td>14.0</td>\n",
       "      <td>e</td>\n",
       "      <td>Trimm</td>\n",
       "      <td>0</td>\n",
       "      <td>Jus d orange Teneur en fruits : 100 % Sans col...</td>\n",
       "      <td>France</td>\n",
       "      <td>Sans colorants, Sans conservateurs</td>\n",
       "      <td>...</td>\n",
       "      <td>0.20</td>\n",
       "      <td>0.00</td>\n",
       "      <td>11.00</td>\n",
       "      <td>(5.0, 10.0]</td>\n",
       "      <td>0.00000</td>\n",
       "      <td>0.0</td>\n",
       "      <td>0.0</td>\n",
       "      <td>0.0</td>\n",
       "      <td>Beverages</td>\n",
       "      <td>Unsweetened beverages</td>\n",
       "    </tr>\n",
       "    <tr>\n",
       "      <th>60</th>\n",
       "      <td>Boisson aux jus d'orange et de citron</td>\n",
       "      <td>0,2 L</td>\n",
       "      <td>11.0</td>\n",
       "      <td>11.0</td>\n",
       "      <td>e</td>\n",
       "      <td>Fruima</td>\n",
       "      <td>0</td>\n",
       "      <td>Eau, jus d'orange à base de concentré 18%, suc...</td>\n",
       "      <td>France</td>\n",
       "      <td>en:FSC, FSC Mix, FSC C105544</td>\n",
       "      <td>...</td>\n",
       "      <td>0.50</td>\n",
       "      <td>0.10</td>\n",
       "      <td>8.20</td>\n",
       "      <td>(5.0, 10.0]</td>\n",
       "      <td>0.00400</td>\n",
       "      <td>0.0</td>\n",
       "      <td>0.0</td>\n",
       "      <td>4.0</td>\n",
       "      <td>Beverages</td>\n",
       "      <td>Sweetened beverages</td>\n",
       "    </tr>\n",
       "    <tr>\n",
       "      <th>88</th>\n",
       "      <td>Le pur jus JOKER orange clémentine</td>\n",
       "      <td>0</td>\n",
       "      <td>14.0</td>\n",
       "      <td>14.0</td>\n",
       "      <td>e</td>\n",
       "      <td>joker</td>\n",
       "      <td>0</td>\n",
       "      <td>0</td>\n",
       "      <td>France</td>\n",
       "      <td>0</td>\n",
       "      <td>...</td>\n",
       "      <td>0.00</td>\n",
       "      <td>0.00</td>\n",
       "      <td>10.50</td>\n",
       "      <td>(10.0, 15.0]</td>\n",
       "      <td>0.00000</td>\n",
       "      <td>0.0</td>\n",
       "      <td>0.0</td>\n",
       "      <td>0.0</td>\n",
       "      <td>unknown</td>\n",
       "      <td>unknown</td>\n",
       "    </tr>\n",
       "    <tr>\n",
       "      <th>99</th>\n",
       "      <td>Nectar d'orange à base de jus concentré Teneur...</td>\n",
       "      <td>2 l</td>\n",
       "      <td>10.0</td>\n",
       "      <td>10.0</td>\n",
       "      <td>e</td>\n",
       "      <td>Casino</td>\n",
       "      <td>0</td>\n",
       "      <td>Jus d'orange à base de jus d'orange concentré ...</td>\n",
       "      <td>France</td>\n",
       "      <td>Point Vert, Sans colorants, Sans conservateurs...</td>\n",
       "      <td>...</td>\n",
       "      <td>0.00</td>\n",
       "      <td>0.00</td>\n",
       "      <td>10.00</td>\n",
       "      <td>(5.0, 10.0]</td>\n",
       "      <td>0.00000</td>\n",
       "      <td>0.0</td>\n",
       "      <td>0.0</td>\n",
       "      <td>3.0</td>\n",
       "      <td>Beverages</td>\n",
       "      <td>Sweetened beverages</td>\n",
       "    </tr>\n",
       "    <tr>\n",
       "      <th>100</th>\n",
       "      <td>Nectar orange pêche abricot à base de jus et d...</td>\n",
       "      <td>1 l</td>\n",
       "      <td>13.0</td>\n",
       "      <td>13.0</td>\n",
       "      <td>e</td>\n",
       "      <td>Casino</td>\n",
       "      <td>0</td>\n",
       "      <td>Jus et purées de fruits à base de concentrés 5...</td>\n",
       "      <td>France</td>\n",
       "      <td>0</td>\n",
       "      <td>...</td>\n",
       "      <td>0.00</td>\n",
       "      <td>0.00</td>\n",
       "      <td>12.00</td>\n",
       "      <td>(10.0, 15.0]</td>\n",
       "      <td>0.00000</td>\n",
       "      <td>0.0</td>\n",
       "      <td>0.0</td>\n",
       "      <td>3.0</td>\n",
       "      <td>Beverages</td>\n",
       "      <td>Sweetened beverages</td>\n",
       "    </tr>\n",
       "    <tr>\n",
       "      <th>105</th>\n",
       "      <td>Boisson aux jus de fruits à base de concentrés...</td>\n",
       "      <td>0</td>\n",
       "      <td>13.0</td>\n",
       "      <td>13.0</td>\n",
       "      <td>e</td>\n",
       "      <td>Casino,Les Doodingues</td>\n",
       "      <td>0</td>\n",
       "      <td>S. Eau - sucre - jus d'orange à base de concen...</td>\n",
       "      <td>France</td>\n",
       "      <td>0</td>\n",
       "      <td>...</td>\n",
       "      <td>0.00</td>\n",
       "      <td>0.00</td>\n",
       "      <td>10.00</td>\n",
       "      <td>(5.0, 10.0]</td>\n",
       "      <td>0.00000</td>\n",
       "      <td>0.0</td>\n",
       "      <td>0.0</td>\n",
       "      <td>4.0</td>\n",
       "      <td>Beverages</td>\n",
       "      <td>Sweetened beverages</td>\n",
       "    </tr>\n",
       "    <tr>\n",
       "      <th>128</th>\n",
       "      <td>Pur jus orange avec pulpe</td>\n",
       "      <td>0</td>\n",
       "      <td>12.0</td>\n",
       "      <td>12.0</td>\n",
       "      <td>e</td>\n",
       "      <td>Paquito</td>\n",
       "      <td>0</td>\n",
       "      <td>0</td>\n",
       "      <td>France</td>\n",
       "      <td>0</td>\n",
       "      <td>...</td>\n",
       "      <td>0.50</td>\n",
       "      <td>0.10</td>\n",
       "      <td>8.40</td>\n",
       "      <td>(5.0, 10.0]</td>\n",
       "      <td>0.00400</td>\n",
       "      <td>0.0</td>\n",
       "      <td>0.0</td>\n",
       "      <td>0.0</td>\n",
       "      <td>unknown</td>\n",
       "      <td>unknown</td>\n",
       "    </tr>\n",
       "    <tr>\n",
       "      <th>138</th>\n",
       "      <td>Lot 6 Recre 100% jus d'orange 20CL</td>\n",
       "      <td>0</td>\n",
       "      <td>10.0</td>\n",
       "      <td>10.0</td>\n",
       "      <td>e</td>\n",
       "      <td>0</td>\n",
       "      <td>0</td>\n",
       "      <td>0</td>\n",
       "      <td>France</td>\n",
       "      <td>Sans sucre ajouté, Sans colorants, Sans conser...</td>\n",
       "      <td>...</td>\n",
       "      <td>0.00</td>\n",
       "      <td>0.00</td>\n",
       "      <td>16.00</td>\n",
       "      <td>(10.0, 15.0]</td>\n",
       "      <td>0.00400</td>\n",
       "      <td>0.0</td>\n",
       "      <td>0.0</td>\n",
       "      <td>0.0</td>\n",
       "      <td>Beverages</td>\n",
       "      <td>Fruit juices</td>\n",
       "    </tr>\n",
       "    <tr>\n",
       "      <th>266</th>\n",
       "      <td>Le jus orange carotte</td>\n",
       "      <td>0</td>\n",
       "      <td>11.0</td>\n",
       "      <td>11.0</td>\n",
       "      <td>e</td>\n",
       "      <td>Monoprix</td>\n",
       "      <td>0</td>\n",
       "      <td>0</td>\n",
       "      <td>France</td>\n",
       "      <td>Sans conservateurs</td>\n",
       "      <td>...</td>\n",
       "      <td>0.00</td>\n",
       "      <td>0.00</td>\n",
       "      <td>8.80</td>\n",
       "      <td>(5.0, 10.0]</td>\n",
       "      <td>0.00000</td>\n",
       "      <td>0.0</td>\n",
       "      <td>0.0</td>\n",
       "      <td>0.0</td>\n",
       "      <td>unknown</td>\n",
       "      <td>unknown</td>\n",
       "    </tr>\n",
       "    <tr>\n",
       "      <th>274</th>\n",
       "      <td>Pur jus d’orange bio</td>\n",
       "      <td>0</td>\n",
       "      <td>13.0</td>\n",
       "      <td>13.0</td>\n",
       "      <td>e</td>\n",
       "      <td>Feria</td>\n",
       "      <td>0</td>\n",
       "      <td>0</td>\n",
       "      <td>France</td>\n",
       "      <td>Bio, Sans sucre ajouté, Sans colorants, Sans c...</td>\n",
       "      <td>...</td>\n",
       "      <td>0.18</td>\n",
       "      <td>0.00</td>\n",
       "      <td>9.20</td>\n",
       "      <td>(5.0, 10.0]</td>\n",
       "      <td>0.00000</td>\n",
       "      <td>0.0</td>\n",
       "      <td>0.0</td>\n",
       "      <td>0.0</td>\n",
       "      <td>unknown</td>\n",
       "      <td>unknown</td>\n",
       "    </tr>\n",
       "    <tr>\n",
       "      <th>284</th>\n",
       "      <td>Pur jus d'orange</td>\n",
       "      <td>0</td>\n",
       "      <td>10.0</td>\n",
       "      <td>10.0</td>\n",
       "      <td>e</td>\n",
       "      <td>Rochambeau</td>\n",
       "      <td>0</td>\n",
       "      <td>Jus d'orange, vitamine C.</td>\n",
       "      <td>France</td>\n",
       "      <td>0</td>\n",
       "      <td>...</td>\n",
       "      <td>0.00</td>\n",
       "      <td>0.00</td>\n",
       "      <td>9.40</td>\n",
       "      <td>(5.0, 10.0]</td>\n",
       "      <td>0.00000</td>\n",
       "      <td>0.0</td>\n",
       "      <td>0.0</td>\n",
       "      <td>1.0</td>\n",
       "      <td>Beverages</td>\n",
       "      <td>Unsweetened beverages</td>\n",
       "    </tr>\n",
       "    <tr>\n",
       "      <th>407</th>\n",
       "      <td>Nectar jus d'orange</td>\n",
       "      <td>6 x 20 cl</td>\n",
       "      <td>11.0</td>\n",
       "      <td>11.0</td>\n",
       "      <td>e</td>\n",
       "      <td>Tous Les Jours</td>\n",
       "      <td>0</td>\n",
       "      <td>Jus d'orange à base de jus concentré 50% - eau...</td>\n",
       "      <td>France</td>\n",
       "      <td>0</td>\n",
       "      <td>...</td>\n",
       "      <td>0.00</td>\n",
       "      <td>0.00</td>\n",
       "      <td>9.80</td>\n",
       "      <td>(5.0, 10.0]</td>\n",
       "      <td>0.00000</td>\n",
       "      <td>0.0</td>\n",
       "      <td>0.0</td>\n",
       "      <td>3.0</td>\n",
       "      <td>Beverages</td>\n",
       "      <td>Sweetened beverages</td>\n",
       "    </tr>\n",
       "    <tr>\n",
       "      <th>413</th>\n",
       "      <td>Pur jus d’orange pressé</td>\n",
       "      <td>0</td>\n",
       "      <td>13.0</td>\n",
       "      <td>13.0</td>\n",
       "      <td>e</td>\n",
       "      <td>0</td>\n",
       "      <td>0</td>\n",
       "      <td>0</td>\n",
       "      <td>France</td>\n",
       "      <td>0</td>\n",
       "      <td>...</td>\n",
       "      <td>0.10</td>\n",
       "      <td>0.10</td>\n",
       "      <td>10.00</td>\n",
       "      <td>(5.0, 10.0]</td>\n",
       "      <td>40.00000</td>\n",
       "      <td>0.0</td>\n",
       "      <td>0.0</td>\n",
       "      <td>0.0</td>\n",
       "      <td>Beverages</td>\n",
       "      <td>Fruit juices</td>\n",
       "    </tr>\n",
       "    <tr>\n",
       "      <th>426</th>\n",
       "      <td>Tropic Kiss jus d'orange</td>\n",
       "      <td>50 cl</td>\n",
       "      <td>11.0</td>\n",
       "      <td>11.0</td>\n",
       "      <td>e</td>\n",
       "      <td>Tropic kiss</td>\n",
       "      <td>0</td>\n",
       "      <td>Jus d'orange à base de concentré 100%</td>\n",
       "      <td>France</td>\n",
       "      <td>Sans colorants, 100 % fruits</td>\n",
       "      <td>...</td>\n",
       "      <td>0.10</td>\n",
       "      <td>0.00</td>\n",
       "      <td>7.40</td>\n",
       "      <td>(5.0, 10.0]</td>\n",
       "      <td>0.00000</td>\n",
       "      <td>0.0</td>\n",
       "      <td>0.0</td>\n",
       "      <td>1.0</td>\n",
       "      <td>Beverages</td>\n",
       "      <td>Unsweetened beverages</td>\n",
       "    </tr>\n",
       "    <tr>\n",
       "      <th>482</th>\n",
       "      <td>Bionina - Boisson gazeuse au jus d'orange</td>\n",
       "      <td>330 ml</td>\n",
       "      <td>15.0</td>\n",
       "      <td>15.0</td>\n",
       "      <td>e</td>\n",
       "      <td>Bionina</td>\n",
       "      <td>0</td>\n",
       "      <td>Eau minérale naturelle gazéifiée, jus d'orange...</td>\n",
       "      <td>France</td>\n",
       "      <td>Bio, Bio européen, Agriculture UE/Non UE, IT-B...</td>\n",
       "      <td>...</td>\n",
       "      <td>0.00</td>\n",
       "      <td>0.00</td>\n",
       "      <td>12.00</td>\n",
       "      <td>(10.0, 15.0]</td>\n",
       "      <td>0.01016</td>\n",
       "      <td>0.0</td>\n",
       "      <td>0.0</td>\n",
       "      <td>3.0</td>\n",
       "      <td>Beverages</td>\n",
       "      <td>Sweetened beverages</td>\n",
       "    </tr>\n",
       "    <tr>\n",
       "      <th>483</th>\n",
       "      <td>Samba jus d’orange frais</td>\n",
       "      <td>0</td>\n",
       "      <td>19.0</td>\n",
       "      <td>19.0</td>\n",
       "      <td>e</td>\n",
       "      <td>Grosbuch</td>\n",
       "      <td>0</td>\n",
       "      <td>Orange 100%</td>\n",
       "      <td>France</td>\n",
       "      <td>Sans sucre ajouté</td>\n",
       "      <td>...</td>\n",
       "      <td>0.52</td>\n",
       "      <td>0.01</td>\n",
       "      <td>16.64</td>\n",
       "      <td>(15.0, 20.0]</td>\n",
       "      <td>3.89600</td>\n",
       "      <td>0.0</td>\n",
       "      <td>0.0</td>\n",
       "      <td>1.0</td>\n",
       "      <td>Beverages</td>\n",
       "      <td>Unsweetened beverages</td>\n",
       "    </tr>\n",
       "    <tr>\n",
       "      <th>500</th>\n",
       "      <td>Orange - 8% de jus d'orange</td>\n",
       "      <td>1,5 l</td>\n",
       "      <td>17.0</td>\n",
       "      <td>17.0</td>\n",
       "      <td>e</td>\n",
       "      <td>Kas</td>\n",
       "      <td>0</td>\n",
       "      <td>Eau gazéifiée, sucre, jus d'orange à base de c...</td>\n",
       "      <td>France</td>\n",
       "      <td>0</td>\n",
       "      <td>...</td>\n",
       "      <td>0.00</td>\n",
       "      <td>0.00</td>\n",
       "      <td>12.60</td>\n",
       "      <td>(10.0, 15.0]</td>\n",
       "      <td>0.00000</td>\n",
       "      <td>0.0</td>\n",
       "      <td>0.0</td>\n",
       "      <td>4.0</td>\n",
       "      <td>Beverages</td>\n",
       "      <td>Sweetened beverages</td>\n",
       "    </tr>\n",
       "  </tbody>\n",
       "</table>\n",
       "<p>18 rows × 21 columns</p>\n",
       "</div>"
      ],
      "text/plain": [
       "                                          product_name   quantity  \\\n",
       "31                     jus d'orange  💯% fruits pressés         1L   \n",
       "43                                  Trimm jus d'orange          0   \n",
       "60               Boisson aux jus d'orange et de citron      0,2 L   \n",
       "88                  Le pur jus JOKER orange clémentine          0   \n",
       "99   Nectar d'orange à base de jus concentré Teneur...        2 l   \n",
       "100  Nectar orange pêche abricot à base de jus et d...        1 l   \n",
       "105  Boisson aux jus de fruits à base de concentrés...          0   \n",
       "128                          Pur jus orange avec pulpe          0   \n",
       "138                 Lot 6 Recre 100% jus d'orange 20CL          0   \n",
       "266                              Le jus orange carotte          0   \n",
       "274                               Pur jus d’orange bio          0   \n",
       "284                                   Pur jus d'orange          0   \n",
       "407                                Nectar jus d'orange  6 x 20 cl   \n",
       "413                            Pur jus d’orange pressé          0   \n",
       "426                           Tropic Kiss jus d'orange      50 cl   \n",
       "482          Bionina - Boisson gazeuse au jus d'orange     330 ml   \n",
       "483                           Samba jus d’orange frais          0   \n",
       "500                        Orange - 8% de jus d'orange      1,5 l   \n",
       "\n",
       "     nutrition-score-fr_100g  nutriscore_score nutriscore_grade  \\\n",
       "31                      12.0              12.0                e   \n",
       "43                      14.0              14.0                e   \n",
       "60                      11.0              11.0                e   \n",
       "88                      14.0              14.0                e   \n",
       "99                      10.0              10.0                e   \n",
       "100                     13.0              13.0                e   \n",
       "105                     13.0              13.0                e   \n",
       "128                     12.0              12.0                e   \n",
       "138                     10.0              10.0                e   \n",
       "266                     11.0              11.0                e   \n",
       "274                     13.0              13.0                e   \n",
       "284                     10.0              10.0                e   \n",
       "407                     11.0              11.0                e   \n",
       "413                     13.0              13.0                e   \n",
       "426                     11.0              11.0                e   \n",
       "482                     15.0              15.0                e   \n",
       "483                     19.0              19.0                e   \n",
       "500                     17.0              17.0                e   \n",
       "\n",
       "                    brands origins  \\\n",
       "31                   joker       0   \n",
       "43                   Trimm       0   \n",
       "60                  Fruima       0   \n",
       "88                   joker       0   \n",
       "99                  Casino       0   \n",
       "100                 Casino       0   \n",
       "105  Casino,Les Doodingues       0   \n",
       "128                Paquito       0   \n",
       "138                      0       0   \n",
       "266               Monoprix       0   \n",
       "274                  Feria       0   \n",
       "284             Rochambeau       0   \n",
       "407         Tous Les Jours       0   \n",
       "413                      0       0   \n",
       "426            Tropic kiss       0   \n",
       "482                Bionina       0   \n",
       "483               Grosbuch       0   \n",
       "500                    Kas       0   \n",
       "\n",
       "                                      ingredients_text countries  \\\n",
       "31                                                   A    France   \n",
       "43   Jus d orange Teneur en fruits : 100 % Sans col...    France   \n",
       "60   Eau, jus d'orange à base de concentré 18%, suc...    France   \n",
       "88                                                   0    France   \n",
       "99   Jus d'orange à base de jus d'orange concentré ...    France   \n",
       "100  Jus et purées de fruits à base de concentrés 5...    France   \n",
       "105  S. Eau - sucre - jus d'orange à base de concen...    France   \n",
       "128                                                  0    France   \n",
       "138                                                  0    France   \n",
       "266                                                  0    France   \n",
       "274                                                  0    France   \n",
       "284                          Jus d'orange, vitamine C.    France   \n",
       "407  Jus d'orange à base de jus concentré 50% - eau...    France   \n",
       "413                                                  0    France   \n",
       "426              Jus d'orange à base de concentré 100%    France   \n",
       "482  Eau minérale naturelle gazéifiée, jus d'orange...    France   \n",
       "483                                        Orange 100%    France   \n",
       "500  Eau gazéifiée, sucre, jus d'orange à base de c...    France   \n",
       "\n",
       "                                                labels  ...  fat_100g  \\\n",
       "31                            Nutriscore, Nutriscore C  ...      0.00   \n",
       "43                  Sans colorants, Sans conservateurs  ...      0.20   \n",
       "60                       en:FSC, FSC Mix, FSC C105544   ...      0.50   \n",
       "88                                                   0  ...      0.00   \n",
       "99   Point Vert, Sans colorants, Sans conservateurs...  ...      0.00   \n",
       "100                                                  0  ...      0.00   \n",
       "105                                                  0  ...      0.00   \n",
       "128                                                  0  ...      0.50   \n",
       "138  Sans sucre ajouté, Sans colorants, Sans conser...  ...      0.00   \n",
       "266                                 Sans conservateurs  ...      0.00   \n",
       "274  Bio, Sans sucre ajouté, Sans colorants, Sans c...  ...      0.18   \n",
       "284                                                  0  ...      0.00   \n",
       "407                                                  0  ...      0.00   \n",
       "413                                                  0  ...      0.10   \n",
       "426                       Sans colorants, 100 % fruits  ...      0.10   \n",
       "482  Bio, Bio européen, Agriculture UE/Non UE, IT-B...  ...      0.00   \n",
       "483                                  Sans sucre ajouté  ...      0.52   \n",
       "500                                                  0  ...      0.00   \n",
       "\n",
       "     saturated-fat_100g  carbohydrates_100g   sugars_100g sodium_100g  \\\n",
       "31                 0.00                8.60   (5.0, 10.0]     0.00500   \n",
       "43                 0.00               11.00   (5.0, 10.0]     0.00000   \n",
       "60                 0.10                8.20   (5.0, 10.0]     0.00400   \n",
       "88                 0.00               10.50  (10.0, 15.0]     0.00000   \n",
       "99                 0.00               10.00   (5.0, 10.0]     0.00000   \n",
       "100                0.00               12.00  (10.0, 15.0]     0.00000   \n",
       "105                0.00               10.00   (5.0, 10.0]     0.00000   \n",
       "128                0.10                8.40   (5.0, 10.0]     0.00400   \n",
       "138                0.00               16.00  (10.0, 15.0]     0.00400   \n",
       "266                0.00                8.80   (5.0, 10.0]     0.00000   \n",
       "274                0.00                9.20   (5.0, 10.0]     0.00000   \n",
       "284                0.00                9.40   (5.0, 10.0]     0.00000   \n",
       "407                0.00                9.80   (5.0, 10.0]     0.00000   \n",
       "413                0.10               10.00   (5.0, 10.0]    40.00000   \n",
       "426                0.00                7.40   (5.0, 10.0]     0.00000   \n",
       "482                0.00               12.00  (10.0, 15.0]     0.01016   \n",
       "483                0.01               16.64  (15.0, 20.0]     3.89600   \n",
       "500                0.00               12.60  (10.0, 15.0]     0.00000   \n",
       "\n",
       "     additives  vitamin-c_100g  nova_group  pnns_groups_1  \\\n",
       "31         0.0             0.0         0.0        unknown   \n",
       "43         0.0             0.0         0.0      Beverages   \n",
       "60         0.0             0.0         4.0      Beverages   \n",
       "88         0.0             0.0         0.0        unknown   \n",
       "99         0.0             0.0         3.0      Beverages   \n",
       "100        0.0             0.0         3.0      Beverages   \n",
       "105        0.0             0.0         4.0      Beverages   \n",
       "128        0.0             0.0         0.0        unknown   \n",
       "138        0.0             0.0         0.0      Beverages   \n",
       "266        0.0             0.0         0.0        unknown   \n",
       "274        0.0             0.0         0.0        unknown   \n",
       "284        0.0             0.0         1.0      Beverages   \n",
       "407        0.0             0.0         3.0      Beverages   \n",
       "413        0.0             0.0         0.0      Beverages   \n",
       "426        0.0             0.0         1.0      Beverages   \n",
       "482        0.0             0.0         3.0      Beverages   \n",
       "483        0.0             0.0         1.0      Beverages   \n",
       "500        0.0             0.0         4.0      Beverages   \n",
       "\n",
       "             pnns_groups_2  \n",
       "31                 unknown  \n",
       "43   Unsweetened beverages  \n",
       "60     Sweetened beverages  \n",
       "88                 unknown  \n",
       "99     Sweetened beverages  \n",
       "100    Sweetened beverages  \n",
       "105    Sweetened beverages  \n",
       "128                unknown  \n",
       "138           Fruit juices  \n",
       "266                unknown  \n",
       "274                unknown  \n",
       "284  Unsweetened beverages  \n",
       "407    Sweetened beverages  \n",
       "413           Fruit juices  \n",
       "426  Unsweetened beverages  \n",
       "482    Sweetened beverages  \n",
       "483  Unsweetened beverages  \n",
       "500    Sweetened beverages  \n",
       "\n",
       "[18 rows x 21 columns]"
      ]
     },
     "execution_count": 42,
     "metadata": {},
     "output_type": "execute_result"
    }
   ],
   "source": [
    "df_E"
   ]
  }
 ],
 "metadata": {
  "kernelspec": {
   "display_name": "Python 3",
   "language": "python",
   "name": "python3"
  },
  "language_info": {
   "codemirror_mode": {
    "name": "ipython",
    "version": 3
   },
   "file_extension": ".py",
   "mimetype": "text/x-python",
   "name": "python",
   "nbconvert_exporter": "python",
   "pygments_lexer": "ipython3",
   "version": "3.8.8"
  }
 },
 "nbformat": 4,
 "nbformat_minor": 5
}