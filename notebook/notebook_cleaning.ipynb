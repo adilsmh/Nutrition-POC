{
 "cells": [
  {
   "cell_type": "markdown",
   "id": "44c69797",
   "metadata": {},
   "source": [
    "# 🍊 Orange is the new black"
   ]
  },
  {
   "cell_type": "markdown",
   "id": "ced7dd94",
   "metadata": {},
   "source": [
    "Import des librairies"
   ]
  },
  {
   "cell_type": "code",
   "execution_count": 1,
   "id": "8452fb0c",
   "metadata": {},
   "outputs": [],
   "source": [
    "import numpy as np\n",
    "import pandas as pd\n",
    "import matplotlib.pyplot as plt\n",
    "import seaborn as sns\n",
    "\n",
    "from sqlalchemy import create_engine\n",
    "\n",
    "import warnings\n",
    "warnings.filterwarnings(\"ignore\")"
   ]
  },
  {
   "cell_type": "markdown",
   "id": "78402bfb",
   "metadata": {},
   "source": [
    "# Import data from SQL database "
   ]
  },
  {
   "cell_type": "code",
   "execution_count": 39,
   "id": "bb983621",
   "metadata": {},
   "outputs": [],
   "source": [
    "def import_db():\n",
    "    # database connection\n",
    "    hostname=\"127.0.0.1\"\n",
    "    dbname=\"openfood\"\n",
    "    uname=\"root\"\n",
    "    pwd=\"root\"\n",
    "\n",
    "    # create SQLAlchemy engine to connect to MySQL Database\n",
    "    engine = create_engine(\"mysql+pymysql://{user}:{pw}@{host}/{db}\".format(host=hostname, db=dbname, user=uname, pw=pwd))\n",
    "\n",
    "    # import SQL table into dataframe\n",
    "    df = pd.read_sql_table('products', engine)\n",
    "\n",
    "    # missing values check\n",
    "    if df.isnull().sum().sum() > 0:\n",
    "        df.dropna(inplace=True)\n",
    "    else:\n",
    "        return df\n",
    "\n",
    "    return df\n"
   ]
  },
  {
   "cell_type": "code",
   "execution_count": 40,
   "outputs": [],
   "source": [
    "df = import_db()"
   ],
   "metadata": {
    "collapsed": false,
    "pycharm": {
     "name": "#%%\n"
    }
   }
  },
  {
   "cell_type": "markdown",
   "id": "0c868284",
   "metadata": {},
   "source": [
    "# 🧹 Cleaning notebook"
   ]
  },
  {
   "cell_type": "markdown",
   "id": "0a10c257",
   "metadata": {},
   "source": [
    "Nous avons commencé le nettoyage dans le notebook SQL :\n",
    "- Nous avons supprimé manuellement quelques colonnes jugées inutiles pour notre analyse (exemple : url de l'image)\n",
    "- Nous avons converti et gardé uniquement les valeurs dont les données 'countries' sont la France\n",
    "- Nous avons importé la BD en droppant toutes les instances de données avec des valeurs nulles ou invalides (NaN)\n",
    "\n",
    "Dans ce notebook :\n",
    "- Nous isolons notre cible, le jus d'orange dans 'product_name'\n",
    "- Nous procederons à l'extration de cette BD en format CSV pour l'exploration qui aura lieu dans le notebook_EDA.\n"
   ]
  },
  {
   "cell_type": "code",
   "execution_count": 43,
   "outputs": [],
   "source": [
    "ingredients = ['jus', 'orange']\n",
    "\n",
    "def get_product(df, ingredients_lst):\n",
    "    # isolate all rows with \"product name is \"jus\" & \"orange\"\n",
    "    orange_df = df[(df['product_name'].str.contains(ingredients_lst[0], na=False)) & (df['product_name'].str.contains(ingredients_lst[1], na=False))]\n",
    "\n",
    "    # export CSV\n",
    "    orange_df.to_csv('../data/product.csv', index=False)"
   ],
   "metadata": {
    "collapsed": false,
    "pycharm": {
     "name": "#%%\n"
    }
   }
  },
  {
   "cell_type": "code",
   "execution_count": 44,
   "outputs": [],
   "source": [
    "get_product(df, ingredients)"
   ],
   "metadata": {
    "collapsed": false,
    "pycharm": {
     "name": "#%%\n"
    }
   }
  }
 ],
 "metadata": {
  "kernelspec": {
   "display_name": "Python 3",
   "language": "python",
   "name": "python3"
  },
  "language_info": {
   "codemirror_mode": {
    "name": "ipython",
    "version": 3
   },
   "file_extension": ".py",
   "mimetype": "text/x-python",
   "name": "python",
   "nbconvert_exporter": "python",
   "pygments_lexer": "ipython3",
   "version": "3.8.8"
  }
 },
 "nbformat": 4,
 "nbformat_minor": 5
}